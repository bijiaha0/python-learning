{
 "cells": [
  {
   "cell_type": "markdown",
   "metadata": {},
   "source": [
    "##  pandas是基于Numpy构建的。目的是以numpy为中心的应用变得更加的简单"
   ]
  },
  {
   "cell_type": "code",
   "execution_count": 3,
   "metadata": {},
   "outputs": [],
   "source": [
    "import pandas as pd\n",
    "from pandas import Series,DataFrame"
   ]
  },
  {
   "cell_type": "markdown",
   "metadata": {},
   "source": [
    "## Series类型\n",
    "#### 这个类型就类似于一维数组对象。 它是由一组数据以及一组与之相关的数据标签(索引)组成的。"
   ]
  },
  {
   "cell_type": "code",
   "execution_count": 4,
   "metadata": {},
   "outputs": [
    {
     "name": "stdout",
     "output_type": "stream",
     "text": [
      "0    1\n",
      "1    2\n",
      "2    3\n",
      "3    4\n",
      "4    5\n",
      "5    6\n",
      "dtype: int64\n"
     ]
    }
   ],
   "source": [
    "obj = Series([1,2,3,4,5,6])\n",
    "print(obj)"
   ]
  },
  {
   "cell_type": "code",
   "execution_count": 5,
   "metadata": {},
   "outputs": [
    {
     "name": "stdout",
     "output_type": "stream",
     "text": [
      "[1 2 3 4 5 6]\n"
     ]
    }
   ],
   "source": [
    "print(obj.values)"
   ]
  },
  {
   "cell_type": "code",
   "execution_count": 6,
   "metadata": {},
   "outputs": [
    {
     "data": {
      "text/plain": [
       "RangeIndex(start=0, stop=6, step=1)"
      ]
     },
     "execution_count": 6,
     "metadata": {},
     "output_type": "execute_result"
    }
   ],
   "source": [
    "obj.index"
   ]
  },
  {
   "cell_type": "markdown",
   "metadata": {},
   "source": [
    "### 自定义索引"
   ]
  },
  {
   "cell_type": "code",
   "execution_count": 8,
   "metadata": {},
   "outputs": [
    {
     "data": {
      "text/plain": [
       "1    a\n",
       "2    b\n",
       "3    c\n",
       "4    d\n",
       "5    e\n",
       "dtype: object"
      ]
     },
     "execution_count": 8,
     "metadata": {},
     "output_type": "execute_result"
    }
   ],
   "source": [
    "obj = Series(['a','b','c','d','e'], index=[1,2,3,4,5])\n",
    "obj"
   ]
  },
  {
   "cell_type": "code",
   "execution_count": 9,
   "metadata": {},
   "outputs": [
    {
     "data": {
      "text/plain": [
       "'a'"
      ]
     },
     "execution_count": 9,
     "metadata": {},
     "output_type": "execute_result"
    }
   ],
   "source": [
    "obj[1]"
   ]
  },
  {
   "cell_type": "code",
   "execution_count": 10,
   "metadata": {},
   "outputs": [
    {
     "data": {
      "text/plain": [
       "a    100000\n",
       "b     20000\n",
       "c     30000\n",
       "dtype: int64"
      ]
     },
     "execution_count": 10,
     "metadata": {},
     "output_type": "execute_result"
    }
   ],
   "source": [
    "data = {'a':100000, 'b':20000, 'c':30000}\n",
    "obj = Series(data)\n",
    "obj"
   ]
  },
  {
   "cell_type": "code",
   "execution_count": 11,
   "metadata": {},
   "outputs": [
    {
     "data": {
      "text/plain": [
       "100000"
      ]
     },
     "execution_count": 11,
     "metadata": {},
     "output_type": "execute_result"
    }
   ],
   "source": [
    "obj['a']"
   ]
  },
  {
   "cell_type": "code",
   "execution_count": 13,
   "metadata": {},
   "outputs": [
    {
     "data": {
      "text/plain": [
       "a    100000\n",
       "c     30000\n",
       "dtype: int64"
      ]
     },
     "execution_count": 13,
     "metadata": {},
     "output_type": "execute_result"
    }
   ],
   "source": [
    "keys = ['a','c']\n",
    "obj_1 = Series(data, index=keys)\n",
    "obj_1"
   ]
  },
  {
   "cell_type": "markdown",
   "metadata": {},
   "source": [
    "### 缺失数据处理"
   ]
  },
  {
   "cell_type": "code",
   "execution_count": 14,
   "metadata": {},
   "outputs": [
    {
     "data": {
      "text/plain": [
       "a    False\n",
       "b    False\n",
       "c    False\n",
       "dtype: bool"
      ]
     },
     "execution_count": 14,
     "metadata": {},
     "output_type": "execute_result"
    }
   ],
   "source": [
    "data = {'a':100000, 'b':20000, 'c':30000}\n",
    "obj = Series(data)\n",
    "pd.isnull(obj)"
   ]
  },
  {
   "cell_type": "code",
   "execution_count": 15,
   "metadata": {},
   "outputs": [
    {
     "data": {
      "text/plain": [
       "a    True\n",
       "b    True\n",
       "c    True\n",
       "dtype: bool"
      ]
     },
     "execution_count": 15,
     "metadata": {},
     "output_type": "execute_result"
    }
   ],
   "source": [
    "pd.notnull(obj)"
   ]
  },
  {
   "cell_type": "code",
   "execution_count": 17,
   "metadata": {},
   "outputs": [
    {
     "data": {
      "text/plain": [
       "LiLei         NaN\n",
       "HanMeimei    25.0\n",
       "Tony          NaN\n",
       "Jack         50.0\n",
       "dtype: float64"
      ]
     },
     "execution_count": 17,
     "metadata": {},
     "output_type": "execute_result"
    }
   ],
   "source": [
    "data = {'LiLei':None, 'HanMeimei':25, 'Tony':None, 'Jack':50}\n",
    "obj = Series(data)\n",
    "obj\n",
    "\n",
    "##  None   null \"\""
   ]
  },
  {
   "cell_type": "code",
   "execution_count": 18,
   "metadata": {},
   "outputs": [
    {
     "data": {
      "text/plain": [
       "LiLei         NaN\n",
       "HanMeimei    25.0\n",
       "Tony          NaN\n",
       "Jack         50.0\n",
       "Name: NameAndAge, dtype: float64"
      ]
     },
     "execution_count": 18,
     "metadata": {},
     "output_type": "execute_result"
    }
   ],
   "source": [
    "obj.name = 'NameAndAge'\n",
    "obj"
   ]
  },
  {
   "cell_type": "code",
   "execution_count": 19,
   "metadata": {},
   "outputs": [
    {
     "data": {
      "text/plain": [
       "姓名\n",
       "LiLei         NaN\n",
       "HanMeimei    25.0\n",
       "Tony          NaN\n",
       "Jack         50.0\n",
       "Name: NameAndAge, dtype: float64"
      ]
     },
     "execution_count": 19,
     "metadata": {},
     "output_type": "execute_result"
    }
   ],
   "source": [
    "obj.index.name = \"姓名\"\n",
    "obj"
   ]
  },
  {
   "cell_type": "markdown",
   "metadata": {},
   "source": [
    "### DataFrame 类型\n",
    "####  DataFrame 是一个表格型的数据结构，它含有一组有序的列，每列可以是不同值的类型，数值、字符串、布尔值都可以\n",
    "#### DataFrame 本身有行索引，也有列索引\n",
    "####  DataFrame可以理解成是由Series组成的字典"
   ]
  },
  {
   "cell_type": "code",
   "execution_count": 21,
   "metadata": {},
   "outputs": [
    {
     "data": {
      "text/html": [
       "<div>\n",
       "<style scoped>\n",
       "    .dataframe tbody tr th:only-of-type {\n",
       "        vertical-align: middle;\n",
       "    }\n",
       "\n",
       "    .dataframe tbody tr th {\n",
       "        vertical-align: top;\n",
       "    }\n",
       "\n",
       "    .dataframe thead th {\n",
       "        text-align: right;\n",
       "    }\n",
       "</style>\n",
       "<table border=\"1\" class=\"dataframe\">\n",
       "  <thead>\n",
       "    <tr style=\"text-align: right;\">\n",
       "      <th></th>\n",
       "      <th>60年代</th>\n",
       "      <th>70年代</th>\n",
       "      <th>80年代</th>\n",
       "    </tr>\n",
       "  </thead>\n",
       "  <tbody>\n",
       "    <tr>\n",
       "      <th>0</th>\n",
       "      <td>狗子</td>\n",
       "      <td>卫国</td>\n",
       "      <td>李雷</td>\n",
       "    </tr>\n",
       "    <tr>\n",
       "      <th>1</th>\n",
       "      <td>嘎子</td>\n",
       "      <td>爱国</td>\n",
       "      <td>韩梅梅</td>\n",
       "    </tr>\n",
       "    <tr>\n",
       "      <th>2</th>\n",
       "      <td>二妞</td>\n",
       "      <td>建国</td>\n",
       "      <td>张伟</td>\n",
       "    </tr>\n",
       "  </tbody>\n",
       "</table>\n",
       "</div>"
      ],
      "text/plain": [
       "  60年代 70年代 80年代\n",
       "0   狗子   卫国   李雷\n",
       "1   嘎子   爱国  韩梅梅\n",
       "2   二妞   建国   张伟"
      ]
     },
     "execution_count": 21,
     "metadata": {},
     "output_type": "execute_result"
    }
   ],
   "source": [
    "data = {\n",
    "    '60年代': ['狗子','嘎子','二妞'],\n",
    "    '70年代': ['卫国','爱国','建国'],\n",
    "    '80年代': ['李雷','韩梅梅','张伟'],\n",
    "}\n",
    "frame_data = DataFrame(data)\n",
    "frame_data"
   ]
  },
  {
   "cell_type": "code",
   "execution_count": 22,
   "metadata": {},
   "outputs": [
    {
     "data": {
      "text/plain": [
       "0    卫国\n",
       "1    爱国\n",
       "2    建国\n",
       "Name: 70年代, dtype: object"
      ]
     },
     "execution_count": 22,
     "metadata": {},
     "output_type": "execute_result"
    }
   ],
   "source": [
    "frame_data['70年代']"
   ]
  },
  {
   "cell_type": "code",
   "execution_count": 24,
   "metadata": {},
   "outputs": [
    {
     "data": {
      "text/plain": [
       "DatetimeIndex(['2019-07-01', '2019-07-02', '2019-07-03', '2019-07-04',\n",
       "               '2019-07-05', '2019-07-06'],\n",
       "              dtype='datetime64[ns]', freq='D')"
      ]
     },
     "execution_count": 24,
     "metadata": {},
     "output_type": "execute_result"
    }
   ],
   "source": [
    "import numpy as np\n",
    "dates = pd.date_range('20190701', periods=6)\n",
    "dates"
   ]
  },
  {
   "cell_type": "code",
   "execution_count": 25,
   "metadata": {},
   "outputs": [
    {
     "data": {
      "text/html": [
       "<div>\n",
       "<style scoped>\n",
       "    .dataframe tbody tr th:only-of-type {\n",
       "        vertical-align: middle;\n",
       "    }\n",
       "\n",
       "    .dataframe tbody tr th {\n",
       "        vertical-align: top;\n",
       "    }\n",
       "\n",
       "    .dataframe thead th {\n",
       "        text-align: right;\n",
       "    }\n",
       "</style>\n",
       "<table border=\"1\" class=\"dataframe\">\n",
       "  <thead>\n",
       "    <tr style=\"text-align: right;\">\n",
       "      <th></th>\n",
       "      <th>A</th>\n",
       "      <th>B</th>\n",
       "      <th>C</th>\n",
       "      <th>D</th>\n",
       "    </tr>\n",
       "  </thead>\n",
       "  <tbody>\n",
       "    <tr>\n",
       "      <th>2019-07-01</th>\n",
       "      <td>0.644014</td>\n",
       "      <td>0.882428</td>\n",
       "      <td>0.688674</td>\n",
       "      <td>0.606004</td>\n",
       "    </tr>\n",
       "    <tr>\n",
       "      <th>2019-07-02</th>\n",
       "      <td>0.612072</td>\n",
       "      <td>0.058119</td>\n",
       "      <td>0.080613</td>\n",
       "      <td>0.143736</td>\n",
       "    </tr>\n",
       "    <tr>\n",
       "      <th>2019-07-03</th>\n",
       "      <td>0.206858</td>\n",
       "      <td>0.262666</td>\n",
       "      <td>0.330462</td>\n",
       "      <td>0.561205</td>\n",
       "    </tr>\n",
       "    <tr>\n",
       "      <th>2019-07-04</th>\n",
       "      <td>0.516505</td>\n",
       "      <td>0.480064</td>\n",
       "      <td>0.618071</td>\n",
       "      <td>0.934153</td>\n",
       "    </tr>\n",
       "    <tr>\n",
       "      <th>2019-07-05</th>\n",
       "      <td>0.239501</td>\n",
       "      <td>0.528001</td>\n",
       "      <td>0.287428</td>\n",
       "      <td>0.483968</td>\n",
       "    </tr>\n",
       "    <tr>\n",
       "      <th>2019-07-06</th>\n",
       "      <td>0.723824</td>\n",
       "      <td>0.138506</td>\n",
       "      <td>0.060931</td>\n",
       "      <td>0.520513</td>\n",
       "    </tr>\n",
       "  </tbody>\n",
       "</table>\n",
       "</div>"
      ],
      "text/plain": [
       "                   A         B         C         D\n",
       "2019-07-01  0.644014  0.882428  0.688674  0.606004\n",
       "2019-07-02  0.612072  0.058119  0.080613  0.143736\n",
       "2019-07-03  0.206858  0.262666  0.330462  0.561205\n",
       "2019-07-04  0.516505  0.480064  0.618071  0.934153\n",
       "2019-07-05  0.239501  0.528001  0.287428  0.483968\n",
       "2019-07-06  0.723824  0.138506  0.060931  0.520513"
      ]
     },
     "execution_count": 25,
     "metadata": {},
     "output_type": "execute_result"
    }
   ],
   "source": [
    "df = pd.DataFrame(np.random.rand(6,4), index=dates, columns = list('ABCD'))\n",
    "\n",
    "df\n"
   ]
  },
  {
   "cell_type": "code",
   "execution_count": 26,
   "metadata": {},
   "outputs": [
    {
     "data": {
      "text/html": [
       "<div>\n",
       "<style scoped>\n",
       "    .dataframe tbody tr th:only-of-type {\n",
       "        vertical-align: middle;\n",
       "    }\n",
       "\n",
       "    .dataframe tbody tr th {\n",
       "        vertical-align: top;\n",
       "    }\n",
       "\n",
       "    .dataframe thead th {\n",
       "        text-align: right;\n",
       "    }\n",
       "</style>\n",
       "<table border=\"1\" class=\"dataframe\">\n",
       "  <thead>\n",
       "    <tr style=\"text-align: right;\">\n",
       "      <th></th>\n",
       "      <th>2019-07-01 00:00:00</th>\n",
       "      <th>2019-07-02 00:00:00</th>\n",
       "      <th>2019-07-03 00:00:00</th>\n",
       "      <th>2019-07-04 00:00:00</th>\n",
       "      <th>2019-07-05 00:00:00</th>\n",
       "      <th>2019-07-06 00:00:00</th>\n",
       "    </tr>\n",
       "  </thead>\n",
       "  <tbody>\n",
       "    <tr>\n",
       "      <th>A</th>\n",
       "      <td>0.644014</td>\n",
       "      <td>0.612072</td>\n",
       "      <td>0.206858</td>\n",
       "      <td>0.516505</td>\n",
       "      <td>0.239501</td>\n",
       "      <td>0.723824</td>\n",
       "    </tr>\n",
       "    <tr>\n",
       "      <th>B</th>\n",
       "      <td>0.882428</td>\n",
       "      <td>0.058119</td>\n",
       "      <td>0.262666</td>\n",
       "      <td>0.480064</td>\n",
       "      <td>0.528001</td>\n",
       "      <td>0.138506</td>\n",
       "    </tr>\n",
       "    <tr>\n",
       "      <th>C</th>\n",
       "      <td>0.688674</td>\n",
       "      <td>0.080613</td>\n",
       "      <td>0.330462</td>\n",
       "      <td>0.618071</td>\n",
       "      <td>0.287428</td>\n",
       "      <td>0.060931</td>\n",
       "    </tr>\n",
       "    <tr>\n",
       "      <th>D</th>\n",
       "      <td>0.606004</td>\n",
       "      <td>0.143736</td>\n",
       "      <td>0.561205</td>\n",
       "      <td>0.934153</td>\n",
       "      <td>0.483968</td>\n",
       "      <td>0.520513</td>\n",
       "    </tr>\n",
       "  </tbody>\n",
       "</table>\n",
       "</div>"
      ],
      "text/plain": [
       "   2019-07-01  2019-07-02  2019-07-03  2019-07-04  2019-07-05  2019-07-06\n",
       "A    0.644014    0.612072    0.206858    0.516505    0.239501    0.723824\n",
       "B    0.882428    0.058119    0.262666    0.480064    0.528001    0.138506\n",
       "C    0.688674    0.080613    0.330462    0.618071    0.287428    0.060931\n",
       "D    0.606004    0.143736    0.561205    0.934153    0.483968    0.520513"
      ]
     },
     "execution_count": 26,
     "metadata": {},
     "output_type": "execute_result"
    }
   ],
   "source": [
    "df.T"
   ]
  },
  {
   "cell_type": "code",
   "execution_count": 27,
   "metadata": {},
   "outputs": [
    {
     "data": {
      "text/html": [
       "<div>\n",
       "<style scoped>\n",
       "    .dataframe tbody tr th:only-of-type {\n",
       "        vertical-align: middle;\n",
       "    }\n",
       "\n",
       "    .dataframe tbody tr th {\n",
       "        vertical-align: top;\n",
       "    }\n",
       "\n",
       "    .dataframe thead th {\n",
       "        text-align: right;\n",
       "    }\n",
       "</style>\n",
       "<table border=\"1\" class=\"dataframe\">\n",
       "  <thead>\n",
       "    <tr style=\"text-align: right;\">\n",
       "      <th></th>\n",
       "      <th>A</th>\n",
       "      <th>B</th>\n",
       "      <th>C</th>\n",
       "      <th>D</th>\n",
       "    </tr>\n",
       "  </thead>\n",
       "  <tbody>\n",
       "    <tr>\n",
       "      <th>2019-07-01</th>\n",
       "      <td>0.644014</td>\n",
       "      <td>0.882428</td>\n",
       "      <td>0.688674</td>\n",
       "      <td>0.606004</td>\n",
       "    </tr>\n",
       "    <tr>\n",
       "      <th>2019-07-02</th>\n",
       "      <td>0.612072</td>\n",
       "      <td>0.058119</td>\n",
       "      <td>0.080613</td>\n",
       "      <td>0.143736</td>\n",
       "    </tr>\n",
       "    <tr>\n",
       "      <th>2019-07-03</th>\n",
       "      <td>0.206858</td>\n",
       "      <td>0.262666</td>\n",
       "      <td>0.330462</td>\n",
       "      <td>0.561205</td>\n",
       "    </tr>\n",
       "  </tbody>\n",
       "</table>\n",
       "</div>"
      ],
      "text/plain": [
       "                   A         B         C         D\n",
       "2019-07-01  0.644014  0.882428  0.688674  0.606004\n",
       "2019-07-02  0.612072  0.058119  0.080613  0.143736\n",
       "2019-07-03  0.206858  0.262666  0.330462  0.561205"
      ]
     },
     "execution_count": 27,
     "metadata": {},
     "output_type": "execute_result"
    }
   ],
   "source": [
    "df['20190701':'20190703']"
   ]
  },
  {
   "cell_type": "code",
   "execution_count": 28,
   "metadata": {},
   "outputs": [
    {
     "data": {
      "text/html": [
       "<div>\n",
       "<style scoped>\n",
       "    .dataframe tbody tr th:only-of-type {\n",
       "        vertical-align: middle;\n",
       "    }\n",
       "\n",
       "    .dataframe tbody tr th {\n",
       "        vertical-align: top;\n",
       "    }\n",
       "\n",
       "    .dataframe thead th {\n",
       "        text-align: right;\n",
       "    }\n",
       "</style>\n",
       "<table border=\"1\" class=\"dataframe\">\n",
       "  <thead>\n",
       "    <tr style=\"text-align: right;\">\n",
       "      <th></th>\n",
       "      <th>A</th>\n",
       "      <th>B</th>\n",
       "    </tr>\n",
       "  </thead>\n",
       "  <tbody>\n",
       "    <tr>\n",
       "      <th>2019-07-01</th>\n",
       "      <td>0.644014</td>\n",
       "      <td>0.882428</td>\n",
       "    </tr>\n",
       "    <tr>\n",
       "      <th>2019-07-02</th>\n",
       "      <td>0.612072</td>\n",
       "      <td>0.058119</td>\n",
       "    </tr>\n",
       "    <tr>\n",
       "      <th>2019-07-03</th>\n",
       "      <td>0.206858</td>\n",
       "      <td>0.262666</td>\n",
       "    </tr>\n",
       "  </tbody>\n",
       "</table>\n",
       "</div>"
      ],
      "text/plain": [
       "                   A         B\n",
       "2019-07-01  0.644014  0.882428\n",
       "2019-07-02  0.612072  0.058119\n",
       "2019-07-03  0.206858  0.262666"
      ]
     },
     "execution_count": 28,
     "metadata": {},
     "output_type": "execute_result"
    }
   ],
   "source": [
    "df.loc['20190701':'20190703', ['A','B']]"
   ]
  },
  {
   "cell_type": "code",
   "execution_count": 29,
   "metadata": {},
   "outputs": [
    {
     "data": {
      "text/html": [
       "<div>\n",
       "<style scoped>\n",
       "    .dataframe tbody tr th:only-of-type {\n",
       "        vertical-align: middle;\n",
       "    }\n",
       "\n",
       "    .dataframe tbody tr th {\n",
       "        vertical-align: top;\n",
       "    }\n",
       "\n",
       "    .dataframe thead th {\n",
       "        text-align: right;\n",
       "    }\n",
       "</style>\n",
       "<table border=\"1\" class=\"dataframe\">\n",
       "  <thead>\n",
       "    <tr style=\"text-align: right;\">\n",
       "      <th></th>\n",
       "      <th>A</th>\n",
       "      <th>B</th>\n",
       "    </tr>\n",
       "  </thead>\n",
       "  <tbody>\n",
       "    <tr>\n",
       "      <th>2019-07-01</th>\n",
       "      <td>0.644014</td>\n",
       "      <td>0.882428</td>\n",
       "    </tr>\n",
       "    <tr>\n",
       "      <th>2019-07-02</th>\n",
       "      <td>0.612072</td>\n",
       "      <td>0.058119</td>\n",
       "    </tr>\n",
       "    <tr>\n",
       "      <th>2019-07-03</th>\n",
       "      <td>0.206858</td>\n",
       "      <td>0.262666</td>\n",
       "    </tr>\n",
       "    <tr>\n",
       "      <th>2019-07-04</th>\n",
       "      <td>0.516505</td>\n",
       "      <td>0.480064</td>\n",
       "    </tr>\n",
       "    <tr>\n",
       "      <th>2019-07-05</th>\n",
       "      <td>0.239501</td>\n",
       "      <td>0.528001</td>\n",
       "    </tr>\n",
       "    <tr>\n",
       "      <th>2019-07-06</th>\n",
       "      <td>0.723824</td>\n",
       "      <td>0.138506</td>\n",
       "    </tr>\n",
       "  </tbody>\n",
       "</table>\n",
       "</div>"
      ],
      "text/plain": [
       "                   A         B\n",
       "2019-07-01  0.644014  0.882428\n",
       "2019-07-02  0.612072  0.058119\n",
       "2019-07-03  0.206858  0.262666\n",
       "2019-07-04  0.516505  0.480064\n",
       "2019-07-05  0.239501  0.528001\n",
       "2019-07-06  0.723824  0.138506"
      ]
     },
     "execution_count": 29,
     "metadata": {},
     "output_type": "execute_result"
    }
   ],
   "source": [
    "df.loc[:, ['A','B']]"
   ]
  },
  {
   "cell_type": "code",
   "execution_count": 30,
   "metadata": {},
   "outputs": [
    {
     "data": {
      "text/html": [
       "<div>\n",
       "<style scoped>\n",
       "    .dataframe tbody tr th:only-of-type {\n",
       "        vertical-align: middle;\n",
       "    }\n",
       "\n",
       "    .dataframe tbody tr th {\n",
       "        vertical-align: top;\n",
       "    }\n",
       "\n",
       "    .dataframe thead th {\n",
       "        text-align: right;\n",
       "    }\n",
       "</style>\n",
       "<table border=\"1\" class=\"dataframe\">\n",
       "  <thead>\n",
       "    <tr style=\"text-align: right;\">\n",
       "      <th></th>\n",
       "      <th>A</th>\n",
       "      <th>B</th>\n",
       "      <th>C</th>\n",
       "      <th>D</th>\n",
       "    </tr>\n",
       "  </thead>\n",
       "  <tbody>\n",
       "    <tr>\n",
       "      <th>2019-07-01</th>\n",
       "      <td>0.644014</td>\n",
       "      <td>0.882428</td>\n",
       "      <td>0.688674</td>\n",
       "      <td>0.606004</td>\n",
       "    </tr>\n",
       "    <tr>\n",
       "      <th>2019-07-02</th>\n",
       "      <td>0.612072</td>\n",
       "      <td>0.058119</td>\n",
       "      <td>0.080613</td>\n",
       "      <td>0.143736</td>\n",
       "    </tr>\n",
       "  </tbody>\n",
       "</table>\n",
       "</div>"
      ],
      "text/plain": [
       "                   A         B         C         D\n",
       "2019-07-01  0.644014  0.882428  0.688674  0.606004\n",
       "2019-07-02  0.612072  0.058119  0.080613  0.143736"
      ]
     },
     "execution_count": 30,
     "metadata": {},
     "output_type": "execute_result"
    }
   ],
   "source": [
    "df.head(2)"
   ]
  },
  {
   "cell_type": "code",
   "execution_count": 31,
   "metadata": {},
   "outputs": [
    {
     "data": {
      "text/html": [
       "<div>\n",
       "<style scoped>\n",
       "    .dataframe tbody tr th:only-of-type {\n",
       "        vertical-align: middle;\n",
       "    }\n",
       "\n",
       "    .dataframe tbody tr th {\n",
       "        vertical-align: top;\n",
       "    }\n",
       "\n",
       "    .dataframe thead th {\n",
       "        text-align: right;\n",
       "    }\n",
       "</style>\n",
       "<table border=\"1\" class=\"dataframe\">\n",
       "  <thead>\n",
       "    <tr style=\"text-align: right;\">\n",
       "      <th></th>\n",
       "      <th>A</th>\n",
       "      <th>B</th>\n",
       "      <th>C</th>\n",
       "      <th>D</th>\n",
       "    </tr>\n",
       "  </thead>\n",
       "  <tbody>\n",
       "    <tr>\n",
       "      <th>2019-07-04</th>\n",
       "      <td>0.516505</td>\n",
       "      <td>0.480064</td>\n",
       "      <td>0.618071</td>\n",
       "      <td>0.934153</td>\n",
       "    </tr>\n",
       "    <tr>\n",
       "      <th>2019-07-05</th>\n",
       "      <td>0.239501</td>\n",
       "      <td>0.528001</td>\n",
       "      <td>0.287428</td>\n",
       "      <td>0.483968</td>\n",
       "    </tr>\n",
       "    <tr>\n",
       "      <th>2019-07-06</th>\n",
       "      <td>0.723824</td>\n",
       "      <td>0.138506</td>\n",
       "      <td>0.060931</td>\n",
       "      <td>0.520513</td>\n",
       "    </tr>\n",
       "  </tbody>\n",
       "</table>\n",
       "</div>"
      ],
      "text/plain": [
       "                   A         B         C         D\n",
       "2019-07-04  0.516505  0.480064  0.618071  0.934153\n",
       "2019-07-05  0.239501  0.528001  0.287428  0.483968\n",
       "2019-07-06  0.723824  0.138506  0.060931  0.520513"
      ]
     },
     "execution_count": 31,
     "metadata": {},
     "output_type": "execute_result"
    }
   ],
   "source": [
    "df.tail(3)"
   ]
  },
  {
   "cell_type": "markdown",
   "metadata": {},
   "source": [
    "#### panda的重新索引"
   ]
  },
  {
   "cell_type": "code",
   "execution_count": 32,
   "metadata": {},
   "outputs": [
    {
     "data": {
      "text/plain": [
       "a    3.5\n",
       "b    2.6\n",
       "c   -2.3\n",
       "dtype: float64"
      ]
     },
     "execution_count": 32,
     "metadata": {},
     "output_type": "execute_result"
    }
   ],
   "source": [
    "obj = Series([3.5,2.6,-2.3], index=['a','b','c'])\n",
    "obj"
   ]
  },
  {
   "cell_type": "code",
   "execution_count": 34,
   "metadata": {},
   "outputs": [
    {
     "data": {
      "text/plain": [
       "a    3.5\n",
       "b    2.6\n",
       "c   -2.3\n",
       "d    NaN\n",
       "e    NaN\n",
       "dtype: float64"
      ]
     },
     "execution_count": 34,
     "metadata": {},
     "output_type": "execute_result"
    }
   ],
   "source": [
    "obj_1 = obj.reindex(['a','b','c','d','e'])\n",
    "obj_1"
   ]
  },
  {
   "cell_type": "code",
   "execution_count": 35,
   "metadata": {},
   "outputs": [
    {
     "data": {
      "text/plain": [
       "a    3.5\n",
       "b    2.6\n",
       "c   -2.3\n",
       "d    0.0\n",
       "e    0.0\n",
       "dtype: float64"
      ]
     },
     "execution_count": 35,
     "metadata": {},
     "output_type": "execute_result"
    }
   ],
   "source": [
    "obj_2 = obj.reindex(['a','b','c','d','e'], fill_value = 0)\n",
    "obj_2"
   ]
  },
  {
   "cell_type": "code",
   "execution_count": 36,
   "metadata": {},
   "outputs": [
    {
     "data": {
      "text/plain": [
       "0    3.5\n",
       "2    2.6\n",
       "4   -2.3\n",
       "dtype: float64"
      ]
     },
     "execution_count": 36,
     "metadata": {},
     "output_type": "execute_result"
    }
   ],
   "source": [
    "obj = Series([3.5,2.6,-2.3], index=[0,2,4])\n",
    "obj"
   ]
  },
  {
   "cell_type": "code",
   "execution_count": 37,
   "metadata": {},
   "outputs": [
    {
     "data": {
      "text/plain": [
       "0    3.5\n",
       "1    3.5\n",
       "2    2.6\n",
       "3    2.6\n",
       "4   -2.3\n",
       "5   -2.3\n",
       "dtype: float64"
      ]
     },
     "execution_count": 37,
     "metadata": {},
     "output_type": "execute_result"
    }
   ],
   "source": [
    "# 向前填充\n",
    "obj.reindex(range(6), method='ffill')\n"
   ]
  },
  {
   "cell_type": "code",
   "execution_count": 38,
   "metadata": {},
   "outputs": [
    {
     "data": {
      "text/plain": [
       "0    3.5\n",
       "1    2.6\n",
       "2    2.6\n",
       "3   -2.3\n",
       "4   -2.3\n",
       "5    NaN\n",
       "dtype: float64"
      ]
     },
     "execution_count": 38,
     "metadata": {},
     "output_type": "execute_result"
    }
   ],
   "source": [
    "# 向后填充\n",
    "obj.reindex(range(6), method='bfill')"
   ]
  },
  {
   "cell_type": "markdown",
   "metadata": {},
   "source": [
    "## 算数运算和数据对齐\n"
   ]
  },
  {
   "cell_type": "code",
   "execution_count": 39,
   "metadata": {},
   "outputs": [
    {
     "data": {
      "text/plain": [
       "a    1.3\n",
       "b    1.5\n",
       "c    2.6\n",
       "d   -3.5\n",
       "dtype: float64"
      ]
     },
     "execution_count": 39,
     "metadata": {},
     "output_type": "execute_result"
    }
   ],
   "source": [
    "d1 = Series([1.3,1.5,2.6,-3.5], index = ['a','b','c','d'])\n",
    "d1"
   ]
  },
  {
   "cell_type": "code",
   "execution_count": 41,
   "metadata": {},
   "outputs": [
    {
     "data": {
      "text/plain": [
       "a   -1.3\n",
       "b   -1.5\n",
       "c   -2.6\n",
       "d    3.9\n",
       "e    9.8\n",
       "dtype: float64"
      ]
     },
     "execution_count": 41,
     "metadata": {},
     "output_type": "execute_result"
    }
   ],
   "source": [
    "d2 = Series([-1.3,-1.5,-2.6,3.9,9.8], index = ['a','b','c','d','e'])\n",
    "d2"
   ]
  },
  {
   "cell_type": "code",
   "execution_count": 42,
   "metadata": {},
   "outputs": [
    {
     "data": {
      "text/plain": [
       "a    0.0\n",
       "b    0.0\n",
       "c    0.0\n",
       "d    0.4\n",
       "e    NaN\n",
       "dtype: float64"
      ]
     },
     "execution_count": 42,
     "metadata": {},
     "output_type": "execute_result"
    }
   ],
   "source": [
    "d1 + d2"
   ]
  },
  {
   "cell_type": "code",
   "execution_count": 43,
   "metadata": {},
   "outputs": [
    {
     "data": {
      "text/html": [
       "<div>\n",
       "<style scoped>\n",
       "    .dataframe tbody tr th:only-of-type {\n",
       "        vertical-align: middle;\n",
       "    }\n",
       "\n",
       "    .dataframe tbody tr th {\n",
       "        vertical-align: top;\n",
       "    }\n",
       "\n",
       "    .dataframe thead th {\n",
       "        text-align: right;\n",
       "    }\n",
       "</style>\n",
       "<table border=\"1\" class=\"dataframe\">\n",
       "  <thead>\n",
       "    <tr style=\"text-align: right;\">\n",
       "      <th></th>\n",
       "      <th>a</th>\n",
       "      <th>b</th>\n",
       "      <th>c</th>\n",
       "    </tr>\n",
       "  </thead>\n",
       "  <tbody>\n",
       "    <tr>\n",
       "      <th>1</th>\n",
       "      <td>0</td>\n",
       "      <td>1</td>\n",
       "      <td>2</td>\n",
       "    </tr>\n",
       "    <tr>\n",
       "      <th>2</th>\n",
       "      <td>3</td>\n",
       "      <td>4</td>\n",
       "      <td>5</td>\n",
       "    </tr>\n",
       "    <tr>\n",
       "      <th>3</th>\n",
       "      <td>6</td>\n",
       "      <td>7</td>\n",
       "      <td>8</td>\n",
       "    </tr>\n",
       "  </tbody>\n",
       "</table>\n",
       "</div>"
      ],
      "text/plain": [
       "   a  b  c\n",
       "1  0  1  2\n",
       "2  3  4  5\n",
       "3  6  7  8"
      ]
     },
     "execution_count": 43,
     "metadata": {},
     "output_type": "execute_result"
    }
   ],
   "source": [
    "df1 = DataFrame(np.arange(9).reshape((3,3)), columns=list('abc'), index=[1,2,3])\n",
    "df1"
   ]
  },
  {
   "cell_type": "code",
   "execution_count": 44,
   "metadata": {},
   "outputs": [
    {
     "data": {
      "text/html": [
       "<div>\n",
       "<style scoped>\n",
       "    .dataframe tbody tr th:only-of-type {\n",
       "        vertical-align: middle;\n",
       "    }\n",
       "\n",
       "    .dataframe tbody tr th {\n",
       "        vertical-align: top;\n",
       "    }\n",
       "\n",
       "    .dataframe thead th {\n",
       "        text-align: right;\n",
       "    }\n",
       "</style>\n",
       "<table border=\"1\" class=\"dataframe\">\n",
       "  <thead>\n",
       "    <tr style=\"text-align: right;\">\n",
       "      <th></th>\n",
       "      <th>c</th>\n",
       "      <th>d</th>\n",
       "      <th>e</th>\n",
       "    </tr>\n",
       "  </thead>\n",
       "  <tbody>\n",
       "    <tr>\n",
       "      <th>1</th>\n",
       "      <td>0</td>\n",
       "      <td>1</td>\n",
       "      <td>2</td>\n",
       "    </tr>\n",
       "    <tr>\n",
       "      <th>2</th>\n",
       "      <td>3</td>\n",
       "      <td>4</td>\n",
       "      <td>5</td>\n",
       "    </tr>\n",
       "    <tr>\n",
       "      <th>3</th>\n",
       "      <td>6</td>\n",
       "      <td>7</td>\n",
       "      <td>8</td>\n",
       "    </tr>\n",
       "    <tr>\n",
       "      <th>4</th>\n",
       "      <td>9</td>\n",
       "      <td>10</td>\n",
       "      <td>11</td>\n",
       "    </tr>\n",
       "  </tbody>\n",
       "</table>\n",
       "</div>"
      ],
      "text/plain": [
       "   c   d   e\n",
       "1  0   1   2\n",
       "2  3   4   5\n",
       "3  6   7   8\n",
       "4  9  10  11"
      ]
     },
     "execution_count": 44,
     "metadata": {},
     "output_type": "execute_result"
    }
   ],
   "source": [
    "df2 = DataFrame(np.arange(12).reshape((4,3)), columns=list('cde'), index=[1,2,3,4])\n",
    "df2"
   ]
  },
  {
   "cell_type": "code",
   "execution_count": 45,
   "metadata": {},
   "outputs": [
    {
     "data": {
      "text/html": [
       "<div>\n",
       "<style scoped>\n",
       "    .dataframe tbody tr th:only-of-type {\n",
       "        vertical-align: middle;\n",
       "    }\n",
       "\n",
       "    .dataframe tbody tr th {\n",
       "        vertical-align: top;\n",
       "    }\n",
       "\n",
       "    .dataframe thead th {\n",
       "        text-align: right;\n",
       "    }\n",
       "</style>\n",
       "<table border=\"1\" class=\"dataframe\">\n",
       "  <thead>\n",
       "    <tr style=\"text-align: right;\">\n",
       "      <th></th>\n",
       "      <th>a</th>\n",
       "      <th>b</th>\n",
       "      <th>c</th>\n",
       "      <th>d</th>\n",
       "      <th>e</th>\n",
       "    </tr>\n",
       "  </thead>\n",
       "  <tbody>\n",
       "    <tr>\n",
       "      <th>1</th>\n",
       "      <td>NaN</td>\n",
       "      <td>NaN</td>\n",
       "      <td>2.0</td>\n",
       "      <td>NaN</td>\n",
       "      <td>NaN</td>\n",
       "    </tr>\n",
       "    <tr>\n",
       "      <th>2</th>\n",
       "      <td>NaN</td>\n",
       "      <td>NaN</td>\n",
       "      <td>8.0</td>\n",
       "      <td>NaN</td>\n",
       "      <td>NaN</td>\n",
       "    </tr>\n",
       "    <tr>\n",
       "      <th>3</th>\n",
       "      <td>NaN</td>\n",
       "      <td>NaN</td>\n",
       "      <td>14.0</td>\n",
       "      <td>NaN</td>\n",
       "      <td>NaN</td>\n",
       "    </tr>\n",
       "    <tr>\n",
       "      <th>4</th>\n",
       "      <td>NaN</td>\n",
       "      <td>NaN</td>\n",
       "      <td>NaN</td>\n",
       "      <td>NaN</td>\n",
       "      <td>NaN</td>\n",
       "    </tr>\n",
       "  </tbody>\n",
       "</table>\n",
       "</div>"
      ],
      "text/plain": [
       "    a   b     c   d   e\n",
       "1 NaN NaN   2.0 NaN NaN\n",
       "2 NaN NaN   8.0 NaN NaN\n",
       "3 NaN NaN  14.0 NaN NaN\n",
       "4 NaN NaN   NaN NaN NaN"
      ]
     },
     "execution_count": 45,
     "metadata": {},
     "output_type": "execute_result"
    }
   ],
   "source": [
    "df1 + df2   # 在行和列上都发生操作，没有重叠的部分就都是空"
   ]
  },
  {
   "cell_type": "code",
   "execution_count": 46,
   "metadata": {},
   "outputs": [
    {
     "data": {
      "text/html": [
       "<div>\n",
       "<style scoped>\n",
       "    .dataframe tbody tr th:only-of-type {\n",
       "        vertical-align: middle;\n",
       "    }\n",
       "\n",
       "    .dataframe tbody tr th {\n",
       "        vertical-align: top;\n",
       "    }\n",
       "\n",
       "    .dataframe thead th {\n",
       "        text-align: right;\n",
       "    }\n",
       "</style>\n",
       "<table border=\"1\" class=\"dataframe\">\n",
       "  <thead>\n",
       "    <tr style=\"text-align: right;\">\n",
       "      <th></th>\n",
       "      <th>a</th>\n",
       "      <th>b</th>\n",
       "      <th>c</th>\n",
       "      <th>d</th>\n",
       "      <th>e</th>\n",
       "    </tr>\n",
       "  </thead>\n",
       "  <tbody>\n",
       "    <tr>\n",
       "      <th>1</th>\n",
       "      <td>0.0</td>\n",
       "      <td>1.0</td>\n",
       "      <td>2.0</td>\n",
       "      <td>1.0</td>\n",
       "      <td>2.0</td>\n",
       "    </tr>\n",
       "    <tr>\n",
       "      <th>2</th>\n",
       "      <td>3.0</td>\n",
       "      <td>4.0</td>\n",
       "      <td>8.0</td>\n",
       "      <td>4.0</td>\n",
       "      <td>5.0</td>\n",
       "    </tr>\n",
       "    <tr>\n",
       "      <th>3</th>\n",
       "      <td>6.0</td>\n",
       "      <td>7.0</td>\n",
       "      <td>14.0</td>\n",
       "      <td>7.0</td>\n",
       "      <td>8.0</td>\n",
       "    </tr>\n",
       "    <tr>\n",
       "      <th>4</th>\n",
       "      <td>NaN</td>\n",
       "      <td>NaN</td>\n",
       "      <td>9.0</td>\n",
       "      <td>10.0</td>\n",
       "      <td>11.0</td>\n",
       "    </tr>\n",
       "  </tbody>\n",
       "</table>\n",
       "</div>"
      ],
      "text/plain": [
       "     a    b     c     d     e\n",
       "1  0.0  1.0   2.0   1.0   2.0\n",
       "2  3.0  4.0   8.0   4.0   5.0\n",
       "3  6.0  7.0  14.0   7.0   8.0\n",
       "4  NaN  NaN   9.0  10.0  11.0"
      ]
     },
     "execution_count": 46,
     "metadata": {},
     "output_type": "execute_result"
    }
   ],
   "source": [
    "df1.add(df2,fill_value=0)"
   ]
  },
  {
   "cell_type": "code",
   "execution_count": 47,
   "metadata": {},
   "outputs": [],
   "source": [
    "### 算数方法  add 加法        sub 减法      div除法     mul 乘法"
   ]
  },
  {
   "cell_type": "markdown",
   "metadata": {},
   "source": [
    "### DataFrame 和 Series之间的运算"
   ]
  },
  {
   "cell_type": "code",
   "execution_count": 49,
   "metadata": {},
   "outputs": [
    {
     "name": "stdout",
     "output_type": "stream",
     "text": [
      "   b   d   e\n",
      "1  0   1   2\n",
      "2  3   4   5\n",
      "3  6   7   8\n",
      "4  9  10  11\n",
      "b    0\n",
      "d    1\n",
      "e    2\n",
      "Name: 1, dtype: int64\n"
     ]
    }
   ],
   "source": [
    "frame = DataFrame(np.arange(12).reshape((4,3)), columns=list('bde'), index=[1,2,3,4])\n",
    "series = frame.loc[1]\n",
    "print(frame)\n",
    "print(series)\n"
   ]
  },
  {
   "cell_type": "code",
   "execution_count": 50,
   "metadata": {},
   "outputs": [
    {
     "data": {
      "text/html": [
       "<div>\n",
       "<style scoped>\n",
       "    .dataframe tbody tr th:only-of-type {\n",
       "        vertical-align: middle;\n",
       "    }\n",
       "\n",
       "    .dataframe tbody tr th {\n",
       "        vertical-align: top;\n",
       "    }\n",
       "\n",
       "    .dataframe thead th {\n",
       "        text-align: right;\n",
       "    }\n",
       "</style>\n",
       "<table border=\"1\" class=\"dataframe\">\n",
       "  <thead>\n",
       "    <tr style=\"text-align: right;\">\n",
       "      <th></th>\n",
       "      <th>b</th>\n",
       "      <th>d</th>\n",
       "      <th>e</th>\n",
       "    </tr>\n",
       "  </thead>\n",
       "  <tbody>\n",
       "    <tr>\n",
       "      <th>1</th>\n",
       "      <td>0</td>\n",
       "      <td>0</td>\n",
       "      <td>0</td>\n",
       "    </tr>\n",
       "    <tr>\n",
       "      <th>2</th>\n",
       "      <td>3</td>\n",
       "      <td>3</td>\n",
       "      <td>3</td>\n",
       "    </tr>\n",
       "    <tr>\n",
       "      <th>3</th>\n",
       "      <td>6</td>\n",
       "      <td>6</td>\n",
       "      <td>6</td>\n",
       "    </tr>\n",
       "    <tr>\n",
       "      <th>4</th>\n",
       "      <td>9</td>\n",
       "      <td>9</td>\n",
       "      <td>9</td>\n",
       "    </tr>\n",
       "  </tbody>\n",
       "</table>\n",
       "</div>"
      ],
      "text/plain": [
       "   b  d  e\n",
       "1  0  0  0\n",
       "2  3  3  3\n",
       "3  6  6  6\n",
       "4  9  9  9"
      ]
     },
     "execution_count": 50,
     "metadata": {},
     "output_type": "execute_result"
    }
   ],
   "source": [
    "frame - series"
   ]
  },
  {
   "cell_type": "code",
   "execution_count": 51,
   "metadata": {},
   "outputs": [
    {
     "data": {
      "text/plain": [
       "b    0\n",
       "e    1\n",
       "f    2\n",
       "dtype: int64"
      ]
     },
     "execution_count": 51,
     "metadata": {},
     "output_type": "execute_result"
    }
   ],
   "source": [
    "series = Series(range(3), index=list('bef'))\n",
    "series"
   ]
  },
  {
   "cell_type": "code",
   "execution_count": 52,
   "metadata": {},
   "outputs": [
    {
     "data": {
      "text/html": [
       "<div>\n",
       "<style scoped>\n",
       "    .dataframe tbody tr th:only-of-type {\n",
       "        vertical-align: middle;\n",
       "    }\n",
       "\n",
       "    .dataframe tbody tr th {\n",
       "        vertical-align: top;\n",
       "    }\n",
       "\n",
       "    .dataframe thead th {\n",
       "        text-align: right;\n",
       "    }\n",
       "</style>\n",
       "<table border=\"1\" class=\"dataframe\">\n",
       "  <thead>\n",
       "    <tr style=\"text-align: right;\">\n",
       "      <th></th>\n",
       "      <th>b</th>\n",
       "      <th>d</th>\n",
       "      <th>e</th>\n",
       "      <th>f</th>\n",
       "    </tr>\n",
       "  </thead>\n",
       "  <tbody>\n",
       "    <tr>\n",
       "      <th>1</th>\n",
       "      <td>0.0</td>\n",
       "      <td>NaN</td>\n",
       "      <td>3.0</td>\n",
       "      <td>NaN</td>\n",
       "    </tr>\n",
       "    <tr>\n",
       "      <th>2</th>\n",
       "      <td>3.0</td>\n",
       "      <td>NaN</td>\n",
       "      <td>6.0</td>\n",
       "      <td>NaN</td>\n",
       "    </tr>\n",
       "    <tr>\n",
       "      <th>3</th>\n",
       "      <td>6.0</td>\n",
       "      <td>NaN</td>\n",
       "      <td>9.0</td>\n",
       "      <td>NaN</td>\n",
       "    </tr>\n",
       "    <tr>\n",
       "      <th>4</th>\n",
       "      <td>9.0</td>\n",
       "      <td>NaN</td>\n",
       "      <td>12.0</td>\n",
       "      <td>NaN</td>\n",
       "    </tr>\n",
       "  </tbody>\n",
       "</table>\n",
       "</div>"
      ],
      "text/plain": [
       "     b   d     e   f\n",
       "1  0.0 NaN   3.0 NaN\n",
       "2  3.0 NaN   6.0 NaN\n",
       "3  6.0 NaN   9.0 NaN\n",
       "4  9.0 NaN  12.0 NaN"
      ]
     },
     "execution_count": 52,
     "metadata": {},
     "output_type": "execute_result"
    }
   ],
   "source": [
    "frame + series"
   ]
  },
  {
   "cell_type": "code",
   "execution_count": 53,
   "metadata": {},
   "outputs": [
    {
     "data": {
      "text/html": [
       "<div>\n",
       "<style scoped>\n",
       "    .dataframe tbody tr th:only-of-type {\n",
       "        vertical-align: middle;\n",
       "    }\n",
       "\n",
       "    .dataframe tbody tr th {\n",
       "        vertical-align: top;\n",
       "    }\n",
       "\n",
       "    .dataframe thead th {\n",
       "        text-align: right;\n",
       "    }\n",
       "</style>\n",
       "<table border=\"1\" class=\"dataframe\">\n",
       "  <thead>\n",
       "    <tr style=\"text-align: right;\">\n",
       "      <th></th>\n",
       "      <th>b</th>\n",
       "      <th>d</th>\n",
       "      <th>e</th>\n",
       "    </tr>\n",
       "  </thead>\n",
       "  <tbody>\n",
       "    <tr>\n",
       "      <th>1</th>\n",
       "      <td>0</td>\n",
       "      <td>1</td>\n",
       "      <td>2</td>\n",
       "    </tr>\n",
       "    <tr>\n",
       "      <th>2</th>\n",
       "      <td>3</td>\n",
       "      <td>4</td>\n",
       "      <td>5</td>\n",
       "    </tr>\n",
       "    <tr>\n",
       "      <th>3</th>\n",
       "      <td>6</td>\n",
       "      <td>7</td>\n",
       "      <td>8</td>\n",
       "    </tr>\n",
       "    <tr>\n",
       "      <th>4</th>\n",
       "      <td>9</td>\n",
       "      <td>10</td>\n",
       "      <td>11</td>\n",
       "    </tr>\n",
       "  </tbody>\n",
       "</table>\n",
       "</div>"
      ],
      "text/plain": [
       "   b   d   e\n",
       "1  0   1   2\n",
       "2  3   4   5\n",
       "3  6   7   8\n",
       "4  9  10  11"
      ]
     },
     "execution_count": 53,
     "metadata": {},
     "output_type": "execute_result"
    }
   ],
   "source": [
    "frame"
   ]
  },
  {
   "cell_type": "markdown",
   "metadata": {},
   "source": [
    "### 排序"
   ]
  },
  {
   "cell_type": "code",
   "execution_count": 54,
   "metadata": {},
   "outputs": [
    {
     "data": {
      "text/plain": [
       "d    0\n",
       "e    1\n",
       "a    2\n",
       "b    3\n",
       "dtype: int64"
      ]
     },
     "execution_count": 54,
     "metadata": {},
     "output_type": "execute_result"
    }
   ],
   "source": [
    "obj = Series(range(4), index=['d','e','a','b'])\n",
    "obj"
   ]
  },
  {
   "cell_type": "code",
   "execution_count": 55,
   "metadata": {},
   "outputs": [
    {
     "data": {
      "text/plain": [
       "a    2\n",
       "b    3\n",
       "d    0\n",
       "e    1\n",
       "dtype: int64"
      ]
     },
     "execution_count": 55,
     "metadata": {},
     "output_type": "execute_result"
    }
   ],
   "source": [
    "obj.sort_index()"
   ]
  },
  {
   "cell_type": "code",
   "execution_count": 57,
   "metadata": {},
   "outputs": [
    {
     "data": {
      "text/plain": [
       "d    0\n",
       "e    1\n",
       "a    2\n",
       "b    3\n",
       "dtype: int64"
      ]
     },
     "execution_count": 57,
     "metadata": {},
     "output_type": "execute_result"
    }
   ],
   "source": [
    "obj.sort_values()"
   ]
  },
  {
   "cell_type": "markdown",
   "metadata": {},
   "source": [
    "### 针对DataFrame的排序"
   ]
  },
  {
   "cell_type": "code",
   "execution_count": 62,
   "metadata": {},
   "outputs": [
    {
     "data": {
      "text/html": [
       "<div>\n",
       "<style scoped>\n",
       "    .dataframe tbody tr th:only-of-type {\n",
       "        vertical-align: middle;\n",
       "    }\n",
       "\n",
       "    .dataframe tbody tr th {\n",
       "        vertical-align: top;\n",
       "    }\n",
       "\n",
       "    .dataframe thead th {\n",
       "        text-align: right;\n",
       "    }\n",
       "</style>\n",
       "<table border=\"1\" class=\"dataframe\">\n",
       "  <thead>\n",
       "    <tr style=\"text-align: right;\">\n",
       "      <th></th>\n",
       "      <th>c</th>\n",
       "      <th>d</th>\n",
       "      <th>a</th>\n",
       "      <th>b</th>\n",
       "    </tr>\n",
       "  </thead>\n",
       "  <tbody>\n",
       "    <tr>\n",
       "      <th>tba</th>\n",
       "      <td>0</td>\n",
       "      <td>1</td>\n",
       "      <td>2</td>\n",
       "      <td>3</td>\n",
       "    </tr>\n",
       "    <tr>\n",
       "      <th>taz</th>\n",
       "      <td>4</td>\n",
       "      <td>5</td>\n",
       "      <td>6</td>\n",
       "      <td>7</td>\n",
       "    </tr>\n",
       "  </tbody>\n",
       "</table>\n",
       "</div>"
      ],
      "text/plain": [
       "     c  d  a  b\n",
       "tba  0  1  2  3\n",
       "taz  4  5  6  7"
      ]
     },
     "execution_count": 62,
     "metadata": {},
     "output_type": "execute_result"
    }
   ],
   "source": [
    "frame = DataFrame(np.arange(8).reshape((2,4)), index=['tba','taz'], columns = ['c','d','a','b'])\n",
    "frame"
   ]
  },
  {
   "cell_type": "code",
   "execution_count": 63,
   "metadata": {
    "scrolled": true
   },
   "outputs": [
    {
     "data": {
      "text/html": [
       "<div>\n",
       "<style scoped>\n",
       "    .dataframe tbody tr th:only-of-type {\n",
       "        vertical-align: middle;\n",
       "    }\n",
       "\n",
       "    .dataframe tbody tr th {\n",
       "        vertical-align: top;\n",
       "    }\n",
       "\n",
       "    .dataframe thead th {\n",
       "        text-align: right;\n",
       "    }\n",
       "</style>\n",
       "<table border=\"1\" class=\"dataframe\">\n",
       "  <thead>\n",
       "    <tr style=\"text-align: right;\">\n",
       "      <th></th>\n",
       "      <th>c</th>\n",
       "      <th>d</th>\n",
       "      <th>a</th>\n",
       "      <th>b</th>\n",
       "    </tr>\n",
       "  </thead>\n",
       "  <tbody>\n",
       "    <tr>\n",
       "      <th>taz</th>\n",
       "      <td>4</td>\n",
       "      <td>5</td>\n",
       "      <td>6</td>\n",
       "      <td>7</td>\n",
       "    </tr>\n",
       "    <tr>\n",
       "      <th>tba</th>\n",
       "      <td>0</td>\n",
       "      <td>1</td>\n",
       "      <td>2</td>\n",
       "      <td>3</td>\n",
       "    </tr>\n",
       "  </tbody>\n",
       "</table>\n",
       "</div>"
      ],
      "text/plain": [
       "     c  d  a  b\n",
       "taz  4  5  6  7\n",
       "tba  0  1  2  3"
      ]
     },
     "execution_count": 63,
     "metadata": {},
     "output_type": "execute_result"
    }
   ],
   "source": [
    "frame.sort_index()"
   ]
  },
  {
   "cell_type": "code",
   "execution_count": 64,
   "metadata": {},
   "outputs": [
    {
     "data": {
      "text/html": [
       "<div>\n",
       "<style scoped>\n",
       "    .dataframe tbody tr th:only-of-type {\n",
       "        vertical-align: middle;\n",
       "    }\n",
       "\n",
       "    .dataframe tbody tr th {\n",
       "        vertical-align: top;\n",
       "    }\n",
       "\n",
       "    .dataframe thead th {\n",
       "        text-align: right;\n",
       "    }\n",
       "</style>\n",
       "<table border=\"1\" class=\"dataframe\">\n",
       "  <thead>\n",
       "    <tr style=\"text-align: right;\">\n",
       "      <th></th>\n",
       "      <th>a</th>\n",
       "      <th>b</th>\n",
       "      <th>c</th>\n",
       "      <th>d</th>\n",
       "    </tr>\n",
       "  </thead>\n",
       "  <tbody>\n",
       "    <tr>\n",
       "      <th>tba</th>\n",
       "      <td>2</td>\n",
       "      <td>3</td>\n",
       "      <td>0</td>\n",
       "      <td>1</td>\n",
       "    </tr>\n",
       "    <tr>\n",
       "      <th>taz</th>\n",
       "      <td>6</td>\n",
       "      <td>7</td>\n",
       "      <td>4</td>\n",
       "      <td>5</td>\n",
       "    </tr>\n",
       "  </tbody>\n",
       "</table>\n",
       "</div>"
      ],
      "text/plain": [
       "     a  b  c  d\n",
       "tba  2  3  0  1\n",
       "taz  6  7  4  5"
      ]
     },
     "execution_count": 64,
     "metadata": {},
     "output_type": "execute_result"
    }
   ],
   "source": [
    "frame.sort_index(axis=1)"
   ]
  },
  {
   "cell_type": "code",
   "execution_count": 65,
   "metadata": {},
   "outputs": [
    {
     "data": {
      "text/html": [
       "<div>\n",
       "<style scoped>\n",
       "    .dataframe tbody tr th:only-of-type {\n",
       "        vertical-align: middle;\n",
       "    }\n",
       "\n",
       "    .dataframe tbody tr th {\n",
       "        vertical-align: top;\n",
       "    }\n",
       "\n",
       "    .dataframe thead th {\n",
       "        text-align: right;\n",
       "    }\n",
       "</style>\n",
       "<table border=\"1\" class=\"dataframe\">\n",
       "  <thead>\n",
       "    <tr style=\"text-align: right;\">\n",
       "      <th></th>\n",
       "      <th>b</th>\n",
       "      <th>a</th>\n",
       "    </tr>\n",
       "  </thead>\n",
       "  <tbody>\n",
       "    <tr>\n",
       "      <th>0</th>\n",
       "      <td>4</td>\n",
       "      <td>0</td>\n",
       "    </tr>\n",
       "    <tr>\n",
       "      <th>1</th>\n",
       "      <td>7</td>\n",
       "      <td>4</td>\n",
       "    </tr>\n",
       "    <tr>\n",
       "      <th>2</th>\n",
       "      <td>1</td>\n",
       "      <td>2</td>\n",
       "    </tr>\n",
       "    <tr>\n",
       "      <th>3</th>\n",
       "      <td>-1</td>\n",
       "      <td>0</td>\n",
       "    </tr>\n",
       "  </tbody>\n",
       "</table>\n",
       "</div>"
      ],
      "text/plain": [
       "   b  a\n",
       "0  4  0\n",
       "1  7  4\n",
       "2  1  2\n",
       "3 -1  0"
      ]
     },
     "execution_count": 65,
     "metadata": {},
     "output_type": "execute_result"
    }
   ],
   "source": [
    "frame = DataFrame({'b':[4,7,1,-1],'a':[0,4,2,0]})\n",
    "frame"
   ]
  },
  {
   "cell_type": "code",
   "execution_count": 66,
   "metadata": {},
   "outputs": [
    {
     "data": {
      "text/html": [
       "<div>\n",
       "<style scoped>\n",
       "    .dataframe tbody tr th:only-of-type {\n",
       "        vertical-align: middle;\n",
       "    }\n",
       "\n",
       "    .dataframe tbody tr th {\n",
       "        vertical-align: top;\n",
       "    }\n",
       "\n",
       "    .dataframe thead th {\n",
       "        text-align: right;\n",
       "    }\n",
       "</style>\n",
       "<table border=\"1\" class=\"dataframe\">\n",
       "  <thead>\n",
       "    <tr style=\"text-align: right;\">\n",
       "      <th></th>\n",
       "      <th>b</th>\n",
       "      <th>a</th>\n",
       "    </tr>\n",
       "  </thead>\n",
       "  <tbody>\n",
       "    <tr>\n",
       "      <th>3</th>\n",
       "      <td>-1</td>\n",
       "      <td>0</td>\n",
       "    </tr>\n",
       "    <tr>\n",
       "      <th>2</th>\n",
       "      <td>1</td>\n",
       "      <td>2</td>\n",
       "    </tr>\n",
       "    <tr>\n",
       "      <th>0</th>\n",
       "      <td>4</td>\n",
       "      <td>0</td>\n",
       "    </tr>\n",
       "    <tr>\n",
       "      <th>1</th>\n",
       "      <td>7</td>\n",
       "      <td>4</td>\n",
       "    </tr>\n",
       "  </tbody>\n",
       "</table>\n",
       "</div>"
      ],
      "text/plain": [
       "   b  a\n",
       "3 -1  0\n",
       "2  1  2\n",
       "0  4  0\n",
       "1  7  4"
      ]
     },
     "execution_count": 66,
     "metadata": {},
     "output_type": "execute_result"
    }
   ],
   "source": [
    "frame.sort_values(by='b')"
   ]
  },
  {
   "cell_type": "markdown",
   "metadata": {},
   "source": [
    "###  层次化索引\n",
    "#### 它能够让你在一个轴上拥有多个索引级别，另外一种说法是它能够使你可以以低纬度形式处理高纬度数据"
   ]
  },
  {
   "cell_type": "code",
   "execution_count": 67,
   "metadata": {},
   "outputs": [
    {
     "data": {
      "text/plain": [
       "a  1    1.261504\n",
       "   2    0.237185\n",
       "   3   -2.390841\n",
       "b  1    0.234109\n",
       "   2   -0.712366\n",
       "   3   -1.017011\n",
       "c  1    0.168919\n",
       "   2   -0.760554\n",
       "d  2   -0.629749\n",
       "   3    0.410789\n",
       "dtype: float64"
      ]
     },
     "execution_count": 67,
     "metadata": {},
     "output_type": "execute_result"
    }
   ],
   "source": [
    "data = Series(np.random.randn(10), index=[['a','a','a','b','b','b','c','c','d','d'],[1,2,3,1,2,3,1,2,2,3]])\n",
    "data"
   ]
  },
  {
   "cell_type": "code",
   "execution_count": 68,
   "metadata": {},
   "outputs": [
    {
     "data": {
      "text/plain": [
       "MultiIndex(levels=[['a', 'b', 'c', 'd'], [1, 2, 3]],\n",
       "           codes=[[0, 0, 0, 1, 1, 1, 2, 2, 3, 3], [0, 1, 2, 0, 1, 2, 0, 1, 1, 2]])"
      ]
     },
     "execution_count": 68,
     "metadata": {},
     "output_type": "execute_result"
    }
   ],
   "source": [
    "data.index"
   ]
  },
  {
   "cell_type": "code",
   "execution_count": 69,
   "metadata": {},
   "outputs": [
    {
     "data": {
      "text/plain": [
       "1    0.234109\n",
       "2   -0.712366\n",
       "3   -1.017011\n",
       "dtype: float64"
      ]
     },
     "execution_count": 69,
     "metadata": {},
     "output_type": "execute_result"
    }
   ],
   "source": [
    "data['b']"
   ]
  },
  {
   "cell_type": "code",
   "execution_count": 70,
   "metadata": {},
   "outputs": [
    {
     "data": {
      "text/plain": [
       "b  1    0.234109\n",
       "   2   -0.712366\n",
       "   3   -1.017011\n",
       "c  1    0.168919\n",
       "   2   -0.760554\n",
       "dtype: float64"
      ]
     },
     "execution_count": 70,
     "metadata": {},
     "output_type": "execute_result"
    }
   ],
   "source": [
    "data['b':'c']"
   ]
  },
  {
   "cell_type": "code",
   "execution_count": 71,
   "metadata": {},
   "outputs": [
    {
     "data": {
      "text/plain": [
       "a    0.237185\n",
       "b   -0.712366\n",
       "c   -0.760554\n",
       "d   -0.629749\n",
       "dtype: float64"
      ]
     },
     "execution_count": 71,
     "metadata": {},
     "output_type": "execute_result"
    }
   ],
   "source": [
    "data[:,2]"
   ]
  },
  {
   "cell_type": "code",
   "execution_count": 72,
   "metadata": {},
   "outputs": [
    {
     "data": {
      "text/html": [
       "<div>\n",
       "<style scoped>\n",
       "    .dataframe tbody tr th:only-of-type {\n",
       "        vertical-align: middle;\n",
       "    }\n",
       "\n",
       "    .dataframe tbody tr th {\n",
       "        vertical-align: top;\n",
       "    }\n",
       "\n",
       "    .dataframe thead tr th {\n",
       "        text-align: left;\n",
       "    }\n",
       "</style>\n",
       "<table border=\"1\" class=\"dataframe\">\n",
       "  <thead>\n",
       "    <tr>\n",
       "      <th></th>\n",
       "      <th></th>\n",
       "      <th>Black</th>\n",
       "      <th>Yellow</th>\n",
       "      <th>Blue</th>\n",
       "    </tr>\n",
       "    <tr>\n",
       "      <th></th>\n",
       "      <th></th>\n",
       "      <th>Green</th>\n",
       "      <th>Red</th>\n",
       "      <th>Green</th>\n",
       "    </tr>\n",
       "  </thead>\n",
       "  <tbody>\n",
       "    <tr>\n",
       "      <th rowspan=\"2\" valign=\"top\">a</th>\n",
       "      <th>1</th>\n",
       "      <td>0</td>\n",
       "      <td>1</td>\n",
       "      <td>2</td>\n",
       "    </tr>\n",
       "    <tr>\n",
       "      <th>2</th>\n",
       "      <td>3</td>\n",
       "      <td>4</td>\n",
       "      <td>5</td>\n",
       "    </tr>\n",
       "    <tr>\n",
       "      <th rowspan=\"2\" valign=\"top\">b</th>\n",
       "      <th>1</th>\n",
       "      <td>6</td>\n",
       "      <td>7</td>\n",
       "      <td>8</td>\n",
       "    </tr>\n",
       "    <tr>\n",
       "      <th>2</th>\n",
       "      <td>9</td>\n",
       "      <td>10</td>\n",
       "      <td>11</td>\n",
       "    </tr>\n",
       "  </tbody>\n",
       "</table>\n",
       "</div>"
      ],
      "text/plain": [
       "    Black Yellow  Blue\n",
       "    Green    Red Green\n",
       "a 1     0      1     2\n",
       "  2     3      4     5\n",
       "b 1     6      7     8\n",
       "  2     9     10    11"
      ]
     },
     "execution_count": 72,
     "metadata": {},
     "output_type": "execute_result"
    }
   ],
   "source": [
    "frame_data = DataFrame(np.arange(12).reshape((4,3)),\n",
    "                      index=[['a','a','b','b'],[1,2,1,2]],\n",
    "                      columns=[['Black','Yellow','Blue'],['Green','Red','Green']]\n",
    "                      )\n",
    "frame_data"
   ]
  },
  {
   "cell_type": "code",
   "execution_count": 73,
   "metadata": {},
   "outputs": [
    {
     "data": {
      "text/html": [
       "<div>\n",
       "<style scoped>\n",
       "    .dataframe tbody tr th:only-of-type {\n",
       "        vertical-align: middle;\n",
       "    }\n",
       "\n",
       "    .dataframe tbody tr th {\n",
       "        vertical-align: top;\n",
       "    }\n",
       "\n",
       "    .dataframe thead tr th {\n",
       "        text-align: left;\n",
       "    }\n",
       "\n",
       "    .dataframe thead tr:last-of-type th {\n",
       "        text-align: right;\n",
       "    }\n",
       "</style>\n",
       "<table border=\"1\" class=\"dataframe\">\n",
       "  <thead>\n",
       "    <tr>\n",
       "      <th></th>\n",
       "      <th></th>\n",
       "      <th>Black</th>\n",
       "      <th>Yellow</th>\n",
       "      <th>Blue</th>\n",
       "    </tr>\n",
       "    <tr>\n",
       "      <th></th>\n",
       "      <th></th>\n",
       "      <th>Green</th>\n",
       "      <th>Red</th>\n",
       "      <th>Green</th>\n",
       "    </tr>\n",
       "    <tr>\n",
       "      <th>key1</th>\n",
       "      <th>key2</th>\n",
       "      <th></th>\n",
       "      <th></th>\n",
       "      <th></th>\n",
       "    </tr>\n",
       "  </thead>\n",
       "  <tbody>\n",
       "    <tr>\n",
       "      <th rowspan=\"2\" valign=\"top\">a</th>\n",
       "      <th>1</th>\n",
       "      <td>0</td>\n",
       "      <td>1</td>\n",
       "      <td>2</td>\n",
       "    </tr>\n",
       "    <tr>\n",
       "      <th>2</th>\n",
       "      <td>3</td>\n",
       "      <td>4</td>\n",
       "      <td>5</td>\n",
       "    </tr>\n",
       "    <tr>\n",
       "      <th rowspan=\"2\" valign=\"top\">b</th>\n",
       "      <th>1</th>\n",
       "      <td>6</td>\n",
       "      <td>7</td>\n",
       "      <td>8</td>\n",
       "    </tr>\n",
       "    <tr>\n",
       "      <th>2</th>\n",
       "      <td>9</td>\n",
       "      <td>10</td>\n",
       "      <td>11</td>\n",
       "    </tr>\n",
       "  </tbody>\n",
       "</table>\n",
       "</div>"
      ],
      "text/plain": [
       "          Black Yellow  Blue\n",
       "          Green    Red Green\n",
       "key1 key2                   \n",
       "a    1        0      1     2\n",
       "     2        3      4     5\n",
       "b    1        6      7     8\n",
       "     2        9     10    11"
      ]
     },
     "execution_count": 73,
     "metadata": {},
     "output_type": "execute_result"
    }
   ],
   "source": [
    "frame_data.index.names=['key1','key2']\n",
    "frame_data"
   ]
  },
  {
   "cell_type": "code",
   "execution_count": 74,
   "metadata": {},
   "outputs": [
    {
     "data": {
      "text/html": [
       "<div>\n",
       "<style scoped>\n",
       "    .dataframe tbody tr th:only-of-type {\n",
       "        vertical-align: middle;\n",
       "    }\n",
       "\n",
       "    .dataframe tbody tr th {\n",
       "        vertical-align: top;\n",
       "    }\n",
       "\n",
       "    .dataframe thead tr th {\n",
       "        text-align: left;\n",
       "    }\n",
       "\n",
       "    .dataframe thead tr:last-of-type th {\n",
       "        text-align: right;\n",
       "    }\n",
       "</style>\n",
       "<table border=\"1\" class=\"dataframe\">\n",
       "  <thead>\n",
       "    <tr>\n",
       "      <th></th>\n",
       "      <th>color1</th>\n",
       "      <th>Black</th>\n",
       "      <th>Yellow</th>\n",
       "      <th>Blue</th>\n",
       "    </tr>\n",
       "    <tr>\n",
       "      <th></th>\n",
       "      <th>color2</th>\n",
       "      <th>Green</th>\n",
       "      <th>Red</th>\n",
       "      <th>Green</th>\n",
       "    </tr>\n",
       "    <tr>\n",
       "      <th>key1</th>\n",
       "      <th>key2</th>\n",
       "      <th></th>\n",
       "      <th></th>\n",
       "      <th></th>\n",
       "    </tr>\n",
       "  </thead>\n",
       "  <tbody>\n",
       "    <tr>\n",
       "      <th rowspan=\"2\" valign=\"top\">a</th>\n",
       "      <th>1</th>\n",
       "      <td>0</td>\n",
       "      <td>1</td>\n",
       "      <td>2</td>\n",
       "    </tr>\n",
       "    <tr>\n",
       "      <th>2</th>\n",
       "      <td>3</td>\n",
       "      <td>4</td>\n",
       "      <td>5</td>\n",
       "    </tr>\n",
       "    <tr>\n",
       "      <th rowspan=\"2\" valign=\"top\">b</th>\n",
       "      <th>1</th>\n",
       "      <td>6</td>\n",
       "      <td>7</td>\n",
       "      <td>8</td>\n",
       "    </tr>\n",
       "    <tr>\n",
       "      <th>2</th>\n",
       "      <td>9</td>\n",
       "      <td>10</td>\n",
       "      <td>11</td>\n",
       "    </tr>\n",
       "  </tbody>\n",
       "</table>\n",
       "</div>"
      ],
      "text/plain": [
       "color1    Black Yellow  Blue\n",
       "color2    Green    Red Green\n",
       "key1 key2                   \n",
       "a    1        0      1     2\n",
       "     2        3      4     5\n",
       "b    1        6      7     8\n",
       "     2        9     10    11"
      ]
     },
     "execution_count": 74,
     "metadata": {},
     "output_type": "execute_result"
    }
   ],
   "source": [
    "frame_data.columns.names=['color1','color2']\n",
    "frame_data"
   ]
  },
  {
   "cell_type": "code",
   "execution_count": 75,
   "metadata": {},
   "outputs": [
    {
     "data": {
      "text/plain": [
       "MultiIndex(levels=[['a', 'b'], [1, 2]],\n",
       "           codes=[[0, 0, 1, 1], [0, 1, 0, 1]],\n",
       "           names=['key1', 'key2'])"
      ]
     },
     "execution_count": 75,
     "metadata": {},
     "output_type": "execute_result"
    }
   ],
   "source": [
    "frame_data.index"
   ]
  },
  {
   "cell_type": "code",
   "execution_count": 76,
   "metadata": {},
   "outputs": [
    {
     "data": {
      "text/html": [
       "<div>\n",
       "<style scoped>\n",
       "    .dataframe tbody tr th:only-of-type {\n",
       "        vertical-align: middle;\n",
       "    }\n",
       "\n",
       "    .dataframe tbody tr th {\n",
       "        vertical-align: top;\n",
       "    }\n",
       "\n",
       "    .dataframe thead tr th {\n",
       "        text-align: left;\n",
       "    }\n",
       "\n",
       "    .dataframe thead tr:last-of-type th {\n",
       "        text-align: right;\n",
       "    }\n",
       "</style>\n",
       "<table border=\"1\" class=\"dataframe\">\n",
       "  <thead>\n",
       "    <tr>\n",
       "      <th></th>\n",
       "      <th>color1</th>\n",
       "      <th>Black</th>\n",
       "      <th>Yellow</th>\n",
       "      <th>Blue</th>\n",
       "    </tr>\n",
       "    <tr>\n",
       "      <th></th>\n",
       "      <th>color2</th>\n",
       "      <th>Green</th>\n",
       "      <th>Red</th>\n",
       "      <th>Green</th>\n",
       "    </tr>\n",
       "    <tr>\n",
       "      <th>key1</th>\n",
       "      <th>key2</th>\n",
       "      <th></th>\n",
       "      <th></th>\n",
       "      <th></th>\n",
       "    </tr>\n",
       "  </thead>\n",
       "  <tbody>\n",
       "    <tr>\n",
       "      <th rowspan=\"2\" valign=\"top\">a</th>\n",
       "      <th>1</th>\n",
       "      <td>0</td>\n",
       "      <td>1</td>\n",
       "      <td>2</td>\n",
       "    </tr>\n",
       "    <tr>\n",
       "      <th>2</th>\n",
       "      <td>3</td>\n",
       "      <td>4</td>\n",
       "      <td>5</td>\n",
       "    </tr>\n",
       "    <tr>\n",
       "      <th rowspan=\"2\" valign=\"top\">b</th>\n",
       "      <th>1</th>\n",
       "      <td>6</td>\n",
       "      <td>7</td>\n",
       "      <td>8</td>\n",
       "    </tr>\n",
       "    <tr>\n",
       "      <th>2</th>\n",
       "      <td>9</td>\n",
       "      <td>10</td>\n",
       "      <td>11</td>\n",
       "    </tr>\n",
       "  </tbody>\n",
       "</table>\n",
       "</div>"
      ],
      "text/plain": [
       "color1    Black Yellow  Blue\n",
       "color2    Green    Red Green\n",
       "key1 key2                   \n",
       "a    1        0      1     2\n",
       "     2        3      4     5\n",
       "b    1        6      7     8\n",
       "     2        9     10    11"
      ]
     },
     "execution_count": 76,
     "metadata": {},
     "output_type": "execute_result"
    }
   ],
   "source": [
    "frame_data = DataFrame(np.arange(12).reshape((4,3)),\n",
    "                      index=[['a','a','b','b'],[1,2,1,2]],\n",
    "                      columns=[['Black','Yellow','Blue'],['Green','Red','Green']]\n",
    "                      )\n",
    "frame_data.index.names=['key1','key2']\n",
    "frame_data.columns.names=['color1','color2']\n",
    "frame_data"
   ]
  },
  {
   "cell_type": "code",
   "execution_count": 77,
   "metadata": {},
   "outputs": [
    {
     "data": {
      "text/html": [
       "<div>\n",
       "<style scoped>\n",
       "    .dataframe tbody tr th:only-of-type {\n",
       "        vertical-align: middle;\n",
       "    }\n",
       "\n",
       "    .dataframe tbody tr th {\n",
       "        vertical-align: top;\n",
       "    }\n",
       "\n",
       "    .dataframe thead th {\n",
       "        text-align: right;\n",
       "    }\n",
       "</style>\n",
       "<table border=\"1\" class=\"dataframe\">\n",
       "  <thead>\n",
       "    <tr style=\"text-align: right;\">\n",
       "      <th></th>\n",
       "      <th>color2</th>\n",
       "      <th>Green</th>\n",
       "    </tr>\n",
       "    <tr>\n",
       "      <th>key1</th>\n",
       "      <th>key2</th>\n",
       "      <th></th>\n",
       "    </tr>\n",
       "  </thead>\n",
       "  <tbody>\n",
       "    <tr>\n",
       "      <th rowspan=\"2\" valign=\"top\">a</th>\n",
       "      <th>1</th>\n",
       "      <td>0</td>\n",
       "    </tr>\n",
       "    <tr>\n",
       "      <th>2</th>\n",
       "      <td>3</td>\n",
       "    </tr>\n",
       "    <tr>\n",
       "      <th rowspan=\"2\" valign=\"top\">b</th>\n",
       "      <th>1</th>\n",
       "      <td>6</td>\n",
       "    </tr>\n",
       "    <tr>\n",
       "      <th>2</th>\n",
       "      <td>9</td>\n",
       "    </tr>\n",
       "  </tbody>\n",
       "</table>\n",
       "</div>"
      ],
      "text/plain": [
       "color2     Green\n",
       "key1 key2       \n",
       "a    1         0\n",
       "     2         3\n",
       "b    1         6\n",
       "     2         9"
      ]
     },
     "execution_count": 77,
     "metadata": {},
     "output_type": "execute_result"
    }
   ],
   "source": [
    "frame_data['Black']"
   ]
  },
  {
   "cell_type": "code",
   "execution_count": 79,
   "metadata": {},
   "outputs": [
    {
     "data": {
      "text/html": [
       "<div>\n",
       "<style scoped>\n",
       "    .dataframe tbody tr th:only-of-type {\n",
       "        vertical-align: middle;\n",
       "    }\n",
       "\n",
       "    .dataframe tbody tr th {\n",
       "        vertical-align: top;\n",
       "    }\n",
       "\n",
       "    .dataframe thead tr th {\n",
       "        text-align: left;\n",
       "    }\n",
       "\n",
       "    .dataframe thead tr:last-of-type th {\n",
       "        text-align: right;\n",
       "    }\n",
       "</style>\n",
       "<table border=\"1\" class=\"dataframe\">\n",
       "  <thead>\n",
       "    <tr>\n",
       "      <th>color1</th>\n",
       "      <th>Black</th>\n",
       "    </tr>\n",
       "    <tr>\n",
       "      <th>color2</th>\n",
       "      <th>Green</th>\n",
       "    </tr>\n",
       "    <tr>\n",
       "      <th>key2</th>\n",
       "      <th></th>\n",
       "    </tr>\n",
       "  </thead>\n",
       "  <tbody>\n",
       "    <tr>\n",
       "      <th>1</th>\n",
       "      <td>0</td>\n",
       "    </tr>\n",
       "    <tr>\n",
       "      <th>2</th>\n",
       "      <td>3</td>\n",
       "    </tr>\n",
       "  </tbody>\n",
       "</table>\n",
       "</div>"
      ],
      "text/plain": [
       "color1 Black\n",
       "color2 Green\n",
       "key2        \n",
       "1          0\n",
       "2          3"
      ]
     },
     "execution_count": 79,
     "metadata": {},
     "output_type": "execute_result"
    }
   ],
   "source": [
    "frame_data.loc['a',['Black']]"
   ]
  },
  {
   "cell_type": "code",
   "execution_count": 81,
   "metadata": {},
   "outputs": [
    {
     "data": {
      "text/html": [
       "<div>\n",
       "<style scoped>\n",
       "    .dataframe tbody tr th:only-of-type {\n",
       "        vertical-align: middle;\n",
       "    }\n",
       "\n",
       "    .dataframe tbody tr th {\n",
       "        vertical-align: top;\n",
       "    }\n",
       "\n",
       "    .dataframe thead tr th {\n",
       "        text-align: left;\n",
       "    }\n",
       "\n",
       "    .dataframe thead tr:last-of-type th {\n",
       "        text-align: right;\n",
       "    }\n",
       "</style>\n",
       "<table border=\"1\" class=\"dataframe\">\n",
       "  <thead>\n",
       "    <tr>\n",
       "      <th>color1</th>\n",
       "      <th>Black</th>\n",
       "      <th>Yellow</th>\n",
       "      <th>Blue</th>\n",
       "    </tr>\n",
       "    <tr>\n",
       "      <th>color2</th>\n",
       "      <th>Green</th>\n",
       "      <th>Red</th>\n",
       "      <th>Green</th>\n",
       "    </tr>\n",
       "    <tr>\n",
       "      <th>key2</th>\n",
       "      <th></th>\n",
       "      <th></th>\n",
       "      <th></th>\n",
       "    </tr>\n",
       "  </thead>\n",
       "  <tbody>\n",
       "    <tr>\n",
       "      <th>1</th>\n",
       "      <td>6</td>\n",
       "      <td>8</td>\n",
       "      <td>10</td>\n",
       "    </tr>\n",
       "    <tr>\n",
       "      <th>2</th>\n",
       "      <td>12</td>\n",
       "      <td>14</td>\n",
       "      <td>16</td>\n",
       "    </tr>\n",
       "  </tbody>\n",
       "</table>\n",
       "</div>"
      ],
      "text/plain": [
       "color1 Black Yellow  Blue\n",
       "color2 Green    Red Green\n",
       "key2                     \n",
       "1          6      8    10\n",
       "2         12     14    16"
      ]
     },
     "execution_count": 81,
     "metadata": {},
     "output_type": "execute_result"
    }
   ],
   "source": [
    "frame_data.sum(level='key2')"
   ]
  },
  {
   "cell_type": "code",
   "execution_count": 82,
   "metadata": {},
   "outputs": [
    {
     "data": {
      "text/html": [
       "<div>\n",
       "<style scoped>\n",
       "    .dataframe tbody tr th:only-of-type {\n",
       "        vertical-align: middle;\n",
       "    }\n",
       "\n",
       "    .dataframe tbody tr th {\n",
       "        vertical-align: top;\n",
       "    }\n",
       "\n",
       "    .dataframe thead tr th {\n",
       "        text-align: left;\n",
       "    }\n",
       "\n",
       "    .dataframe thead tr:last-of-type th {\n",
       "        text-align: right;\n",
       "    }\n",
       "</style>\n",
       "<table border=\"1\" class=\"dataframe\">\n",
       "  <thead>\n",
       "    <tr>\n",
       "      <th></th>\n",
       "      <th>color1</th>\n",
       "      <th>Black</th>\n",
       "      <th>Yellow</th>\n",
       "      <th>Blue</th>\n",
       "    </tr>\n",
       "    <tr>\n",
       "      <th></th>\n",
       "      <th>color2</th>\n",
       "      <th>Green</th>\n",
       "      <th>Red</th>\n",
       "      <th>Green</th>\n",
       "    </tr>\n",
       "    <tr>\n",
       "      <th>key1</th>\n",
       "      <th>key2</th>\n",
       "      <th></th>\n",
       "      <th></th>\n",
       "      <th></th>\n",
       "    </tr>\n",
       "  </thead>\n",
       "  <tbody>\n",
       "    <tr>\n",
       "      <th rowspan=\"2\" valign=\"top\">a</th>\n",
       "      <th>1</th>\n",
       "      <td>0</td>\n",
       "      <td>1</td>\n",
       "      <td>2</td>\n",
       "    </tr>\n",
       "    <tr>\n",
       "      <th>2</th>\n",
       "      <td>3</td>\n",
       "      <td>4</td>\n",
       "      <td>5</td>\n",
       "    </tr>\n",
       "    <tr>\n",
       "      <th rowspan=\"2\" valign=\"top\">b</th>\n",
       "      <th>1</th>\n",
       "      <td>6</td>\n",
       "      <td>7</td>\n",
       "      <td>8</td>\n",
       "    </tr>\n",
       "    <tr>\n",
       "      <th>2</th>\n",
       "      <td>9</td>\n",
       "      <td>10</td>\n",
       "      <td>11</td>\n",
       "    </tr>\n",
       "  </tbody>\n",
       "</table>\n",
       "</div>"
      ],
      "text/plain": [
       "color1    Black Yellow  Blue\n",
       "color2    Green    Red Green\n",
       "key1 key2                   \n",
       "a    1        0      1     2\n",
       "     2        3      4     5\n",
       "b    1        6      7     8\n",
       "     2        9     10    11"
      ]
     },
     "execution_count": 82,
     "metadata": {},
     "output_type": "execute_result"
    }
   ],
   "source": [
    "frame_data"
   ]
  },
  {
   "cell_type": "code",
   "execution_count": 83,
   "metadata": {},
   "outputs": [
    {
     "data": {
      "text/html": [
       "<div>\n",
       "<style scoped>\n",
       "    .dataframe tbody tr th:only-of-type {\n",
       "        vertical-align: middle;\n",
       "    }\n",
       "\n",
       "    .dataframe tbody tr th {\n",
       "        vertical-align: top;\n",
       "    }\n",
       "\n",
       "    .dataframe thead th {\n",
       "        text-align: right;\n",
       "    }\n",
       "</style>\n",
       "<table border=\"1\" class=\"dataframe\">\n",
       "  <thead>\n",
       "    <tr style=\"text-align: right;\">\n",
       "      <th></th>\n",
       "      <th>color2</th>\n",
       "      <th>Green</th>\n",
       "      <th>Red</th>\n",
       "    </tr>\n",
       "    <tr>\n",
       "      <th>key1</th>\n",
       "      <th>key2</th>\n",
       "      <th></th>\n",
       "      <th></th>\n",
       "    </tr>\n",
       "  </thead>\n",
       "  <tbody>\n",
       "    <tr>\n",
       "      <th rowspan=\"2\" valign=\"top\">a</th>\n",
       "      <th>1</th>\n",
       "      <td>2</td>\n",
       "      <td>1</td>\n",
       "    </tr>\n",
       "    <tr>\n",
       "      <th>2</th>\n",
       "      <td>8</td>\n",
       "      <td>4</td>\n",
       "    </tr>\n",
       "    <tr>\n",
       "      <th rowspan=\"2\" valign=\"top\">b</th>\n",
       "      <th>1</th>\n",
       "      <td>14</td>\n",
       "      <td>7</td>\n",
       "    </tr>\n",
       "    <tr>\n",
       "      <th>2</th>\n",
       "      <td>20</td>\n",
       "      <td>10</td>\n",
       "    </tr>\n",
       "  </tbody>\n",
       "</table>\n",
       "</div>"
      ],
      "text/plain": [
       "color2     Green  Red\n",
       "key1 key2            \n",
       "a    1         2    1\n",
       "     2         8    4\n",
       "b    1        14    7\n",
       "     2        20   10"
      ]
     },
     "execution_count": 83,
     "metadata": {},
     "output_type": "execute_result"
    }
   ],
   "source": [
    "frame_data.sum(level='color2', axis=1)"
   ]
  },
  {
   "cell_type": "markdown",
   "metadata": {},
   "source": [
    "## pandas文本格式数据处理\n"
   ]
  },
  {
   "cell_type": "code",
   "execution_count": 84,
   "metadata": {},
   "outputs": [
    {
     "name": "stdout",
     "output_type": "stream",
     "text": [
      "a,b,c,d,e\r\n",
      "1,2,3,4,5\r\n",
      "6,7,8,9,10"
     ]
    }
   ],
   "source": [
    "cat data1.csv"
   ]
  },
  {
   "cell_type": "code",
   "execution_count": 85,
   "metadata": {},
   "outputs": [
    {
     "data": {
      "text/html": [
       "<div>\n",
       "<style scoped>\n",
       "    .dataframe tbody tr th:only-of-type {\n",
       "        vertical-align: middle;\n",
       "    }\n",
       "\n",
       "    .dataframe tbody tr th {\n",
       "        vertical-align: top;\n",
       "    }\n",
       "\n",
       "    .dataframe thead th {\n",
       "        text-align: right;\n",
       "    }\n",
       "</style>\n",
       "<table border=\"1\" class=\"dataframe\">\n",
       "  <thead>\n",
       "    <tr style=\"text-align: right;\">\n",
       "      <th></th>\n",
       "      <th>a</th>\n",
       "      <th>b</th>\n",
       "      <th>c</th>\n",
       "      <th>d</th>\n",
       "      <th>e</th>\n",
       "    </tr>\n",
       "  </thead>\n",
       "  <tbody>\n",
       "    <tr>\n",
       "      <th>0</th>\n",
       "      <td>1</td>\n",
       "      <td>2</td>\n",
       "      <td>3</td>\n",
       "      <td>4</td>\n",
       "      <td>5</td>\n",
       "    </tr>\n",
       "    <tr>\n",
       "      <th>1</th>\n",
       "      <td>6</td>\n",
       "      <td>7</td>\n",
       "      <td>8</td>\n",
       "      <td>9</td>\n",
       "      <td>10</td>\n",
       "    </tr>\n",
       "  </tbody>\n",
       "</table>\n",
       "</div>"
      ],
      "text/plain": [
       "   a  b  c  d   e\n",
       "0  1  2  3  4   5\n",
       "1  6  7  8  9  10"
      ]
     },
     "execution_count": 85,
     "metadata": {},
     "output_type": "execute_result"
    }
   ],
   "source": [
    "pd.read_csv('data1.csv')"
   ]
  },
  {
   "cell_type": "code",
   "execution_count": 86,
   "metadata": {},
   "outputs": [
    {
     "name": "stderr",
     "output_type": "stream",
     "text": [
      "/anaconda3/lib/python3.7/site-packages/ipykernel_launcher.py:1: FutureWarning: read_table is deprecated, use read_csv instead.\n",
      "  \"\"\"Entry point for launching an IPython kernel.\n"
     ]
    },
    {
     "data": {
      "text/html": [
       "<div>\n",
       "<style scoped>\n",
       "    .dataframe tbody tr th:only-of-type {\n",
       "        vertical-align: middle;\n",
       "    }\n",
       "\n",
       "    .dataframe tbody tr th {\n",
       "        vertical-align: top;\n",
       "    }\n",
       "\n",
       "    .dataframe thead th {\n",
       "        text-align: right;\n",
       "    }\n",
       "</style>\n",
       "<table border=\"1\" class=\"dataframe\">\n",
       "  <thead>\n",
       "    <tr style=\"text-align: right;\">\n",
       "      <th></th>\n",
       "      <th>a</th>\n",
       "      <th>b</th>\n",
       "      <th>c</th>\n",
       "      <th>d</th>\n",
       "      <th>e</th>\n",
       "    </tr>\n",
       "  </thead>\n",
       "  <tbody>\n",
       "    <tr>\n",
       "      <th>0</th>\n",
       "      <td>1</td>\n",
       "      <td>2</td>\n",
       "      <td>3</td>\n",
       "      <td>4</td>\n",
       "      <td>5</td>\n",
       "    </tr>\n",
       "    <tr>\n",
       "      <th>1</th>\n",
       "      <td>6</td>\n",
       "      <td>7</td>\n",
       "      <td>8</td>\n",
       "      <td>9</td>\n",
       "      <td>10</td>\n",
       "    </tr>\n",
       "  </tbody>\n",
       "</table>\n",
       "</div>"
      ],
      "text/plain": [
       "   a  b  c  d   e\n",
       "0  1  2  3  4   5\n",
       "1  6  7  8  9  10"
      ]
     },
     "execution_count": 86,
     "metadata": {},
     "output_type": "execute_result"
    }
   ],
   "source": [
    "pd.read_table('data1.csv',sep=',')"
   ]
  },
  {
   "cell_type": "code",
   "execution_count": 87,
   "metadata": {},
   "outputs": [
    {
     "data": {
      "text/html": [
       "<div>\n",
       "<style scoped>\n",
       "    .dataframe tbody tr th:only-of-type {\n",
       "        vertical-align: middle;\n",
       "    }\n",
       "\n",
       "    .dataframe tbody tr th {\n",
       "        vertical-align: top;\n",
       "    }\n",
       "\n",
       "    .dataframe thead th {\n",
       "        text-align: right;\n",
       "    }\n",
       "</style>\n",
       "<table border=\"1\" class=\"dataframe\">\n",
       "  <thead>\n",
       "    <tr style=\"text-align: right;\">\n",
       "      <th></th>\n",
       "      <th>0</th>\n",
       "      <th>1</th>\n",
       "      <th>2</th>\n",
       "      <th>3</th>\n",
       "      <th>4</th>\n",
       "    </tr>\n",
       "  </thead>\n",
       "  <tbody>\n",
       "    <tr>\n",
       "      <th>0</th>\n",
       "      <td>a</td>\n",
       "      <td>b</td>\n",
       "      <td>c</td>\n",
       "      <td>d</td>\n",
       "      <td>e</td>\n",
       "    </tr>\n",
       "    <tr>\n",
       "      <th>1</th>\n",
       "      <td>1</td>\n",
       "      <td>2</td>\n",
       "      <td>3</td>\n",
       "      <td>4</td>\n",
       "      <td>5</td>\n",
       "    </tr>\n",
       "    <tr>\n",
       "      <th>2</th>\n",
       "      <td>6</td>\n",
       "      <td>7</td>\n",
       "      <td>8</td>\n",
       "      <td>9</td>\n",
       "      <td>10</td>\n",
       "    </tr>\n",
       "  </tbody>\n",
       "</table>\n",
       "</div>"
      ],
      "text/plain": [
       "   0  1  2  3   4\n",
       "0  a  b  c  d   e\n",
       "1  1  2  3  4   5\n",
       "2  6  7  8  9  10"
      ]
     },
     "execution_count": 87,
     "metadata": {},
     "output_type": "execute_result"
    }
   ],
   "source": [
    "pd.read_csv('data1.csv', header=None)"
   ]
  },
  {
   "cell_type": "code",
   "execution_count": 88,
   "metadata": {},
   "outputs": [
    {
     "data": {
      "text/html": [
       "<div>\n",
       "<style scoped>\n",
       "    .dataframe tbody tr th:only-of-type {\n",
       "        vertical-align: middle;\n",
       "    }\n",
       "\n",
       "    .dataframe tbody tr th {\n",
       "        vertical-align: top;\n",
       "    }\n",
       "\n",
       "    .dataframe thead th {\n",
       "        text-align: right;\n",
       "    }\n",
       "</style>\n",
       "<table border=\"1\" class=\"dataframe\">\n",
       "  <thead>\n",
       "    <tr style=\"text-align: right;\">\n",
       "      <th></th>\n",
       "      <th>a</th>\n",
       "      <th>b</th>\n",
       "      <th>d</th>\n",
       "      <th>e</th>\n",
       "    </tr>\n",
       "    <tr>\n",
       "      <th>c</th>\n",
       "      <th></th>\n",
       "      <th></th>\n",
       "      <th></th>\n",
       "      <th></th>\n",
       "    </tr>\n",
       "  </thead>\n",
       "  <tbody>\n",
       "    <tr>\n",
       "      <th>3</th>\n",
       "      <td>1</td>\n",
       "      <td>2</td>\n",
       "      <td>4</td>\n",
       "      <td>5</td>\n",
       "    </tr>\n",
       "    <tr>\n",
       "      <th>8</th>\n",
       "      <td>6</td>\n",
       "      <td>7</td>\n",
       "      <td>9</td>\n",
       "      <td>10</td>\n",
       "    </tr>\n",
       "  </tbody>\n",
       "</table>\n",
       "</div>"
      ],
      "text/plain": [
       "   a  b  d   e\n",
       "c             \n",
       "3  1  2  4   5\n",
       "8  6  7  9  10"
      ]
     },
     "execution_count": 88,
     "metadata": {},
     "output_type": "execute_result"
    }
   ],
   "source": [
    "pd.read_csv('data1.csv', index_col='c')"
   ]
  },
  {
   "cell_type": "code",
   "execution_count": 89,
   "metadata": {},
   "outputs": [
    {
     "data": {
      "text/html": [
       "<div>\n",
       "<style scoped>\n",
       "    .dataframe tbody tr th:only-of-type {\n",
       "        vertical-align: middle;\n",
       "    }\n",
       "\n",
       "    .dataframe tbody tr th {\n",
       "        vertical-align: top;\n",
       "    }\n",
       "\n",
       "    .dataframe thead th {\n",
       "        text-align: right;\n",
       "    }\n",
       "</style>\n",
       "<table border=\"1\" class=\"dataframe\">\n",
       "  <thead>\n",
       "    <tr style=\"text-align: right;\">\n",
       "      <th></th>\n",
       "      <th></th>\n",
       "      <th>a</th>\n",
       "      <th>b</th>\n",
       "      <th>e</th>\n",
       "    </tr>\n",
       "    <tr>\n",
       "      <th>c</th>\n",
       "      <th>d</th>\n",
       "      <th></th>\n",
       "      <th></th>\n",
       "      <th></th>\n",
       "    </tr>\n",
       "  </thead>\n",
       "  <tbody>\n",
       "    <tr>\n",
       "      <th>3</th>\n",
       "      <th>4</th>\n",
       "      <td>1</td>\n",
       "      <td>2</td>\n",
       "      <td>5</td>\n",
       "    </tr>\n",
       "    <tr>\n",
       "      <th>8</th>\n",
       "      <th>9</th>\n",
       "      <td>6</td>\n",
       "      <td>7</td>\n",
       "      <td>10</td>\n",
       "    </tr>\n",
       "  </tbody>\n",
       "</table>\n",
       "</div>"
      ],
      "text/plain": [
       "     a  b   e\n",
       "c d          \n",
       "3 4  1  2   5\n",
       "8 9  6  7  10"
      ]
     },
     "execution_count": 89,
     "metadata": {},
     "output_type": "execute_result"
    }
   ],
   "source": [
    "pd.read_csv('data1.csv', index_col=['c','d'])"
   ]
  },
  {
   "cell_type": "code",
   "execution_count": 90,
   "metadata": {},
   "outputs": [
    {
     "name": "stdout",
     "output_type": "stream",
     "text": [
      "a,b,c,d,message,data\r\n",
      "1,2,3,4,5,NA\r\n",
      "hello,6,7,8,9,greedyai\r\n",
      "NA,hi,10,11,12,13"
     ]
    }
   ],
   "source": [
    "cat data2.csv"
   ]
  },
  {
   "cell_type": "code",
   "execution_count": 91,
   "metadata": {},
   "outputs": [
    {
     "data": {
      "text/html": [
       "<div>\n",
       "<style scoped>\n",
       "    .dataframe tbody tr th:only-of-type {\n",
       "        vertical-align: middle;\n",
       "    }\n",
       "\n",
       "    .dataframe tbody tr th {\n",
       "        vertical-align: top;\n",
       "    }\n",
       "\n",
       "    .dataframe thead th {\n",
       "        text-align: right;\n",
       "    }\n",
       "</style>\n",
       "<table border=\"1\" class=\"dataframe\">\n",
       "  <thead>\n",
       "    <tr style=\"text-align: right;\">\n",
       "      <th></th>\n",
       "      <th>a</th>\n",
       "      <th>b</th>\n",
       "      <th>c</th>\n",
       "      <th>d</th>\n",
       "      <th>message</th>\n",
       "      <th>data</th>\n",
       "    </tr>\n",
       "  </thead>\n",
       "  <tbody>\n",
       "    <tr>\n",
       "      <th>0</th>\n",
       "      <td>1</td>\n",
       "      <td>2</td>\n",
       "      <td>3</td>\n",
       "      <td>4</td>\n",
       "      <td>5</td>\n",
       "      <td>NaN</td>\n",
       "    </tr>\n",
       "    <tr>\n",
       "      <th>1</th>\n",
       "      <td>hello</td>\n",
       "      <td>6</td>\n",
       "      <td>7</td>\n",
       "      <td>8</td>\n",
       "      <td>9</td>\n",
       "      <td>greedyai</td>\n",
       "    </tr>\n",
       "    <tr>\n",
       "      <th>2</th>\n",
       "      <td>NaN</td>\n",
       "      <td>hi</td>\n",
       "      <td>10</td>\n",
       "      <td>11</td>\n",
       "      <td>12</td>\n",
       "      <td>13</td>\n",
       "    </tr>\n",
       "  </tbody>\n",
       "</table>\n",
       "</div>"
      ],
      "text/plain": [
       "       a   b   c   d  message      data\n",
       "0      1   2   3   4        5       NaN\n",
       "1  hello   6   7   8        9  greedyai\n",
       "2    NaN  hi  10  11       12        13"
      ]
     },
     "execution_count": 91,
     "metadata": {},
     "output_type": "execute_result"
    }
   ],
   "source": [
    "pd.read_csv('data2.csv')"
   ]
  },
  {
   "cell_type": "code",
   "execution_count": 94,
   "metadata": {},
   "outputs": [
    {
     "data": {
      "text/html": [
       "<div>\n",
       "<style scoped>\n",
       "    .dataframe tbody tr th:only-of-type {\n",
       "        vertical-align: middle;\n",
       "    }\n",
       "\n",
       "    .dataframe tbody tr th {\n",
       "        vertical-align: top;\n",
       "    }\n",
       "\n",
       "    .dataframe thead th {\n",
       "        text-align: right;\n",
       "    }\n",
       "</style>\n",
       "<table border=\"1\" class=\"dataframe\">\n",
       "  <thead>\n",
       "    <tr style=\"text-align: right;\">\n",
       "      <th></th>\n",
       "      <th>a</th>\n",
       "      <th>b</th>\n",
       "      <th>c</th>\n",
       "      <th>d</th>\n",
       "      <th>message</th>\n",
       "      <th>data</th>\n",
       "    </tr>\n",
       "  </thead>\n",
       "  <tbody>\n",
       "    <tr>\n",
       "      <th>0</th>\n",
       "      <td>hello</td>\n",
       "      <td>6</td>\n",
       "      <td>7</td>\n",
       "      <td>8</td>\n",
       "      <td>9</td>\n",
       "      <td>greedyai</td>\n",
       "    </tr>\n",
       "    <tr>\n",
       "      <th>1</th>\n",
       "      <td>NaN</td>\n",
       "      <td>hi</td>\n",
       "      <td>10</td>\n",
       "      <td>11</td>\n",
       "      <td>12</td>\n",
       "      <td>13</td>\n",
       "    </tr>\n",
       "  </tbody>\n",
       "</table>\n",
       "</div>"
      ],
      "text/plain": [
       "       a   b   c   d  message      data\n",
       "0  hello   6   7   8        9  greedyai\n",
       "1    NaN  hi  10  11       12        13"
      ]
     },
     "execution_count": 94,
     "metadata": {},
     "output_type": "execute_result"
    }
   ],
   "source": [
    "pd.read_csv('data2.csv', skiprows=[1])   # 这里边的行号是从1开始的"
   ]
  },
  {
   "cell_type": "code",
   "execution_count": 95,
   "metadata": {},
   "outputs": [
    {
     "data": {
      "text/html": [
       "<div>\n",
       "<style scoped>\n",
       "    .dataframe tbody tr th:only-of-type {\n",
       "        vertical-align: middle;\n",
       "    }\n",
       "\n",
       "    .dataframe tbody tr th {\n",
       "        vertical-align: top;\n",
       "    }\n",
       "\n",
       "    .dataframe thead th {\n",
       "        text-align: right;\n",
       "    }\n",
       "</style>\n",
       "<table border=\"1\" class=\"dataframe\">\n",
       "  <thead>\n",
       "    <tr style=\"text-align: right;\">\n",
       "      <th></th>\n",
       "      <th>a</th>\n",
       "      <th>b</th>\n",
       "      <th>c</th>\n",
       "      <th>d</th>\n",
       "      <th>message</th>\n",
       "      <th>data</th>\n",
       "    </tr>\n",
       "  </thead>\n",
       "  <tbody>\n",
       "    <tr>\n",
       "      <th>0</th>\n",
       "      <td>False</td>\n",
       "      <td>False</td>\n",
       "      <td>False</td>\n",
       "      <td>False</td>\n",
       "      <td>False</td>\n",
       "      <td>True</td>\n",
       "    </tr>\n",
       "    <tr>\n",
       "      <th>1</th>\n",
       "      <td>False</td>\n",
       "      <td>False</td>\n",
       "      <td>False</td>\n",
       "      <td>False</td>\n",
       "      <td>False</td>\n",
       "      <td>False</td>\n",
       "    </tr>\n",
       "    <tr>\n",
       "      <th>2</th>\n",
       "      <td>True</td>\n",
       "      <td>False</td>\n",
       "      <td>False</td>\n",
       "      <td>False</td>\n",
       "      <td>False</td>\n",
       "      <td>False</td>\n",
       "    </tr>\n",
       "  </tbody>\n",
       "</table>\n",
       "</div>"
      ],
      "text/plain": [
       "       a      b      c      d  message   data\n",
       "0  False  False  False  False    False   True\n",
       "1  False  False  False  False    False  False\n",
       "2   True  False  False  False    False  False"
      ]
     },
     "execution_count": 95,
     "metadata": {},
     "output_type": "execute_result"
    }
   ],
   "source": [
    "data = pd.read_csv('data2.csv') \n",
    "pd.isnull(data)"
   ]
  },
  {
   "cell_type": "code",
   "execution_count": 96,
   "metadata": {},
   "outputs": [
    {
     "data": {
      "text/html": [
       "<div>\n",
       "<style scoped>\n",
       "    .dataframe tbody tr th:only-of-type {\n",
       "        vertical-align: middle;\n",
       "    }\n",
       "\n",
       "    .dataframe tbody tr th {\n",
       "        vertical-align: top;\n",
       "    }\n",
       "\n",
       "    .dataframe thead th {\n",
       "        text-align: right;\n",
       "    }\n",
       "</style>\n",
       "<table border=\"1\" class=\"dataframe\">\n",
       "  <thead>\n",
       "    <tr style=\"text-align: right;\">\n",
       "      <th></th>\n",
       "      <th>name:ID</th>\n",
       "      <th>sex</th>\n",
       "      <th>age</th>\n",
       "      <th>:LABEL</th>\n",
       "    </tr>\n",
       "  </thead>\n",
       "  <tbody>\n",
       "    <tr>\n",
       "      <th>0</th>\n",
       "      <td>谢永林</td>\n",
       "      <td>男</td>\n",
       "      <td>50</td>\n",
       "      <td>people</td>\n",
       "    </tr>\n",
       "    <tr>\n",
       "      <th>1</th>\n",
       "      <td>胡跃飞</td>\n",
       "      <td>男</td>\n",
       "      <td>56</td>\n",
       "      <td>people</td>\n",
       "    </tr>\n",
       "    <tr>\n",
       "      <th>2</th>\n",
       "      <td>刘勇</td>\n",
       "      <td>男</td>\n",
       "      <td>49</td>\n",
       "      <td>people</td>\n",
       "    </tr>\n",
       "    <tr>\n",
       "      <th>3</th>\n",
       "      <td>朱季成</td>\n",
       "      <td>男</td>\n",
       "      <td>37</td>\n",
       "      <td>people</td>\n",
       "    </tr>\n",
       "    <tr>\n",
       "      <th>4</th>\n",
       "      <td>张丕杰</td>\n",
       "      <td>男</td>\n",
       "      <td>57</td>\n",
       "      <td>people</td>\n",
       "    </tr>\n",
       "    <tr>\n",
       "      <th>5</th>\n",
       "      <td>郭为</td>\n",
       "      <td>男</td>\n",
       "      <td>55</td>\n",
       "      <td>people</td>\n",
       "    </tr>\n",
       "    <tr>\n",
       "      <th>6</th>\n",
       "      <td>陈旭</td>\n",
       "      <td>男</td>\n",
       "      <td>56</td>\n",
       "      <td>people</td>\n",
       "    </tr>\n",
       "    <tr>\n",
       "      <th>7</th>\n",
       "      <td>周政</td>\n",
       "      <td>男</td>\n",
       "      <td>55</td>\n",
       "      <td>people</td>\n",
       "    </tr>\n",
       "    <tr>\n",
       "      <th>8</th>\n",
       "      <td>周建国</td>\n",
       "      <td>男</td>\n",
       "      <td>63</td>\n",
       "      <td>people</td>\n",
       "    </tr>\n",
       "    <tr>\n",
       "      <th>9</th>\n",
       "      <td>严圣军</td>\n",
       "      <td>男</td>\n",
       "      <td>50</td>\n",
       "      <td>people</td>\n",
       "    </tr>\n",
       "    <tr>\n",
       "      <th>10</th>\n",
       "      <td>熊佩锦</td>\n",
       "      <td>男</td>\n",
       "      <td>53</td>\n",
       "      <td>people</td>\n",
       "    </tr>\n",
       "    <tr>\n",
       "      <th>11</th>\n",
       "      <td>林兆雄</td>\n",
       "      <td>男</td>\n",
       "      <td>51</td>\n",
       "      <td>people</td>\n",
       "    </tr>\n",
       "    <tr>\n",
       "      <th>12</th>\n",
       "      <td>苏从跃</td>\n",
       "      <td>男</td>\n",
       "      <td>48</td>\n",
       "      <td>people</td>\n",
       "    </tr>\n",
       "    <tr>\n",
       "      <th>13</th>\n",
       "      <td>张志新</td>\n",
       "      <td>男</td>\n",
       "      <td>50</td>\n",
       "      <td>people</td>\n",
       "    </tr>\n",
       "    <tr>\n",
       "      <th>14</th>\n",
       "      <td>辛昕</td>\n",
       "      <td>女</td>\n",
       "      <td>41</td>\n",
       "      <td>people</td>\n",
       "    </tr>\n",
       "    <tr>\n",
       "      <th>15</th>\n",
       "      <td>周剑</td>\n",
       "      <td>男</td>\n",
       "      <td>46</td>\n",
       "      <td>people</td>\n",
       "    </tr>\n",
       "    <tr>\n",
       "      <th>16</th>\n",
       "      <td>曹荣根</td>\n",
       "      <td>男</td>\n",
       "      <td>55</td>\n",
       "      <td>people</td>\n",
       "    </tr>\n",
       "    <tr>\n",
       "      <th>17</th>\n",
       "      <td>陈茂政</td>\n",
       "      <td>男</td>\n",
       "      <td>54</td>\n",
       "      <td>people</td>\n",
       "    </tr>\n",
       "    <tr>\n",
       "      <th>18</th>\n",
       "      <td>曹德标</td>\n",
       "      <td>男</td>\n",
       "      <td>52</td>\n",
       "      <td>people</td>\n",
       "    </tr>\n",
       "    <tr>\n",
       "      <th>19</th>\n",
       "      <td>黄历新</td>\n",
       "      <td>男</td>\n",
       "      <td>52</td>\n",
       "      <td>people</td>\n",
       "    </tr>\n",
       "    <tr>\n",
       "      <th>20</th>\n",
       "      <td>黄勇峰</td>\n",
       "      <td>男</td>\n",
       "      <td>44</td>\n",
       "      <td>people</td>\n",
       "    </tr>\n",
       "    <tr>\n",
       "      <th>21</th>\n",
       "      <td>吕航</td>\n",
       "      <td>男</td>\n",
       "      <td>57</td>\n",
       "      <td>people</td>\n",
       "    </tr>\n",
       "    <tr>\n",
       "      <th>22</th>\n",
       "      <td>孙承铭</td>\n",
       "      <td>男</td>\n",
       "      <td>59</td>\n",
       "      <td>people</td>\n",
       "    </tr>\n",
       "    <tr>\n",
       "      <th>23</th>\n",
       "      <td>杨国富</td>\n",
       "      <td>男</td>\n",
       "      <td>58</td>\n",
       "      <td>people</td>\n",
       "    </tr>\n",
       "    <tr>\n",
       "      <th>24</th>\n",
       "      <td>白景涛</td>\n",
       "      <td>男</td>\n",
       "      <td>53</td>\n",
       "      <td>people</td>\n",
       "    </tr>\n",
       "    <tr>\n",
       "      <th>25</th>\n",
       "      <td>陈立彬</td>\n",
       "      <td>男</td>\n",
       "      <td>54</td>\n",
       "      <td>people</td>\n",
       "    </tr>\n",
       "    <tr>\n",
       "      <th>26</th>\n",
       "      <td>丁辉</td>\n",
       "      <td>男</td>\n",
       "      <td>45</td>\n",
       "      <td>people</td>\n",
       "    </tr>\n",
       "    <tr>\n",
       "      <th>27</th>\n",
       "      <td>杨天平</td>\n",
       "      <td>男</td>\n",
       "      <td>59</td>\n",
       "      <td>people</td>\n",
       "    </tr>\n",
       "    <tr>\n",
       "      <th>28</th>\n",
       "      <td>展海波</td>\n",
       "      <td>男</td>\n",
       "      <td>51</td>\n",
       "      <td>people</td>\n",
       "    </tr>\n",
       "    <tr>\n",
       "      <th>29</th>\n",
       "      <td>周擎红</td>\n",
       "      <td>男</td>\n",
       "      <td>55</td>\n",
       "      <td>people</td>\n",
       "    </tr>\n",
       "    <tr>\n",
       "      <th>...</th>\n",
       "      <td>...</td>\n",
       "      <td>...</td>\n",
       "      <td>...</td>\n",
       "      <td>...</td>\n",
       "    </tr>\n",
       "    <tr>\n",
       "      <th>5620</th>\n",
       "      <td>丁跃</td>\n",
       "      <td>男</td>\n",
       "      <td>59</td>\n",
       "      <td>people</td>\n",
       "    </tr>\n",
       "    <tr>\n",
       "      <th>5621</th>\n",
       "      <td>张光柳</td>\n",
       "      <td>男</td>\n",
       "      <td>56</td>\n",
       "      <td>people</td>\n",
       "    </tr>\n",
       "    <tr>\n",
       "      <th>5622</th>\n",
       "      <td>颜泽松</td>\n",
       "      <td>男</td>\n",
       "      <td>48</td>\n",
       "      <td>people</td>\n",
       "    </tr>\n",
       "    <tr>\n",
       "      <th>5623</th>\n",
       "      <td>李尔龙</td>\n",
       "      <td>男</td>\n",
       "      <td>43</td>\n",
       "      <td>people</td>\n",
       "    </tr>\n",
       "    <tr>\n",
       "      <th>5624</th>\n",
       "      <td>靳庆军</td>\n",
       "      <td>男</td>\n",
       "      <td>61</td>\n",
       "      <td>people</td>\n",
       "    </tr>\n",
       "    <tr>\n",
       "      <th>5625</th>\n",
       "      <td>马骧</td>\n",
       "      <td>男</td>\n",
       "      <td>53</td>\n",
       "      <td>people</td>\n",
       "    </tr>\n",
       "    <tr>\n",
       "      <th>5626</th>\n",
       "      <td>陈勇</td>\n",
       "      <td>男</td>\n",
       "      <td>48</td>\n",
       "      <td>people</td>\n",
       "    </tr>\n",
       "    <tr>\n",
       "      <th>5627</th>\n",
       "      <td>厉怒江</td>\n",
       "      <td>男</td>\n",
       "      <td>57</td>\n",
       "      <td>people</td>\n",
       "    </tr>\n",
       "    <tr>\n",
       "      <th>5628</th>\n",
       "      <td>陈琳</td>\n",
       "      <td>女</td>\n",
       "      <td>46</td>\n",
       "      <td>people</td>\n",
       "    </tr>\n",
       "    <tr>\n",
       "      <th>5629</th>\n",
       "      <td>刘声向</td>\n",
       "      <td>男</td>\n",
       "      <td>47</td>\n",
       "      <td>people</td>\n",
       "    </tr>\n",
       "    <tr>\n",
       "      <th>5630</th>\n",
       "      <td>李中</td>\n",
       "      <td>男</td>\n",
       "      <td>54</td>\n",
       "      <td>people</td>\n",
       "    </tr>\n",
       "    <tr>\n",
       "      <th>5631</th>\n",
       "      <td>陈政立</td>\n",
       "      <td>男</td>\n",
       "      <td>58</td>\n",
       "      <td>people</td>\n",
       "    </tr>\n",
       "    <tr>\n",
       "      <th>5632</th>\n",
       "      <td>王志全</td>\n",
       "      <td>男</td>\n",
       "      <td>55</td>\n",
       "      <td>people</td>\n",
       "    </tr>\n",
       "    <tr>\n",
       "      <th>5633</th>\n",
       "      <td>温毅</td>\n",
       "      <td>男</td>\n",
       "      <td>56</td>\n",
       "      <td>people</td>\n",
       "    </tr>\n",
       "    <tr>\n",
       "      <th>5634</th>\n",
       "      <td>阮克竖</td>\n",
       "      <td>男</td>\n",
       "      <td>52</td>\n",
       "      <td>people</td>\n",
       "    </tr>\n",
       "    <tr>\n",
       "      <th>5635</th>\n",
       "      <td>王健</td>\n",
       "      <td>男</td>\n",
       "      <td>54</td>\n",
       "      <td>people</td>\n",
       "    </tr>\n",
       "    <tr>\n",
       "      <th>5636</th>\n",
       "      <td>王航军</td>\n",
       "      <td>男</td>\n",
       "      <td>52</td>\n",
       "      <td>people</td>\n",
       "    </tr>\n",
       "    <tr>\n",
       "      <th>5637</th>\n",
       "      <td>李德友</td>\n",
       "      <td>男</td>\n",
       "      <td>42</td>\n",
       "      <td>people</td>\n",
       "    </tr>\n",
       "    <tr>\n",
       "      <th>5638</th>\n",
       "      <td>陈泰泉</td>\n",
       "      <td>男</td>\n",
       "      <td>55</td>\n",
       "      <td>people</td>\n",
       "    </tr>\n",
       "    <tr>\n",
       "      <th>5639</th>\n",
       "      <td>钟岩</td>\n",
       "      <td>男</td>\n",
       "      <td>43</td>\n",
       "      <td>people</td>\n",
       "    </tr>\n",
       "    <tr>\n",
       "      <th>5640</th>\n",
       "      <td>赵宏伟</td>\n",
       "      <td>男</td>\n",
       "      <td>50</td>\n",
       "      <td>people</td>\n",
       "    </tr>\n",
       "    <tr>\n",
       "      <th>5641</th>\n",
       "      <td>丁芃</td>\n",
       "      <td>女</td>\n",
       "      <td>67</td>\n",
       "      <td>people</td>\n",
       "    </tr>\n",
       "    <tr>\n",
       "      <th>5642</th>\n",
       "      <td>李林琳</td>\n",
       "      <td>女</td>\n",
       "      <td>34</td>\n",
       "      <td>people</td>\n",
       "    </tr>\n",
       "    <tr>\n",
       "      <th>5643</th>\n",
       "      <td>马钟鸿</td>\n",
       "      <td>男</td>\n",
       "      <td>45</td>\n",
       "      <td>people</td>\n",
       "    </tr>\n",
       "    <tr>\n",
       "      <th>5644</th>\n",
       "      <td>郁亮</td>\n",
       "      <td>男</td>\n",
       "      <td>53</td>\n",
       "      <td>people</td>\n",
       "    </tr>\n",
       "    <tr>\n",
       "      <th>5645</th>\n",
       "      <td>朱新宏</td>\n",
       "      <td>男</td>\n",
       "      <td>58</td>\n",
       "      <td>people</td>\n",
       "    </tr>\n",
       "    <tr>\n",
       "      <th>5646</th>\n",
       "      <td>江津</td>\n",
       "      <td>女</td>\n",
       "      <td>55</td>\n",
       "      <td>people</td>\n",
       "    </tr>\n",
       "    <tr>\n",
       "      <th>5647</th>\n",
       "      <td>徐文苏</td>\n",
       "      <td>男</td>\n",
       "      <td>41</td>\n",
       "      <td>people</td>\n",
       "    </tr>\n",
       "    <tr>\n",
       "      <th>5648</th>\n",
       "      <td>刘志平</td>\n",
       "      <td>女</td>\n",
       "      <td>55</td>\n",
       "      <td>people</td>\n",
       "    </tr>\n",
       "    <tr>\n",
       "      <th>5649</th>\n",
       "      <td>林茂德</td>\n",
       "      <td>男</td>\n",
       "      <td>62</td>\n",
       "      <td>people</td>\n",
       "    </tr>\n",
       "  </tbody>\n",
       "</table>\n",
       "<p>5650 rows × 4 columns</p>\n",
       "</div>"
      ],
      "text/plain": [
       "     name:ID sex  age  :LABEL\n",
       "0        谢永林   男   50  people\n",
       "1        胡跃飞   男   56  people\n",
       "2         刘勇   男   49  people\n",
       "3        朱季成   男   37  people\n",
       "4        张丕杰   男   57  people\n",
       "5         郭为   男   55  people\n",
       "6         陈旭   男   56  people\n",
       "7         周政   男   55  people\n",
       "8        周建国   男   63  people\n",
       "9        严圣军   男   50  people\n",
       "10       熊佩锦   男   53  people\n",
       "11       林兆雄   男   51  people\n",
       "12       苏从跃   男   48  people\n",
       "13       张志新   男   50  people\n",
       "14        辛昕   女   41  people\n",
       "15        周剑   男   46  people\n",
       "16       曹荣根   男   55  people\n",
       "17       陈茂政   男   54  people\n",
       "18       曹德标   男   52  people\n",
       "19       黄历新   男   52  people\n",
       "20       黄勇峰   男   44  people\n",
       "21        吕航   男   57  people\n",
       "22       孙承铭   男   59  people\n",
       "23       杨国富   男   58  people\n",
       "24       白景涛   男   53  people\n",
       "25       陈立彬   男   54  people\n",
       "26        丁辉   男   45  people\n",
       "27       杨天平   男   59  people\n",
       "28       展海波   男   51  people\n",
       "29       周擎红   男   55  people\n",
       "...      ...  ..  ...     ...\n",
       "5620      丁跃   男   59  people\n",
       "5621     张光柳   男   56  people\n",
       "5622     颜泽松   男   48  people\n",
       "5623     李尔龙   男   43  people\n",
       "5624     靳庆军   男   61  people\n",
       "5625      马骧   男   53  people\n",
       "5626      陈勇   男   48  people\n",
       "5627     厉怒江   男   57  people\n",
       "5628      陈琳   女   46  people\n",
       "5629     刘声向   男   47  people\n",
       "5630      李中   男   54  people\n",
       "5631     陈政立   男   58  people\n",
       "5632     王志全   男   55  people\n",
       "5633      温毅   男   56  people\n",
       "5634     阮克竖   男   52  people\n",
       "5635      王健   男   54  people\n",
       "5636     王航军   男   52  people\n",
       "5637     李德友   男   42  people\n",
       "5638     陈泰泉   男   55  people\n",
       "5639      钟岩   男   43  people\n",
       "5640     赵宏伟   男   50  people\n",
       "5641      丁芃   女   67  people\n",
       "5642     李林琳   女   34  people\n",
       "5643     马钟鸿   男   45  people\n",
       "5644      郁亮   男   53  people\n",
       "5645     朱新宏   男   58  people\n",
       "5646      江津   女   55  people\n",
       "5647     徐文苏   男   41  people\n",
       "5648     刘志平   女   55  people\n",
       "5649     林茂德   男   62  people\n",
       "\n",
       "[5650 rows x 4 columns]"
      ]
     },
     "execution_count": 96,
     "metadata": {},
     "output_type": "execute_result"
    }
   ],
   "source": [
    "pd.read_csv('executive.csv')"
   ]
  },
  {
   "cell_type": "code",
   "execution_count": 97,
   "metadata": {},
   "outputs": [
    {
     "data": {
      "text/html": [
       "<div>\n",
       "<style scoped>\n",
       "    .dataframe tbody tr th:only-of-type {\n",
       "        vertical-align: middle;\n",
       "    }\n",
       "\n",
       "    .dataframe tbody tr th {\n",
       "        vertical-align: top;\n",
       "    }\n",
       "\n",
       "    .dataframe thead th {\n",
       "        text-align: right;\n",
       "    }\n",
       "</style>\n",
       "<table border=\"1\" class=\"dataframe\">\n",
       "  <thead>\n",
       "    <tr style=\"text-align: right;\">\n",
       "      <th></th>\n",
       "      <th>name:ID</th>\n",
       "      <th>sex</th>\n",
       "      <th>age</th>\n",
       "      <th>:LABEL</th>\n",
       "    </tr>\n",
       "  </thead>\n",
       "  <tbody>\n",
       "    <tr>\n",
       "      <th>0</th>\n",
       "      <td>谢永林</td>\n",
       "      <td>男</td>\n",
       "      <td>50</td>\n",
       "      <td>people</td>\n",
       "    </tr>\n",
       "    <tr>\n",
       "      <th>1</th>\n",
       "      <td>胡跃飞</td>\n",
       "      <td>男</td>\n",
       "      <td>56</td>\n",
       "      <td>people</td>\n",
       "    </tr>\n",
       "    <tr>\n",
       "      <th>2</th>\n",
       "      <td>刘勇</td>\n",
       "      <td>男</td>\n",
       "      <td>49</td>\n",
       "      <td>people</td>\n",
       "    </tr>\n",
       "    <tr>\n",
       "      <th>3</th>\n",
       "      <td>朱季成</td>\n",
       "      <td>男</td>\n",
       "      <td>37</td>\n",
       "      <td>people</td>\n",
       "    </tr>\n",
       "    <tr>\n",
       "      <th>4</th>\n",
       "      <td>张丕杰</td>\n",
       "      <td>男</td>\n",
       "      <td>57</td>\n",
       "      <td>people</td>\n",
       "    </tr>\n",
       "  </tbody>\n",
       "</table>\n",
       "</div>"
      ],
      "text/plain": [
       "  name:ID sex  age  :LABEL\n",
       "0     谢永林   男   50  people\n",
       "1     胡跃飞   男   56  people\n",
       "2      刘勇   男   49  people\n",
       "3     朱季成   男   37  people\n",
       "4     张丕杰   男   57  people"
      ]
     },
     "execution_count": 97,
     "metadata": {},
     "output_type": "execute_result"
    }
   ],
   "source": [
    "pd.read_csv('executive.csv', nrows=5)"
   ]
  },
  {
   "cell_type": "code",
   "execution_count": 98,
   "metadata": {},
   "outputs": [
    {
     "data": {
      "text/plain": [
       "<pandas.io.parsers.TextFileReader at 0x11ab6b588>"
      ]
     },
     "execution_count": 98,
     "metadata": {},
     "output_type": "execute_result"
    }
   ],
   "source": [
    "chunker = pd.read_csv('executive.csv', chunksize=100)\n",
    "chunker"
   ]
  },
  {
   "cell_type": "code",
   "execution_count": 101,
   "metadata": {},
   "outputs": [
    {
     "data": {
      "text/plain": [
       "people    5450.0\n",
       "dtype: float64"
      ]
     },
     "execution_count": 101,
     "metadata": {},
     "output_type": "execute_result"
    }
   ],
   "source": [
    "sd = Series([])\n",
    "for c in chunker:\n",
    "    sd = sd.add(c[':LABEL'].value_counts(), fill_value=0)\n",
    "sd"
   ]
  },
  {
   "cell_type": "code",
   "execution_count": 102,
   "metadata": {},
   "outputs": [],
   "source": [
    "data = pd.read_csv('executive.csv', nrows=5)\n",
    "data.to_csv('data_executive.data', sep='|')"
   ]
  },
  {
   "cell_type": "code",
   "execution_count": 103,
   "metadata": {},
   "outputs": [
    {
     "name": "stdout",
     "output_type": "stream",
     "text": [
      "PK\u0003\u0004\u0014\u0000\u0006\u0000\b\u0000\u0000\u0000!\u0000<��hq\u0001\u0000\u0000L\u0005\u0000\u0000\u0013\u0000\b\u0002[Content_Types].xml �\u0004\u0002(�\u0000\u0002\u0000\u0000\u0000\u0000\u0000\u0000\u0000\u0000\u0000\u0000\u0000\u0000\u0000\u0000\u0000\u0000\u0000\u0000\u0000\u0000\u0000\u0000\u0000\u0000\u0000\u0000\u0000\u0000\u0000\u0000\u0000\u0000\u0000\u0000\u0000\u0000\u0000\u0000\u0000\u0000\u0000\u0000\u0000\u0000\u0000\u0000\u0000\u0000\u0000\u0000\u0000\u0000\u0000\u0000\u0000\u0000\u0000\u0000\u0000\u0000\u0000\u0000\u0000\u0000\u0000\u0000\u0000\u0000\u0000\u0000\u0000\u0000\u0000\u0000\u0000\u0000\u0000\u0000\u0000\u0000\u0000\u0000\u0000\u0000\u0000\u0000\u0000\u0000\u0000\u0000\u0000\u0000\u0000\u0000\u0000\u0000\u0000\u0000\u0000\u0000\u0000\u0000\u0000\u0000\u0000\u0000\u0000\u0000\u0000\u0000\u0000\u0000\u0000\u0000\u0000\u0000\u0000\u0000\u0000\u0000\u0000\u0000\u0000\u0000\u0000\u0000\u0000\u0000\u0000\u0000\u0000\u0000\u0000\u0000\u0000\u0000\u0000\u0000\u0000\u0000\u0000\u0000\u0000\u0000\u0000\u0000\u0000\u0000\u0000\u0000\u0000\u0000\u0000\u0000\u0000\u0000\u0000\u0000\u0000\u0000\u0000\u0000\u0000\u0000\u0000\u0000\u0000\u0000\u0000\u0000\u0000\u0000\u0000\u0000\u0000\u0000\u0000\u0000\u0000\u0000\u0000\u0000\u0000\u0000\u0000\u0000\u0000\u0000\u0000\u0000\u0000\u0000\u0000\u0000\u0000\u0000\u0000\u0000\u0000\u0000\u0000\u0000\u0000\u0000\u0000\u0000\u0000\u0000\u0000\u0000\u0000\u0000\u0000\u0000\u0000\u0000\u0000\u0000\u0000\u0000\u0000\u0000\u0000\u0000\u0000\u0000\u0000\u0000\u0000\u0000\u0000\u0000\u0000\u0000\u0000\u0000\u0000\u0000\u0000\u0000\u0000\u0000\u0000\u0000\u0000\u0000\u0000\u0000\u0000\u0000\u0000\u0000\u0000\u0000\u0000\u0000\u0000\u0000\u0000\u0000\u0000\u0000\u0000\u0000\u0000\u0000\u0000\u0000\u0000\u0000\u0000\u0000\u0000\u0000\u0000\u0000\u0000\u0000\u0000\u0000\u0000\u0000\u0000\u0000\u0000\u0000\u0000\u0000\u0000\u0000\u0000\u0000\u0000\u0000\u0000\u0000\u0000\u0000\u0000\u0000\u0000\u0000\u0000\u0000\u0000\u0000\u0000\u0000\u0000\u0000\u0000\u0000\u0000\u0000\u0000\u0000\u0000\u0000\u0000\u0000\u0000\u0000\u0000\u0000\u0000\u0000\u0000\u0000\u0000\u0000\u0000\u0000\u0000\u0000\u0000\u0000\u0000\u0000\u0000\u0000\u0000\u0000\u0000\u0000\u0000\u0000\u0000\u0000\u0000\u0000\u0000\u0000\u0000\u0000\u0000\u0000\u0000\u0000\u0000\u0000\u0000\u0000\u0000\u0000\u0000\u0000\u0000\u0000\u0000\u0000\u0000\u0000\u0000\u0000\u0000\u0000\u0000\u0000\u0000\u0000\u0000\u0000\u0000\u0000\u0000\u0000\u0000\u0000\u0000\u0000\u0000\u0000\u0000\u0000\u0000\u0000\u0000\u0000\u0000\u0000\u0000\u0000\u0000\u0000\u0000\u0000\u0000\u0000\u0000\u0000\u0000\u0000\u0000\u0000\u0000\u0000\u0000\u0000\u0000\u0000\u0000\u0000\u0000\u0000\u0000\u0000\u0000\u0000\u0000\u0000\u0000\u0000\u0000\u0000\u0000\u0000\u0000\u0000\u0000\u0000\u0000\u0000\u0000\u0000\u0000\u0000\u0000\u0000\u0000\u0000\u0000\u0000\u0000\u0000\u0000\u0000\u0000\u0000\u0000\u0000\u0000\u0000\u0000\u0000\u0000\u0000\u0000\u0000\u0000\u0000\u0000\u0000\u0000\u0000\u0000\u0000\u0000\u0000\u0000\u0000\u0000\u0000\u0000\u0000\u0000\u0000\u0000\u0000\u0000\u0000\u0000\u0000\u0000\u0000\u0000\u0000\u0000\u0000\u0000\u0000\u0000\u0000\u0000\u0000\u0000\u0000\u0000\u0000\u0000\u0000\u0000\u0000Ĕ�N�0\u0010E�H�C�-J�v�\u0010j�\u0005�%T�|��'��_��{&.E�\r\n",
      "�**��\u0015���3#��Ӎ��\u001a\u0002*gK6,\u0006,\u0003[9��d�����e\u0018��B;\u000b",
      "%�\u0002����b<�z���-�����r�U\u0003F`�<X��.\u0018\u0011�7,�\u0017�R,��\u0006�k^9\u001b��<�\u001al2��Z�t�\u001e",
      "6��#�t���εV%\u0013�kU�H����μ\u0000\u001a{\u0012�V\u001e",
      "��_d\u0005e&ql�ǫ�\u001d",
      "�=,\u000e\u001c",
      "�iKK\u0001�z�v\u0006%!��\u0010��!v���Å�sˢ��\u000eBWת\u0002骕��\u0015�\u0003\b�\r",
      "@4�Hka��{�\u001e",
      "�t\u0018yZ�g\u0006i�K�'r���#�]\u0005��oE�9R8ƭ\u0006<s�;�c΍\b _b��>;�O�>\u000e����<��\u00078�\u000b",
      "�1m�sOB\u0010���A���ߎ�t�nx0uоM\u0012d�7Oo��\u0013\u0000\u0000��\u0003\u0000PK\u0003\u0004\u0014\u0000\u0006\u0000\b\u0000\u0000\u0000!\u0000}�T�\r",
      "\u0001\u0000\u0000�\u0002\u0000\u0000\u000b",
      "\u0000\b\u0002_rels/.rels �\u0004\u0002(�\u0000\u0002\u0000\u0000\u0000\u0000\u0000\u0000\u0000\u0000\u0000\u0000\u0000\u0000\u0000\u0000\u0000\u0000\u0000\u0000\u0000\u0000\u0000\u0000\u0000\u0000\u0000\u0000\u0000\u0000\u0000\u0000\u0000\u0000\u0000\u0000\u0000\u0000\u0000\u0000\u0000\u0000\u0000\u0000\u0000\u0000\u0000\u0000\u0000\u0000\u0000\u0000\u0000\u0000\u0000\u0000\u0000\u0000\u0000\u0000\u0000\u0000\u0000\u0000\u0000\u0000\u0000\u0000\u0000\u0000\u0000\u0000\u0000\u0000\u0000\u0000\u0000\u0000\u0000\u0000\u0000\u0000\u0000\u0000\u0000\u0000\u0000\u0000\u0000\u0000\u0000\u0000\u0000\u0000\u0000\u0000\u0000\u0000\u0000\u0000\u0000\u0000\u0000\u0000\u0000\u0000\u0000\u0000\u0000\u0000\u0000\u0000\u0000\u0000\u0000\u0000\u0000\u0000\u0000\u0000\u0000\u0000\u0000\u0000\u0000\u0000\u0000\u0000\u0000\u0000\u0000\u0000\u0000\u0000\u0000\u0000\u0000\u0000\u0000\u0000\u0000\u0000\u0000\u0000\u0000\u0000\u0000\u0000\u0000\u0000\u0000\u0000\u0000\u0000\u0000\u0000\u0000\u0000\u0000\u0000\u0000\u0000\u0000\u0000\u0000\u0000\u0000\u0000\u0000\u0000\u0000\u0000\u0000\u0000\u0000\u0000\u0000\u0000\u0000\u0000\u0000\u0000\u0000\u0000\u0000\u0000\u0000\u0000\u0000\u0000\u0000\u0000\u0000\u0000\u0000\u0000\u0000\u0000\u0000\u0000\u0000\u0000\u0000\u0000\u0000\u0000\u0000\u0000\u0000\u0000\u0000\u0000\u0000\u0000\u0000\u0000\u0000\u0000\u0000\u0000\u0000\u0000\u0000\u0000\u0000\u0000\u0000\u0000\u0000\u0000\u0000\u0000\u0000\u0000\u0000\u0000\u0000\u0000\u0000\u0000\u0000\u0000\u0000\u0000\u0000\u0000\u0000\u0000\u0000\u0000\u0000\u0000\u0000\u0000\u0000\u0000\u0000\u0000\u0000\u0000\u0000\u0000\u0000\u0000\u0000\u0000\u0000\u0000\u0000\u0000\u0000\u0000\u0000\u0000\u0000\u0000\u0000\u0000\u0000\u0000\u0000\u0000\u0000\u0000\u0000\u0000\u0000\u0000\u0000\u0000\u0000\u0000\u0000\u0000\u0000\u0000\u0000\u0000\u0000\u0000\u0000\u0000\u0000\u0000\u0000\u0000\u0000\u0000\u0000\u0000\u0000\u0000\u0000\u0000\u0000\u0000\u0000\u0000\u0000\u0000\u0000\u0000\u0000\u0000\u0000\u0000\u0000\u0000\u0000\u0000\u0000\u0000\u0000\u0000\u0000\u0000\u0000\u0000\u0000\u0000\u0000\u0000\u0000\u0000\u0000\u0000\u0000\u0000\u0000\u0000\u0000\u0000\u0000\u0000\u0000\u0000\u0000\u0000\u0000\u0000\u0000\u0000\u0000\u0000\u0000\u0000\u0000\u0000\u0000\u0000\u0000\u0000\u0000\u0000\u0000\u0000\u0000\u0000\u0000\u0000\u0000\u0000\u0000\u0000\u0000\u0000\u0000\u0000\u0000\u0000\u0000\u0000\u0000\u0000\u0000\u0000\u0000\u0000\u0000\u0000\u0000\u0000\u0000\u0000\u0000\u0000\u0000\u0000\u0000\u0000\u0000\u0000\u0000\u0000\u0000\u0000\u0000\u0000\u0000\u0000\u0000\u0000\u0000\u0000\u0000\u0000\u0000\u0000\u0000\u0000\u0000\u0000\u0000\u0000\u0000\u0000\u0000\u0000\u0000\u0000\u0000\u0000\u0000\u0000\u0000\u0000\u0000\u0000\u0000\u0000\u0000\u0000\u0000\u0000\u0000\u0000\u0000\u0000\u0000\u0000\u0000\u0000\u0000\u0000\u0000\u0000\u0000\u0000\u0000\u0000\u0000\u0000\u0000\u0000\u0000\u0000\u0000\u0000\u0000\u0000\u0000\u0000\u0000\u0000\u0000\u0000\u0000\u0000\u0000\u0000\u0000\u0000\u0000\u0000\u0000\u0000\u0000\u0000\u0000\u0000\u0000\u0000\u0000\u0000\u0000\u0000\u0000\u0000\u0000\u0000\u0000\u0000\u0000\u0000��MN�0\u0010��H���}� �P�n\u0010Rw\b�\u0003L�ib\u0012��v!�=�EC�\u0012U��=���͛�f0={�\u0010��\u0002�E\t��tJ�F�k���\u0007\u0016\u0013Z���$�H\u00116�����zL�Ql��,��(�M�?p\u001e",
      "eK\u0006c�<�\\ٻ`0�ch�G�aC|U�w<�Ԁj�ɶJ@ت\u001b`������\r",
      "%T��K\u0017h�C&\u000b",
      "Ig/���P\u0012��|�������\u0003�^\u000e��{-��Ƀ!��x�4$���<\u0012z?G��O�)�8���\u001f.t;�9���,���\u0018Wj\u000ffgQ�#�)�S�x��|��'KY}\u0002\u0000\u0000��\u0003\u0000PK\u0003\u0004\u0014\u0000\u0006\u0000\b\u0000\u0000\u0000!\u0000\u0013����\u0000\u0000\u0000G\u0003\u0000\u0000\u001a\u0000\b\u0001xl/_rels/workbook.xml.rels �\u0004\u0001(�\u0000\u0001\u0000\u0000\u0000\u0000\u0000\u0000\u0000\u0000\u0000\u0000\u0000\u0000\u0000\u0000\u0000\u0000\u0000\u0000\u0000\u0000\u0000\u0000\u0000\u0000\u0000\u0000\u0000\u0000\u0000\u0000\u0000\u0000\u0000\u0000\u0000\u0000\u0000\u0000\u0000\u0000\u0000\u0000\u0000\u0000\u0000\u0000\u0000\u0000\u0000\u0000\u0000\u0000\u0000\u0000\u0000\u0000\u0000\u0000\u0000\u0000\u0000\u0000\u0000\u0000\u0000\u0000\u0000\u0000\u0000\u0000\u0000\u0000\u0000\u0000\u0000\u0000\u0000\u0000\u0000\u0000\u0000\u0000\u0000\u0000\u0000\u0000\u0000\u0000\u0000\u0000\u0000\u0000\u0000\u0000\u0000\u0000\u0000\u0000\u0000\u0000\u0000\u0000\u0000\u0000\u0000\u0000\u0000\u0000\u0000\u0000\u0000\u0000\u0000\u0000\u0000\u0000\u0000\u0000\u0000\u0000\u0000\u0000\u0000\u0000\u0000\u0000\u0000\u0000\u0000\u0000\u0000\u0000\u0000\u0000\u0000\u0000\u0000\u0000\u0000\u0000\u0000\u0000\u0000\u0000\u0000\u0000\u0000\u0000\u0000\u0000\u0000\u0000\u0000\u0000\u0000\u0000\u0000\u0000\u0000\u0000\u0000\u0000\u0000\u0000\u0000\u0000\u0000\u0000\u0000\u0000\u0000\u0000\u0000\u0000\u0000\u0000\u0000\u0000\u0000\u0000\u0000\u0000\u0000\u0000\u0000\u0000\u0000\u0000\u0000\u0000\u0000\u0000\u0000\u0000\u0000\u0000\u0000\u0000\u0000\u0000\u0000\u0000\u0000\u0000\u0000\u0000\u0000\u0000\u0000\u0000\u0000\u0000\u0000\u0000\u0000\u0000\u0000\u0000\u0000\u0000\u0000\u0000\u0000\u0000\u0000\u0000\u0000\u0000\u0000\u0000\u0000\u0000\u0000\u0000\u0000\u0000\u0000\u0000\u0000\u0000\u0000\u0000\u0000\u0000\u0000\u0000\u0000\u0000\u0000\u0000\u0000\u0000\u0000\u0000\u0000\u0000���j�0\u0010���{-����ȹ�B�m�\u0000B^[&�$��\u001f�}EBS\u0007�{1=�,����z�5��\u0003#u�)(�\u001c",
      "\u0004:��ε\r\n",
      "�v�7� ���u�\u001d",
      "*\u0018�`S]_�_�ל\u001e",
      "��\u0002���H�e\u000e+)�X\u001c",
      "4e>�K���As���A��nQ�y� �4\u0003��L��\u0015�m}\u000b",
      "b7���w�o����7�\u0003:�P!9qa\r\n",
      "ԱEVp�G��\u0012(��\f",
      "wK2\u0010�}Z�\t����\u0017��:b��1]xJ1��`�%a>}ܓE��u�,����a��)6#Ͼ�\r",
      "\u0000\u0000��\u0003\u0000PK\u0003\u0004\u0014\u0000\u0006\u0000\b\u0000\u0000\u0000!\u0000��(g�\u0001\u0000\u0000-\u0003\u0000\u0000\u000f\u0000\u0000\u0000xl/workbook.xml�R͎�0\u0010�#�\u000e��mR7�.U�U鏨��\r\n",
      "-�gי4Vc;��MV�7�\u000b",
      "\u0007$ހ\u0013o\u0003\u0012��$�K\u0011\u001c",
      "���\u0019�7��|��V��\u001e",
      "��F't2\u000e)\u0001-L&�!��n��KJ��:�ѐ�\u0007p�*}�l�\u0018{�\u001bs$\b�]B\u000b",
      "�y\u00108Q��nl*�\u0018ɍU���\u001e",
      "\u0002WY��+\u0000�*\u0003\u0016��@q��0���a�\\\r\n",
      "X\u001bQ+�~\u0000�Pr��]!+G�E.K�\u001d",
      ":\"���p��ے��;�ɤ�,�1>M\u00038l]��e�Q\u0016���4H�����\u0015����Rk��z\t�a�ڛ�Qؚs�R�\u001a�.���tn%4�7L�$�ԙi��3���w2�\u00052�g!�\u000f�W \u000f���\\�\u0011:=߿�\u0018`\u0017�\u001f.���\u001b��\u000f]��p?m$��D�����ӷ��?>~��j�m�c��\\�awY���\f",
      "v���S\u0006�랊\t^\r\n",
      "\u001c",
      "Xw��Q��\u0012a���Ž�0�kH���Χ\u000b",
      "�ImeB�_�l����\u0011����2ބ��l�F�h��h�X\u0014�\u000f'Ѩ�/�()�q&�caT0\b\u0006�&\u0002h\u0005���\u001c",
      "t�.T;_ZQ��d[�\u0003�m�\u0003��\u0014Ô��ӟ\u0000\u0000\u0000��\u0003\u0000PK\u0003\u0004\u0014\u0000\u0006\u0000\b\u0000\u0000\u0000!\u0000\r",
      "O���\u0002\u0000\u0000�\r",
      "\u0000\u0000\r",
      "\u0000\u0000\u0000xl/styles.xml�W;o�0\u0010�\u000b",
      "�?\u0010�\u0013�Σ�!)h\u0007\u0003\u0019Z\u0004H\r\n",
      "t�%J&@Q�թC�\u000e\u0005�d\b����nm�L�&��Gʶ\u001c",
      "�y'h\u0007/6y����xw<\u0005\u001b#)�\u001e",
      "3\u0005�*���\u0016FL�:�*\u000b",
      "���S�\r\n",
      "KUB�V,�\u0015+�F��QP�J��!c\u0016\u0001�*B<�6�\u0011R�C&i��s�`%�FR\u000b",
      "S��\"7�&�\u0003IA:��:��+\\3�d|\u001d",
      "\u0012I�n�/�Z���\u0001\u0017�V�\u000b",
      "#\u0019�63�\r",
      "\u001d",
      "\b0u�^���O��K\u001e",
      "\u001b]��.\u0003\u001d",
      "�i�cv��.�\u0012`��T+[�X�ʆx\u0015���ޮ�oT�-�\u0003'���x���\u0000I\u0007�(���\u0006Y�\f",
      "\u0018�v\u0012E%�w�\u001a��}��R*��ji\r",
      "\u001bRS��k��U���w\u0002�\u001c",
      "N�ęV\u001bب�>���Ys�1[�X���ٻ�\u0000s!f\u0001�qw\u000f�(���̨>L�d�S�p�\r\n",
      "r��.��ݙ�U��6\u0007 ^a\u0014\f",
      "�I g��袮\u0016E�`��{1<\u001b��s�\u001d",
      "hk!�� �4ӊ\r\n",
      "\u0018�)b2���L�m�ׯӆۑ�R�Jٗv3\t1�\b\u0017m�!�d2�\t�\t(�\b�\u0001��A�湨^�r�L��\r",
      "��K�3��s�f�L�LI��\u0012��-�-���k>\u0012/�g�?�g�\u001f��E��:�\u0017񳈟��C2_���?_�oU��(���\u000f�s���We�\u001f�f(�'�>���8��\u0015:+O��hPra�r�Љ\u000ey�0ק��p%\u001c",
      "\r\n",
      "�]�kw�?�\u001b�{3����`|r�����sn��0�\u0007 �܍�QA�{_T��G\u0005�q_V��}�\u0001�����i����G�I2ȃd��U~պ/\u0015�q�2\u00038\u0012��R؝�b���\u000b",
      "��R�%Nvm�=m=E��q��/��K-�\u0003\u0000\u0000��\u0003\u0000PK\u0003\u0004\u0014\u0000\u0006\u0000\b\u0000\u0000\u0000!\u0000�M��\u0015\u0003\u0000\u0000\u0001\b\u0000\u0000\u0018\u0000\u0000\u0000xl/worksheets/sheet2.xml��]o�0\u0014@�'�? �\u0013��A\u0012%T\r",
      "U�j�V�[��\u0018\u0013P\u00013줉���]�\u0010��I}I�c���6�˛C�;{V���+\u0017\r",
      "}�a%�qVnW����\bIʘ�d+�Ȅ{\u0013~��|���H\u0019�\u000eD(��M��\u0016�'h�\r\n",
      "\"��b%�$�.��n��DU3\u0012뗊�þ?�\r\n",
      "������?\u0012�'IF�\u001d",
      "�����\u0004�YN$�_�Y%�h\u0005�H���o�j@yQA�M�g򨃺NA\u0017\u000fے�d�C�\u00074&���;\u0017ዌ�\\�D\u000e!�g&z��ܛ{\u0010)\\�\u0019d��ݩY�ro�\"B��¥^�������#���J\u0016�>��Z�\r",
      "�o��\u0007@>�\u0014�\u0001\u0015�P��Y��|�~�S���ڢڠ�N��v��{�T;\u001b\"X���,�)H�l�,!�\\���_X�M%�\t��Z�E|�c�®�ɴy�\u0011I�e��\u001d",
      "�^����:,h1��R\u0005o��+\u0002���_z{�\u0012m���c�?\u0016���Ә\u0007��\u0010_\u0015b��­\u001bj����=��A%�\u000f�I�D׆\"\u000b",
      "G-�x�0�j\u0018k�蔶1\u0018�,\u001c",
      "5\u0018w�g�\u001d",
      "��-\u0013m\u0018[\u0006C���\u0006��\f",
      "�\u0000^n�T\u001b&��Pd����=Cp�\u0010h��2\u0018�,\u001c",
      "5\u0018w�gP��2��6\u0004��Pd����=���a�\r",
      "3�`(�p�`��A}�W�\u0000����r4\u0018Y<j9�\u0006���|�H[��7n8����jVh�\r",
      "\u0018��^��T)\\K2�P�\u0012^JU\tU]8VP�K\u001e",
      "��TA�Ȗ=�z����Y���0��_�Jf:�W:ĆK�\u000b",
      "�L��bP��!<�p.�\u000e�d\u0007�MH����l����}\u001f\u0007#4�����D��i�\u000f�\u0000�u\u0010����mo���k� �c\u0007���93�f�,\u000e��o/�#�![���%{�\u001c",
      "u���\u0012uq�R\f",
      "��\u001c",
      "կ��w���\u0000\u0000\u0000��\u0003\u0000PK\u0003\u0004\u0014\u0000\u0006\u0000\b\u0000\u0000\u0000!\u0000�z)�%\u0007\u0000\u0000�\u001d",
      "\u0000\u0000\u0013\u0000\u0000\u0000xl/theme/theme1.xml�YMo\u001bE\u0018�#�\u001fF{/�\u0013'��:U��-�i��-�q�;�N3���\u001d",
      "'�\r",
      "��\u0002\u0012\u0012��^@\b!q\u0000J�V\u0002��k�\u0014�\"�/����z'�$N\t �9�������wf/\\܋\u0018�!\"�<nxշ*\u001e",
      "\"��\u0003\u001a\u000f\u001bލ^�ܲ�R��\u00003\u001e",
      "��7&�wq��7.�\u0015\u0019�� ���\u0015��B)����ԇe���\u0013\u0012û\u0001\u0017\u0011��(�s����7bs���\\�i�\u0018G���`@}�������{�9�6\u0003\u0011�LՂ�DW�&\u0019��\u0007_\u001c",
      "������5<خ*P:N[L�\u001d",
      "�\u001a\u001e",
      "�\r\n",
      "�n��I\u000f1�Jx��*�ϛ[�0�W2\"&��-�u�_F�\u0011\u0004��Z�\u0018�\u000b",
      "��N�~~��\u0001LN���v�]-�i\u0000�}0��R�Y�,W�9�\u0012����ݪ,Vj6��aJ�z��\\�g�\u0018�\u001ad~֦�˕��ڼ�� �_��ךk�֒�� �_��w�חj6^�BF��)�\r\n",
      "h��q/ \u0003�.;��\u0000_�d�\t\r\n",
      "��H0%b�cyL�E�6\u0017\u001d",
      "�(,Ò�H�\u00132�>$s\u000b",
      "G}A���W\b.�1K~:��ġ�\u00174�\r",
      "�\u0004CaL��|���'���'\u000f��<޿���ݻ�w~0�,��8\u001e",
      "�\t_|���~{��{���i\u0019��ç�|�\u0006B\u0011M4z���_\u001f?|v�����s��\u0004��=\u001a�\u0014]#�h�G`�v��9��Q�BL-\r\n",
      "\u001c",
      "\u0002o\u0007�\f",
      "-�1f.\\��λ)����F�-]��\u0018I�|%�,�\u0006�Ʌ�\u0001W����{�x�\u0016.Fe�\u0016�;.�-\u001c",
      "[�m�\u0012�yRZ�o��Rs��X�!��D�\u001d",
      "�&�a�-J-�nP_�\u000f$�EQ\u0013S�Kz�o%҄�2� .c��\u0010j�7\u001b7Q�3���d�FBA`�P�G���Kx$q�b��\u0011+;�*��K��X�e\\;�\u0010�!a\u001c",
      "�\u0003��.��\u0002�-\u0005�\r\n",
      "���\f",
      "�\u0006\u001bG6RH���y\u0015s^F���V��ą��8,c�N�!E1���\u0005��v��g�\u0003��\f",
      "�MJ�p��\bnС��$Aԛ�p��\u0012�V�v�l���2�խN\u001d",
      "�����(�m#�u�nxk������f}\u0014�_آ��(�$P\u0015�[��\u000e��C{��\u000e}T-�}_��b��j 1�\u001e",
      "���f�\u0001e�+ǌ\\M����\u001e",
      "\u0014t`Q���')�cI\b?U1�\f",
      "\u000b",
      "7\u0014X� ��T��\u0010'0�W=�d�f��)Jx\r\n",
      "�F����0�Ks�\\T�\u0011�<R,7x`�\u0017�r~�(�h���p�\u000b",
      "ZP\f",
      "f\u0015�p>c\r\n",
      "�����RjfiU����d�b}@\u0007�\u0017��b�M\u0018n\u0010�D��%�\u0000P��ȃ\u0019\t��M���(�5!ʬ6��8 &D�rɛU\u001d",
      "�<���S�\u001c",
      "9�7\u000b",
      "���NVB����3��s\u0006\u0013'\u0003��jbq��X�v\u001b^}q~�C>N\u001a�\u0000\u000e��3J h�\u001a\u00071\u001b�ő/���\u0013kQ\u0017���;��p�qD�Xe��T��441ԯ�P�XI2��/�T���\u0001�f2�\u0016\u000b",
      "ː\"��\u0016\u0010j;�d0 �,\u0007���|g\u001e",
      "�N�G��n\u0018�>\u001b�-\f",
      "�\u0007�*{\u0002��.h�\u0000wl�����[�NS���8��Y\u0012�[�;���\f",
      "\\��B\u0007�TR\u000flsꮍ;�)���ʔr\u001a��LQ�\u0001\\\",\u0004*\u0002>\\�\r\n",
      "�T�4<.dȡ\u000b",
      "%!�;\u0002�~�; [��\u0016^���Y�/Ȏ��Ԝ��\u001a΂r�\u000e�����P\u0010�\tmIg�\t̪��cX���Ψ��ib��\u001d",
      "�z�\u0007.�\u001e",
      "�\u0010R]w��\r",
      "h������\r\n",
      "�\u000fՌR�7��\u0015[����{p1�\f",
      "F\u001d",
      "�%T���/T,v���g�5y�G�\r",
      "Q/&SR-�\r\n",
      "k��3Q���,\u001bpi�5\u001d",
      "k����\\9��ŰX�3\t\\\u0005!�\u000f�T���4V\u001bj�oAoE�\u0011��\u000fAV�S]\r",
      "2H5H�\u000fs�Y4ɤX\u0019�f���Z�Y��Z�=�l��,�>���!�\u0016g��Y:;��k�v��!��K\u0014�\u0006�QD\u0007F�*����\u0010�u��\u001f1�*M�I�A�)tv�y0�~��l�&��\u0019F!Y�E\u0006�\u0006{�����)!�$\u001f�5Z��D+\b\u0017��eמM��\u0015��-\u000b",
      "����\u000b",
      "\r\n",
      "-\u0019ZvA���\\\f",
      "�+Yָ��\u000e��\u001a�Uq�b�q�\f",
      "ʻ]�<���2sP<6P��2�w��2O��\u0013\u000f�s\r\n",
      "\f",
      "G���\u0001�tL��]�\u0003\u0000\u0000��\u0003\u0000PK\u0003\u0004\u0014\u0000\u0006\u0000\b\u0000\u0000\u0000!\u0000;\u0003��B\u0003\u0000\u0000L\b\u0000\u0000\u0018\u0000\u0000\u0000xl/worksheets/sheet1.xml���n�0\u0014��'�\u001d",
      "\u0010�\t�I�D!SC4mR�U��];`�U��vҴ��}�v\u0012��I�\u0001�s�����8�O���vTH���G���h�󂵛���������\"mAj���������a��œ�(U\u001e",
      "(�2�+��Y\u0010ȼ�\r",
      "�c��\u0016FJ.\u001a��+6��\u0004%����\u0001\u000e�(h\bk}�0\u0013���e�r�������\"��DA��b�<�5�{�\u001a\"���(�M\u0007\u0012kV3�bD}��g_7-\u0017d]C�{4%�Q�t��\u001b�\u000b",
      ".y�� \u0017�@�sN�$\u0000�ż`��^vO�2�o�,C�\u000f\u0016s�@��>�7mO����'=�H�\u0010$$�i�3�\b�v4�u��+�a�~\u001bU�\u0006����}��l��^xk\"i��_�P\u0015\u001c",
      "\u00068\u000b",
      "\u0005-ɶV���\u0017�6�\u0002z\u0005��\u0017cV����a\u0017t0ǸWD��\\�g\u000f�\u0013A\u001c",
      "\u001d",
      "ч\u0003�&\u0010o��\r",
      "P�\"��[��`\u0007!凱��14\u001c",
      "�ގ��X\u0000^'C���!6V���@\u001d",
      "�Y�{<0�\\4й�\u0016}L&ϥ������=\u001e",
      "\u0018L/\u001aL��䔴5�\u001498�\u0018�x`\u0000�wa�����1�\u001498�\u0018�x`\u0010]4����c`)rpf1��� �h\u0010\u001b��1�\u001498�\u0018�x`�K��)�6\u0006�c`)rpf1��� �h�\u0018�k��R���b�ぁ�t/�\u0000X\u001f�ı8`����qχ&����1Ag�������&=�.�f�z�Up�(�C�*y�t���ृ��򌷇\u001bL���l�\u001d",
      "\u0011\u001b�J����N�\u0018N����v\u0014�Ě+�\u001bӬ�n�P��1���\\\u001d",
      ";\u0007�\u0007���ב��\u0007�\r\n",
      "ư�\\0���I��\u000b",
      "%\bS�W\u0001�8I��X�Oq2M�\u0018'P� P��|\u0000L�^�Je��V��?�4\f",
      "q<A��h\u0019���\u0003Gq8�c��q\u0016&Q\u0018�=^J��}7RC��sjn�k{\u0003/��~v����\u00022���������\u0001\u00026M�\u0012�B��i�\r",
      "N�\u0003\u0016�\u0000\u0000\u0000��\u0003\u0000PK\u0003\u0004\r\n",
      "\u0000\u0000\u0000\u0000\u0000\u0000\u0000!\u0000�StԔZ\u0000\u0000�Z\u0000\u0000\u0017\u0000\u0000\u0000docProps/thumbnail.jpeg����\u0000\u0010JFIF\u0000\u0001\u0001\u0000\u0000H\u0000H\u0000\u0000��\u0000tExif\u0000\u0000MM\u0000*\u0000\u0000\u0000\b\u0000\u0004\u0001\u001a\u0000\u0005\u0000\u0000\u0000\u0001\u0000\u0000\u0000>\u0001\u001b\u0000\u0005\u0000\u0000\u0000\u0001\u0000\u0000\u0000F\u0001(\u0000\u0003\u0000\u0000\u0000\u0001\u0000\u0002\u0000\u0000�i\u0000\u0004\u0000\u0000\u0000\u0001\u0000\u0000\u0000N\u0000\u0000\u0000\u0000\u0000\u0000\u0000H\u0000\u0000\u0000\u0001\u0000\u0000\u0000H\u0000\u0000\u0000\u0001\u0000\u0002�\u0002\u0000\u0004\u0000\u0000\u0000\u0001\u0000\u0000\u0001\u0000�\u0003\u0000\u0004\u0000\u0000\u0000\u0001\u0000\u0000\u0000�\u0000\u0000\u0000\u0000��\u00008Photoshop 3.0\u00008BIM\u0004\u0004\u0000\u0000\u0000\u0000\u0000\u00008BIM\u0004%\u0000\u0000\u0000\u0000\u0000\u0010�\u001d",
      "�ُ\u0000�\u0004�\t���B~��\u0007�ICC_PROFILE\u0000\u0001\u0001\u0000\u0000\u0007�appl\u0002 \u0000\u0000mntrRGB XYZ \u0007�\u0000\u0002\u0000\u0019\u0000\u000b",
      "\u0000\u001a\u0000\u000b",
      "acspAPPL\u0000\u0000\u0000\u0000appl\u0000\u0000\u0000\u0000\u0000\u0000\u0000\u0000\u0000\u0000\u0000\u0000\u0000\u0000\u0000\u0000\u0000\u0000��\u0000\u0001\u0000\u0000\u0000\u0000�-appl\u0000\u0000\u0000\u0000\u0000\u0000\u0000\u0000\u0000\u0000\u0000\u0000\u0000\u0000\u0000\u0000\u0000\u0000\u0000\u0000\u0000\u0000\u0000\u0000\u0000\u0000\u0000\u0000\u0000\u0000\u0000\u0000\u0000\u0000\u0000\u0000\u0000\u0000\u0000\u0000\u0000\u0000\u0000\u0000\u0000\u0000\u0000\u000b",
      "desc\u0000\u0000\u0001\b\u0000\u0000\u0000odscm\u0000\u0000\u0001x\u0000\u0000\u0005�cprt\u0000\u0000\u0007\u0014\u0000\u0000\u00008wtpt\u0000\u0000\u0007L\u0000\u0000\u0000\u0014rXYZ\u0000\u0000\u0007`\u0000\u0000\u0000\u0014gXYZ\u0000\u0000\u0007t\u0000\u0000\u0000\u0014bXYZ\u0000\u0000\u0007�\u0000\u0000\u0000\u0014rTRC\u0000\u0000\u0007�\u0000\u0000\u0000\u000echad\u0000\u0000\u0007�\u0000\u0000\u0000,bTRC\u0000\u0000\u0007�\u0000\u0000\u0000\u000egTRC\u0000\u0000\u0007�\u0000\u0000\u0000\u000edesc\u0000\u0000\u0000\u0000\u0000\u0000\u0000\u0014Generic RGB Profile\u0000\u0000\u0000\u0000\u0000\u0000\u0000\u0000\u0000\u0000\u0000\u0014Generic RGB Profile\u0000\u0000\u0000\u0000\u0000\u0000\u0000\u0000\u0000\u0000\u0000\u0000\u0000\u0000\u0000\u0000\u0000\u0000\u0000\u0000\u0000\u0000\u0000\u0000\u0000\u0000\u0000\u0000\u0000\u0000\u0000\u0000\u0000\u0000\u0000\u0000\u0000\u0000\u0000\u0000\u0000\u0000\u0000\u0000\u0000\u0000\u0000\u0000\u0000\u0000mluc\u0000\u0000\u0000\u0000\u0000\u0000\u0000\u001f\u0000\u0000\u0000\f",
      "skSK\u0000\u0000\u0000(\u0000\u0000\u0001�daDK\u0000\u0000\u0000.\u0000\u0000\u0001�caES\u0000\u0000\u0000$\u0000\u0000\u0001�viVN\u0000\u0000\u0000$\u0000\u0000\u0001�ptBR\u0000\u0000\u0000&\u0000\u0000\u0002\"ukUA\u0000\u0000\u0000*\u0000\u0000\u0002HfrFU\u0000\u0000\u0000(\u0000\u0000\u0002rhuHU\u0000\u0000\u0000(\u0000\u0000\u0002�zhTW\u0000\u0000\u0000\u0016\u0000\u0000\u0002�nbNO\u0000\u0000\u0000&\u0000\u0000\u0002�csCZ\u0000\u0000\u0000\"\u0000\u0000\u0002�heIL\u0000\u0000\u0000\u001e",
      "\u0000\u0000\u0003 itIT\u0000\u0000\u0000(\u0000\u0000\u0003>roRO\u0000\u0000\u0000$\u0000\u0000\u0003fdeDE\u0000\u0000\u0000,\u0000\u0000\u0003�koKR\u0000\u0000\u0000\u0016\u0000\u0000\u0003�svSE\u0000\u0000\u0000&\u0000\u0000\u0002�zhCN\u0000\u0000\u0000\u0016\u0000\u0000\u0003�jaJP\u0000\u0000\u0000\u001a\u0000\u0000\u0003�elGR\u0000\u0000\u0000\"\u0000\u0000\u0003�ptPO\u0000\u0000\u0000&\u0000\u0000\u0004\u001e",
      "nlNL\u0000\u0000\u0000(\u0000\u0000\u0004DesES\u0000\u0000\u0000&\u0000\u0000\u0004\u001e",
      "thTH\u0000\u0000\u0000$\u0000\u0000\u0004ltrTR\u0000\u0000\u0000\"\u0000\u0000\u0004�fiFI\u0000\u0000\u0000(\u0000\u0000\u0004�hrHR\u0000\u0000\u0000(\u0000\u0000\u0004�plPL\u0000\u0000\u0000,\u0000\u0000\u0005\u0002ruRU\u0000\u0000\u0000\"\u0000\u0000\u0005.arEG\u0000\u0000\u0000&\u0000\u0000\u0005PenUS\u0000\u0000\u0000&\u0000\u0000\u0005v\u0000V\u0001a\u0000e\u0000o\u0000b\u0000e\u0000c\u0000n\u0000�\u0000 \u0000R\u0000G\u0000B\u0000 \u0000p\u0000r\u0000o\u0000f\u0000i\u0000l\u0000G\u0000e\u0000n\u0000e\u0000r\u0000e\u0000l\u0000 \u0000R\u0000G\u0000B\u0000-\u0000b\u0000e\u0000s\u0000k\u0000r\u0000i\u0000v\u0000e\u0000l\u0000s\u0000e\u0000P\u0000e\u0000r\u0000f\u0000i\u0000l\u0000 \u0000R\u0000G\u0000B\u0000 \u0000g\u0000e\u0000n\u0000�\u0000r\u0000i\u0000c\u0000C\u001e",
      "�\u0000u\u0000 \u0000h\u0000�\u0000n\u0000h\u0000 \u0000R\u0000G\u0000B\u0000 \u0000C\u0000h\u0000u\u0000n\u0000g\u0000P\u0000e\u0000r\u0000f\u0000i\u0000l\u0000 \u0000R\u0000G\u0000B\u0000 \u0000G\u0000e\u0000n\u0000�\u0000r\u0000i\u0000c\u0000o\u0004\u0017\u00040\u00043\u00040\u0004;\u0004L\u0004=\u00048\u00049\u0000 \u0004?\u0004@\u0004>\u0004D\u00040\u00049\u0004;\u0000 \u0000R\u0000G\u0000B\u0000P\u0000r\u0000o\u0000f\u0000i\u0000l\u0000 \u0000g\u0000�\u0000n\u0000�\u0000r\u0000i\u0000q\u0000u\u0000e\u0000 \u0000R\u0000V\u0000B\u0000�\u0000l\u0000t\u0000a\u0000l\u0000�\u0000n\u0000o\u0000s\u0000 \u0000R\u0000G\u0000B\u0000 \u0000p\u0000r\u0000o\u0000f\u0000i\u0000l�\u001au(\u0000 \u0000R\u0000G\u0000B\u0000 �r_icϏ�\u0000G\u0000e\u0000n\u0000e\u0000r\u0000i\u0000s\u0000k\u0000 \u0000R\u0000G\u0000B\u0000-\u0000p\u0000r\u0000o\u0000f\u0000i\u0000l\u0000O\u0000b\u0000e\u0000c\u0000n\u0000�\u0000 \u0000R\u0000G\u0000B\u0000 \u0000p\u0000r\u0000o\u0000f\u0000i\u0000l\u0005�\u0005�\u0005�\u0005�\u0005�\u0005�\u0000 \u0000R\u0000G\u0000B\u0000 \u0005�\u0005�\u0005�\u0005�\u0000P\u0000r\u0000o\u0000f\u0000i\u0000l\u0000o\u0000 \u0000R\u0000G\u0000B\u0000 \u0000g\u0000e\u0000n\u0000e\u0000r\u0000i\u0000c\u0000o\u0000P\u0000r\u0000o\u0000f\u0000i\u0000l\u0000 \u0000R\u0000G\u0000B\u0000 \u0000g\u0000e\u0000n\u0000e\u0000r\u0000i\u0000c\u0000A\u0000l\u0000l\u0000g\u0000e\u0000m\u0000e\u0000i\u0000n\u0000e\u0000s\u0000 \u0000R\u0000G\u0000B\u0000-\u0000P\u0000r\u0000o\u0000f\u0000i\u0000l�|�\u0018\u0000 \u0000R\u0000G\u0000B\u0000 �\u0004�\\�\f",
      "�|fn�\u001a\u0000 \u0000R\u0000G\u0000B\u0000 cϏ�e�N�N\u0000�,\u0000 \u0000R\u0000G\u0000B\u0000 0�0�0�0�0�0�\u0003�\u0003�\u0003�\u0003�\u0003�\u0003�\u0000 \u0003�\u0003�\u0003�\u0003�\u0003�\u0003�\u0000 \u0000R\u0000G\u0000B\u0000P\u0000e\u0000r\u0000f\u0000i\u0000l\u0000 \u0000R\u0000G\u0000B\u0000 \u0000g\u0000e\u0000n\u0000�\u0000r\u0000i\u0000c\u0000o\u0000A\u0000l\u0000g\u0000e\u0000m\u0000e\u0000e\u0000n\u0000 \u0000R\u0000G\u0000B\u0000-\u0000p\u0000r\u0000o\u0000f\u0000i\u0000e\u0000l\u000eB\u000e\u001b\u000e#\u000eD\u000e\u001f\u000e%\u000eL\u0000 \u0000R\u0000G\u0000B\u0000 \u000e\u0017\u000e1\u000eH\u000e'\u000eD\u000e\u001b\u0000G\u0000e\u0000n\u0000e\u0000l\u0000 \u0000R\u0000G\u0000B\u0000 \u0000P\u0000r\u0000o\u0000f\u0000i\u0000l\u0000i\u0000Y\u0000l\u0000e\u0000i\u0000n\u0000e\u0000n\u0000 \u0000R\u0000G\u0000B\u0000-\u0000p\u0000r\u0000o\u0000f\u0000i\u0000i\u0000l\u0000i\u0000G\u0000e\u0000n\u0000e\u0000r\u0000i\u0001\r",
      "\u0000k\u0000i\u0000 \u0000R\u0000G\u0000B\u0000 \u0000p\u0000r\u0000o\u0000f\u0000i\u0000l\u0000U\u0000n\u0000i\u0000w\u0000e\u0000r\u0000s\u0000a\u0000l\u0000n\u0000y\u0000 \u0000p\u0000r\u0000o\u0000f\u0000i\u0000l\u0000 \u0000R\u0000G\u0000B\u0004\u001e",
      "\u00041\u0004I\u00048\u00049\u0000 \u0004?\u0004@\u0004>\u0004D\u00048\u0004;\u0004L\u0000 \u0000R\u0000G\u0000B\u0006E\u0006D\u0006A\u0000 \u0006*\u00069\u00061\u0006J\u0006A\u0000 \u0000R\u0000G\u0000B\u0000 \u0006'\u0006D\u00069\u0006'\u0006E\u0000G\u0000e\u0000n\u0000e\u0000r\u0000i\u0000c\u0000 \u0000R\u0000G\u0000B\u0000 \u0000P\u0000r\u0000o\u0000f\u0000i\u0000l\u0000etext\u0000\u0000\u0000\u0000Copyright 2007 Apple Inc., all rights reserved.\u0000XYZ \u0000\u0000\u0000\u0000\u0000\u0000�R\u0000\u0001\u0000\u0000\u0000\u0001\u0016�XYZ \u0000\u0000\u0000\u0000\u0000\u0000tM\u0000\u0000=�\u0000\u0000\u0003�XYZ \u0000\u0000\u0000\u0000\u0000\u0000Zu\u0000\u0000�s\u0000\u0000\u00174XYZ \u0000\u0000\u0000\u0000\u0000\u0000(\u001a\u0000\u0000\u0015�\u0000\u0000�6curv\u0000\u0000\u0000\u0000\u0000\u0000\u0000\u0001\u0001�\u0000\u0000sf32\u0000\u0000\u0000\u0000\u0000\u0001\f",
      "B\u0000\u0000\u0005����&\u0000\u0000\u0007�\u0000\u0000����������\u0000\u0000\u0003�\u0000\u0000�l��\u0000\u0011\b\u0000�\u0001\u0000\u0003\u0001\u0011\u0000\u0002\u0011\u0001\u0003\u0011\u0001��\u0000\u001f\u0000\u0000\u0001\u0005\u0001\u0001\u0001\u0001\u0001\u0001\u0000\u0000\u0000\u0000\u0000\u0000\u0000\u0000\u0001\u0002\u0003\u0004\u0005\u0006\u0007\b\t\r\n",
      "\u000b",
      "��\u0000�\u0010\u0000\u0002\u0001\u0003\u0003\u0002\u0004\u0003\u0005\u0005\u0004\u0004\u0000\u0000\u0001}\u0001\u0002\u0003\u0000\u0004\u0011\u0005\u0012!1A\u0006\u0013Qa\u0007\"q\u00142���\b#B��\u0015R��$3br�\t\r\n",
      "\u0016\u0017\u0018\u0019\u001a%&'()*456789:CDEFGHIJSTUVWXYZcdefghijstuvwxyz���������������������������������������������������������������������������\u0000\u001f\u0001\u0000\u0003\u0001\u0001\u0001\u0001\u0001\u0001\u0001\u0001\u0001\u0000\u0000\u0000\u0000\u0000\u0000\u0001\u0002\u0003\u0004\u0005\u0006\u0007\b\t\r\n",
      "\u000b",
      "��\u0000�\u0011\u0000\u0002\u0001\u0002\u0004\u0004\u0003\u0004\u0007\u0005\u0004\u0004\u0000\u0001\u0002w\u0000\u0001\u0002\u0003\u0011\u0004\u0005!1\u0006\u0012AQ\u0007aq\u0013\"2�\b\u0014B����\t#3R�\u0015br�\r\n",
      "\u0016$4�%�\u0017\u0018\u0019\u001a&'()*56789:CDEFGHIJSTUVWXYZcdefghijstuvwxyz��������������������������������������������������������������������������\u0000C\u0000\u0001\u0001\u0001\u0001\u0001\u0001\u0001\u0001\u0001\u0001\u0001\u0001\u0001\u0001\u0001\u0001\u0001\u0001\u0001\u0001\u0001\u0001\u0001\u0001\u0001\u0001\u0001\u0001\u0001\u0001\u0001\u0001\u0001\u0001\u0001\u0001\u0001\u0001\u0001\u0001\u0001\u0001\u0001\u0001\u0001\u0001\u0001\u0001\u0001\u0001\u0001\u0001\u0001\u0001\u0001\u0001\u0001\u0001\u0001\u0001\u0001\u0001\u0001\u0001��\u0000C\u0001\u0001\u0001\u0001\u0001\u0001\u0001\u0001\u0001\u0001\u0001\u0001\u0001\u0001\u0001\u0001\u0001\u0001\u0001\u0001\u0001\u0001\u0001\u0001\u0001\u0001\u0001\u0001\u0001\u0001\u0001\u0001\u0001\u0001\u0001\u0001\u0001\u0001\u0001\u0001\u0001\u0001\u0001\u0001\u0001\u0001\u0001\u0001\u0001\u0001\u0001\u0001\u0001\u0001\u0001\u0001\u0001\u0001\u0001\u0001\u0001\u0001\u0001\u0001\u0001��\u0000\u0004\u0000 ��\u0000\f",
      "\u0003\u0001\u0000\u0002\u0011\u0003\u0011\u0000?\u0000��<?�\u0000\b��\u0016���\u0007E���:�Ϛk\u001bw�Y|�/$��Yݛ�brO<f�\\�[^��߯���\u001f���?�G��t}\u0007]��L��\u001b�jW�/�\u001b[M&�Y\u001b�;a\u0002�\u0014k��iJ�\u0012\u0002�:(&����5�=\u0000��x:��_������S��.t�\u001b�x�ľ!�-9\u0018�s��\u0000\u000ej���$�ѭ����3\u0019cg}R��H�8���՝��Gk7����_[�\u0007�?�\u0015�:�g�\u0013�_�\u0000\u0018�\u0000�\u0000�=���׃?���\u0000��\u0000~f~ӿ\u0013�\u0000�U~�\u000et�\u0000\u0006� �/~\u0002|7��\u000fa�P�\u0016�\t�}gF���N�?��)n�]$\"�³|&�o\f",
      "�D�aѭ�?��/\u0014�\u0006�%���+�~��\u0000�U�\u0000D����N��b�\u000f�S�\r\n",
      "��x3�\u0000\t�/�\u0000�P\u0007���1�t�\u001a�)����,�U��߈:�Μ�&�,��,|[�����[a\u000f��V�ڍ�\u0016�\"���4*�8`\u000fR�\u0000�=���׃?���\u0000��\u0000\u001f�\u0015�:�g�\u0013�_�\u0000\u0018�\u000fɓ�\u0007T��\u0000���~Ϸ:g�\u0017�\u0001�t�\u0006��0�<�{���k�����G\u001a���ö�\u0011t}>?\u001a�y-�ī�\u0012j>\u0007�x��\u0001u�E�k�n�h\u0001���\u0000\r\n",
      "{�W�\u0013�\u0006�;��\u0000�\u0000?�O|*�\u0000�u���'t��1@\u001e",
      "Q�O�_\u000e�*�\\�.|\u0011�y��*����2�{��6���\u0012�5�\r",
      "\t�\u0006��\u0018��1\u00053<hϒ��=_�\u0014�¯�'^\f",
      "�\u0000�wK�\u0000�\u0014\u0001\r",
      "��/��[�$\u001f\r",
      "<\u0019q<p����\u0000\b��\u001f�*#4p��nU<�\u00017��ݓ�P\u0007���)w�O�\u001e",
      "\u001a�|M�\u001bǾ\f",
      "�'ƭk�Z֡�3�j\u001e",
      "\u0004�W��\u0007x���\u0011�j\u001e",
      "\u001f_\r\n",
      "�xB�⦎�\f",
      "����x����^&3\u001d",
      "~5�X�\u0000\u0007�o�)�_�N�\u0019�\u0000���\u0000�(\u0000�\u0000�=���׃?���\u0000��\u0000yO�?�_\u000e�]/�rj^\b���\u0015�'�v�w�i�\u000fo�i�1��t�\u0018ZX��kek\u001c",
      "v��&\"�\u0014X�UU\u0002�=[�\u0014�¯�'^\f",
      "�\u0000�wK�\u0000�\u0014\u0001���a�\u000b",
      "�1��?ho��\u0002�'��|o�O��\u0000\u0012�]�\u001b��f��\u000b",
      "O\u0012x{�\u001a���ܝ.����Q\u0010�\u0016��\u001b\u001b�k�.��2�\"3#\u0000|��\u001c",
      "_h�\u0000\u0013�#|`��^\b����~\r",
      "�;�xc�\r\n",
      "|7�\u0016�m~\"����2�E�U���o\u000e�{��3\u001e",
      "\u0013��|+���IҢ�<:|[���]^�Gn�\u0000~��U�\u0000D����N��b�\u0019/��\u0000�b9\b�u�̄r1��,r\u0014�\u0010\u0002?\u0003�P\u0007��\u0017�a��X�A�V�|\r",
      "�]GS��\u001e",
      "x6�\u0000Q��������ۿ\u000fi��]�\\K\u000b",
      "K=�����,��$��ĒM\u0000z_�)�_�N�\u0019�\u0000���\u0000�(\u0003�۳O�~\u000b",
      "�ɟ\u0019�'|2�o��_\u001c",
      "�ODѮ�\u001d",
      "U�\u001d",
      "�}M,%��o���ۖ����SGa\u001e",
      "�x|�KO����\u0000�ˈ\u001e",
      ";v\u0014\u0001鿳ׂ�\u0016x��\u001f�<G5���!�^����'���0���\r",
      "^�\u0019��#�a�O\b�#Sm'b�m\u0017��r�ټ�Ė�n.'\u0000���S�\r\n",
      "��x3�\u0000\t�/�\u0000�P\u0007��Կ\u000e�\u0005�ٻ㯈|=��\r",
      "����:���iz5����j6~\u001e",
      "�������$����dI`�'I#�C+)\u0000�\u0007����|\u0015�$��\bxgć�ߎ����zf�t�-3��ZX\u001b�8�\r",
      "���Z\u0004�O\u0004\u0006C\u001c",
      "Os4��\u0000e�ܖj�}�\u0000\u0000<�ß�߅~,�U���V�\u0000��\u001c",
      "�=_�T�\u000euk�N�_��m�����a�;�\u0000\u000fj�\u0005Ǆ7jkk\u0004~\u001b�\u0012�k�O�I^\tN��#����\u0000{?��\u0000b�\r",
      "|-���\u001f\u001fX|I���k�:���i�\u001e",
      "#���f��Q𿈍ɶ{�K��$X�d�\u0004[��ʍ5��Į�\u0000ᬿ/��\u0003s�?�߇<\r",
      "����%ߌ��F����>\u0015�|\u001fb<=���\u000f�W�\u0013O�?\u0014�1��\r",
      "\u0013�1h��o6����\u0016z\u001e",
      "�}a���B����t\u0007�?�����<k��-���\u0000)�\u0001?�\u001d",
      "�NG�&��\u001b�ĳ�\u001c",
      "��M�\u001c",
      "s�b�\u0017�\u0011�{���s�\u0000\u0005�\u0018�\u0000�5\u0000\u001f�����<k��-���\u0000)�\u0003˼Yek�_\u0016���Ğ?մ�\u000f�>�z�kS�hF;-&�_�T�p��\r",
      "\u0019�v����)��[�2$��\u001e",
      "|��\u001c",
      "Ŀ\u001f~\u0011�t\u001f7���\u0013ĉu&�1���Ήb�7[���\u0000�7�hB��4��o?���*�\u0013��>����m\u0000=\u0017��\"Ҿ%i7:߂>+�\u001a��c�]h����o���M��㷞�LԬ��\u000b",
      "{�>�-o,�\u0005��2�c{e{\u001a��崮\u0001��;��w�&���c?ٞ\u0018�=3���{P\u0002�\u0000�?�����\u001f���\u0003�\u0011�{���s�\u0000\u0005�\u0018�\u0000�5\u0000x?�u�\u0000\u000b",
      "|$�G��I�O�zχ��\u001aǂ<'iw��a��k��\u0000�\u0007��\r",
      "'H�Ӵ�\u000e��n�\u0000�4�^h���y�o'�� �h\u0003�tHg�&��x�@����:��a�h���m�;�;U�5KX���J��\r",
      "!Ẳ���\u001b�[�]�\tc�6de4\u0001��\u0000\b���\u0000Cƹ�\u0000��\f",
      "�#_\r",
      "k(�J�4�\u0016Ivy�.��`��k�<�\u001a gؿ*n-�x\u0018\u0007\u0014\u0001'�#���\u000f\u001a��\u000b",
      "|1�\u0000�j\u0000?�\u001f׿�x�?�[��SP\u0007\u000b",
      "�\u001f\b_�X��;\u000f\u0017�v�q�\u001b_\\�����u��o�/ns6�̆��G�ćɋv�U#TJ\u0000��\u001f׿�x�?�[��SP\u0001�\u0000\b���\u0000Cƹ�\u0000��\f",
      "�\u0010xw]P\u0002��[\u0000t\u0003L��\u001f�\u001a7\u001f�ր\u0017�\u0011�{���s�\u0000\u0005�\u0018�\u0000�5\u00005�?��|��\\#kdf�c���\r",
      "�@\u001c",
      "wß\tj:w��\u0000\u0003��o�5�M>��>\u001d",
      "���\u0016^\u001d",
      "�[Z[i\u0016���&�H�yDQ\"��Wi_n�\u0018�&�;?�G���\u001e",
      "5��\u0016�c�\u0000��\u0000\u001f\u000fk�`��\\ �\u0007M��\u001f�f�\u0004_\u000e�0�7��z.��?!�����\u0002�\u0000�?�����\u001f���\u000f-��૝s���\r",
      "\u001b\\�^������<Oa��\u001b]\u0002�^X�i\u0017p��\u001b�M*\u001b�q4N�f��9�ݺ'W\u0001�\u0003����~\u001ax�\u0000Ƕ\u001f\u000f|\u0013ec�Gƚ͝���K{]Z�ğ\u000e-�u(\"��H����<_k}\f",
      "7(\u0016X㻶��\u0011��(�2P\u0007�|3����\u0000��\u001a�%x#��\u0011|Y�#�\u0010xsB���X�2�\r",
      "�\r",
      "��G��Q��ǆ4�\u0019��\u0000\f",
      "\\h�s�i�Ky*J�y��v��\u001a=�\u0007З\u001e",
      "8񾩮x:�R�9��\u000fC\u001f���;�G�_\u000f�a�t�׈�l�4�\u0015^γI\u001c",
      "�̏,Io��Di�W�%\u0000�w�[�7�t/�\u001d",
      "c�_\u0013���\u0014�yu\u001b�\u001a\u0006���o�ǺG��\u0000�~\u001e",
      "��N��χ��\u001e",
      "xA�\u000f�V%���H�����L�E��\u0007�\u001f��!�\u0000�#W�\u0000���?�s@\u0007����H��\u0000�m��\\�\u0001���\u001f�\u00125�\u001bxc�\u0000�4\u0001\u0005׉��+k���\u0007�6���Ksuuq�xV\u001b{kh#ig��i5��(a�\u001aIe��#Efb\u0014\u0013@\u001e",
      "/�?H���h\u0017�\u001d",
      "���\u0004������\u0017�\u0018񇇡]_E���\u0017��z���iz���i�&��}�5Ι��\\����R�//m�\u0003�y�\u0000a\u0006��;=~-;�/�\"������:<A��#�>\u001a���{W�΁u �\u0015�����ߍ^.3�o�\u001d",
      "{B�)��S]д���)@>��u����qxc�^\u0005׍�\\=��W�����v�[Z\u000b",
      "��4�:���l���\r",
      "��Vy����d���<�\u001d",
      "�����H��\u0000�m��\\�\u0001���\u001f�\u00125�\u001bxc�\u0000�4\u0001�_|_�4�<Iu���am���\u001d",
      "7���x��v��_P�ᱹ�l|C$�$D��/��=:{;m@��s\r",
      "������,�\u001e",
      "9�K�ι��\u001a\\\u0001|c��|\r",
      "�\u000f�\u001f\u0010�׆�\u000f\f",
      ".�u���?\u0019�x�\u0010�\u0012��ǥ\u001b�<O4�S�=E���\"6.g�\u0010\u0007�xBż\u0007�?\f",
      "x\u001f\r",
      "�M#��\r",
      "����_\r",
      "�Qk^\u001f�=3A���m���zMs�Ms2Y�����-��� �|Ҽ���\u001d",
      "\u0017����H��\u0000�m��\\�\u0001���\u001f�\u00125�\u001bxc�\u0000�4\u0001�����=\u001bEԴ3��\u001e",
      "\"k��4��\u0013x6�Q��J�}GT]&�m}.5\u0006Ӵ�侾\u0016��mm\u0011�'��R�\u0001�i�\u001b�+�%��U΅�&��\u001f�D�ױ������<S����<9da�+��p��]t�\f",
      "���b�a6�K@\u0017�!�k���B?\u0007j�\u0006�g�\u001d",
      "�j�\u001c",
      "Q\u001b��t�\t�5t%�bQ�CF�f6d*�\u0001�ox����_�\u0000\u0006�\u0018�\u0000��\u0000\u001f��!�\u0000�#W�\u0000���?�s@\u0007����H��\u0000�m��\\�\u0001���\u001f�\u00125�\u001bxc�\u0000�4\u0000��|@Q��F������x`v=�\u0000�N>���@\u001c",
      "߂��z?\u0007�U#�f�<i��\u0015Rd�|6�*�:�\t\u0015d��U�\u0018,����u\f",
      "\b�\u000e��{�?�$j�\u0000�6���\u0000.h\u0000���\u000f�\t\u001a��\r",
      "�1�\u0000˚\u0000?��C�\u0000BF��\u0000�o\f",
      "��\u000f��\u0010�\u0000Б��\u0000���\u001f���\u000e\u0007⮳�M��ǑM��R�\u0019<'�$�2j~\u001d",
      "�;tm:�4�\u001c",
      "\u001a��:�\u000e�F�0\u0018E,p�\u001f����~\u0016|M�u��6�\u001e",
      "��x��VW�~\u0012�-��.|A�Asmq\u0016�n��<2],�M\u0013��Fꮎ�X\u0006\u0004P\u0007�_\u0006m���\u0000i/��\u0000\u001b~+j�\u0002l�u�\u001a��?\f",
      "��\u0003|O��i\u000b",
      ",�]'���\u0007W�|�\u0014�VO\u0014��Q���o�|[{�u�W�&����~�g-ޠ\u0001����\u0017�:����}+�~\u0017�g���\\�\r",
      "���\\�\u001d",
      "�xcđ4Α\\;,K$�F\\���E�,��\u001e",
      "��\u0000\tG��\u0000�=�����\u0000�P\u0001�\u0000\tG��\u0000�=�����\u0000�P\u0001�\u0000\tG��\u0000�=�����\u0000�P\u0001�\u0000\tG��\u0000�=�����\u0000�P\u0006f��\u001d",
      "\r\n",
      "�Gխ��]\r\n",
      "���L�����U����ymeH��&\"q\f",
      "3H�\u0014��&\u0011�3����\u0000�\u000f��I�\u0000�_���y�o�_©�\u000f���߇�\u001d",
      "�ϡki�h��x;K�\u0017�g�L����'�����n�ѧY� m�@�\u0013��}%�\u0000\tG��\u0000�=�����\u0000�P\u0001�\u0000\tG��\u0000�=�����\u0000�P\u0001�\u0000\tG��\u0000�=�����\u0000�P\u0001�\u0000\tG��\u0000�=�����\u0000�P\u0007����~*��riZ=��\u0013'�\u0011}������>/khw�[��\u000e���q��\u0017�n�J����2�i�b5׹�KT��GT\u0000�WD�.��\u0000\t?��X�a3[xd�5+g�H�7~tq˹D�'m�®x%F@P\u000e��\u0012�\r",
      "�\u0000�{H�\u0000����\u0000\u001c",
      "�\u0003�\u0012�\r",
      "�\u0000�{H�\u0000����\u0000\u001c",
      "�\u0003�\u0012�\r",
      "�\u0000�{H�\u0000����\u0000\u001c",
      "�\u000f��2xfO\u001b|O���]�]x\u000fS�~\u0017x��>��u�\u0011�csq�x��\u0007�>\u001fYXi�G�j�z�Z���e�R�k8��mg�\u0005��\u001bW\u0000���?\u0003|gma��Q��7�;��%��\u0000�;�\u000f�~-��ċ�OE>\u000e�O�독\u001ae����:\u0004\u001a,\u001e",
      "\u0016���\u000f�|\u001f��l�\u0011�\f",
      "G��\u001e",
      "(��u���\u001f}�;�~\u001f��[\u0012kzR\u0017�w��P����rkWl�?yʲ��r:�:��J<7�\u0000A�#�\u0000\u00066��r�\u000f�J<7�\u0000A�#�\u0000\u00066��r�\u000f�J<7�\u0000A�#�\u0000\u00066��r�\u000f�J<7�\u0000A�#�\u0000\u00066��r�\u001a�'��G\u001f��FJ��\u0000������\u000f��T\u0001��#�~\u001f���\u0014�]oJI#�抒#j\u0016���N�\f",
      "�<̆S��pA� \u0010E\u0000u\u001f�xo���G�\f",
      "m���\u0000\u001f�xo���G�\f",
      "m���\u0000\u001f�xo���G�\f",
      "m���\u0000\u001f�xo���G�\f",
      "m���\u0000y�ŏ\u0011h\u0017\u001f\f",
      "�\u0004\u001a֗4�xG_�(���y$��ۅDD\u0012e��\u0001UrX�\u0000$�@\u001f�����\u0014x\u0017�\u0017�\f",
      "�\u0003y{��\r\n",
      "����G@������L�\u0017\u0013I�۴�O4�o$��ĳ�#��\u0012�I4\u0001��Վ������W��<\u0003�|\u0013����/\r",
      "Ťx\u001b�V�\u0019�4�V�\u0014�cԯ�<\r",
      "�\u001d",
      "G��Q��c�h�\u0010���\u0002jvzn��_x�K�l�N�\u0000>���\u001b��3V�\\�o�<5��'���д�Y^\u0017𿉝�i ���lѣ2\u0016*Y\u0014��\u0006�;��m\u001f��Zo�\u0000��\u0000?���\u0005i��\u0003m�\u0000��\u0000����\u0000�\u0015��\u0000�\r",
      "��\u0000\u001b�\u0003�\u001bG�\u0000�V��\u0000�6��n�<��g�O�~\u0012|C��]��{���M[Uo\u0019š�z�΁\u001d",
      "��\\�yga����U��G\u0013[�C}mlד��J\u0000!�<��z��X�<#�O\u0011x{�׷�\u0017/a�4�ӵ\u0014�Ѯ>'�\\x_�\u001a��ka�G�x��>\u0019�Ҽ\u0015�=FM>���^�5)nb7\u000f,��}=����\u0000�+M�\u0000�\u001bo�7@\u0007�6��\u0000@�7�\u0000\u0000m���\u0000\u001f��?�\u0002���\u0001��\u0000�t\u0000ch�\u0000�\r\n",
      "��\u0006��\u0000��\u0007��~!j�^+��4[����cO�G���\u0018�]���u��'�o��\u0015�x.�[�K[�\u000b",
      "G���7׼E%��5�'ú7���L�-�M=\u0000>��5���\u000b",
      "M\u0010j�\u001b�޶�\u0001�_&��]\u0017Lӭ�O\u0017���U\u001fT�V�mh�d��<G{���0��\u0000��kw\u0014p��T�\u0007�ch�\u0000�\r\n",
      "��\u0006��\u0000��\u0001����\u0000�+M�\u0000�\u001bo�7@\u0007�6��\u0000@�7�\u0000\u0000m���\u0000|��\\����?�g��>�a�\u001b��2���x�O}/��Xk6ZG���^-Ү/\u0005��_\u0003���\u0006��D4�GO�@��}��eA\u0010\u0007�:O��O��_��Z�a�Sq�o\u001c",
      "%��n�}?�V����\u0017�~\u0013�%�w�7���mt�e�9�\u000b",
      "U�׀���4��~>|7���g\u0006���\u001f�\u001e",
      "\r",
      "�t���\u000b",
      "�{\u0015���KY[\u001c",
      "\"kWA\u0014|��P0��\u0018\u0018�\u0014\u0001��\u0000ch�\u0000�\r\n",
      "��\u0006��\u0000��\u0001����\u0000�+M�\u0000�\u001bo�7@\u0007�6��\u0000@�7�\u0000\u0000m���\u0000\u001f��?�\u0002���\u0001��\u0000�t\u0000���F���+\u0011��k�\u000fx����@\u001c",
      "ǁ��*O\u0006xI�Lӝ��z!fk+b�N�m����cԓ�O$�I�\u000e��\u001bG�\u0000�V��\u0000�6��n�\u000f�m\u001f��Zo�\u0000��\u0000?���\u0005i��\u0003m�\u0000��\u0000����\u0000�\u0015��\u0000�\r",
      "��\u0000\u001b�\u000f=���iq|0��$Zm�r'�5�I\u0012��]\u0018i�%Y\u0019P2�<�\u0007 �1�\u0000����>\u001ax�T�\u0000\u000f|\u0013>��+�:v�/��I4�\u000b",
      "φ���wgf�|\u0006����?\u001e",
      "�%��Ŷ9.R��fp\\@��P\u000f\"�{���~<�Q�K����\t��(hZ\u000e��?�:g�4�;W�Rֵ\u001d",
      "-�\u000f\u0016�x��|K�m'R�f�m\u001e",
      "k����d���\b�>��B��m�x=�E�\u000f�\u001a��x�d�\r",
      "7����4W��^\"h�$�_\u001c",
      "�+4)\u0012�\u001b�\b�gyc�N�\u0016�p\u000fR����\r",
      ":?�\u0012��I@\u0007�w���i��\u0000��\u0000�J\u0000?��e�\u0000CN��\u0000�����P\u0001���/�\u001at�%&�\u0000撀8�\u0000�6�կ�|Mq�\u0001c�\u001a\r",
      "\"�MG�\u0016_\r",
      "O�.�En��Ҡ��� �\r",
      "VK��\u0016�t0\u001f�1X��\u0000<�঵���H�f���M\u0003¾\u0013}\u0017�f��h�>\u0004�tm7N��?\u0011��5�\u0018�4�\u0003ēhwVW�#ҵ\u000b",
      "�?[�/nt}n�X��6�Q��`�`\u000f�?��e�\u0000CN��\u0000�����P\u0001���/�\u001at�%&�\u0000撀\u000f��\u0019�ӣ�\u0000�)7�\u00004�\u0000gx����\u001f�\u0000\tI����\u000f�� ����\u000b",
      "��/\u0013x\u0007E�k�-�O�->(Gs�S�\u001a���u?Ë\u001fh�,�5\u001d",
      "o���S�\u001a'�u\u0017�\u001e",
      "!�-�zm�>�o0���+�\u000fx�m>��\b[\\�ε��\u0016��_\u0000j�5��\u0006��\u001a�E��>ot{C�˭�͢�ga46�鲢��'��\u0018\u001e",
      "&��=G�;�_�4��\u0000�JM�\u0000�%\u0000\u001f��2�\u0000��G�\u0000�Ro�i(\u0000����\r",
      ":?�\u0012��I@\u001e",
      "1�\u001f�6\u001e",
      "\u001e",
      "���\u001f\u000ex�4�w^�Χ�{\u000f\u0003k\u001f�-���u/\r",
      "�\u000f[�\u0018���3j\u001aeƯ�\u000fV��\u001ad/&�$f�L��h\u0003�+O��\u0000\u0003,�+��'�hZw��#�KCx.�f�\r\n",
      "ا�<_�\u0006����\u0000�5!n��[O\u0013ꖟ\u0012�\u000b",
      "��\u000fJY> ZI��z��\u0000A�\u0004jQ��\u001ftxCO�cZ�^O�t���g�\u0016@�\u0018�]�.�t%�H�\f",
      "{\u0012GˬD1�\u001d",
      "�d�/@\u001d",
      "g�w���i��\u0000��\u0000�J\u0000?��e�\u0000CN��\u0000�����P\u0001���/�\u001at�%&�\u0000撀\u000f��\u0019�ӣ�\u0000�)7�\u00004�\u0000�Ӽc���#\u001b[8���9��T�q@\u001c",
      "ׂ��\u0000\u0016���*�x�J�\u0016��c��1,�\u001a\u001d",
      ":ܪ4��Q�\r\n",
      "��xD݌�\\��\u000e��;�_�4��\u0000�JM�\u0000�%\u0000\u001f��2�\u0000��G�\u0000�Ro�i(\u0000����\r",
      ":?�\u0012��I@\u0007�w���i��\u0000��\u0000�J\u0000�>*�x�>\u001ax��G��[/���\b�5-��D4���_�BιQ)�]���\r\n",
      "�\u0007����>\u001b|V�t���\r\n",
      "�b�W�3S����%�j:~��X_,\u001a}�b��o8y��m� �\u0003|l�@�(\u0003�>\u001b�'��Ï�\u001e",
      "*������m#�\u001a߄�\u000f\r\n",
      "��C�{�CME��m�sY�D��/Z�V��G�K=���[om�[Eqss-�\u0007ҳ|M�5�s����3���\b|A=عմT�����׈��4r\u0019�7\u000e&2���p�FJ�\u0007��\u0000�Ww�\u0000B���\u0016\u001f�9@\u0007�%w�)���\u0000\u0001a�\u0000�\u0000�Ww�\u0000B���\u0016\u001f�9@\u0007�%w�)���\u0000\u0001a�\u0000�\u0001���[�\u0018�[\\���~ �w�j�[%�|4��\u001a��U��K��n\"��\u0017E*�A*2�GFV\"�<��F��|2M\u000b",
      "þ\u000f��Q�i\u000fm�K�Ou/�.~׬���%��<I5�زi�:\\> յ\u0018,4�>(���3k�[�H\u000b",
      "�\u0007��Ww�\u0000B���\u0016\u001f�9@\u0007�%w�)���\u0000\u0001a�\u0000�\u0000�Ww�\u0000B���\u0016\u001f�9@\u0007�%w�)���\u0000\u0001a�\u0000�\u0001�ֹ������ć]�����\u001f��\u0013�O��-��\u0015}\u001fFo\b�=���jV:��ݽǇu_\r\n",
      "��武��h廂�R��1\u0003�z��\bl<\u0001e\u001f��9�\u0016���\u0000\b�C���?�I���\r",
      "\u001b�>\u001e",
      "�����u\u0019�y��汴�澔�n��g��ݙ�=S�\u0012���\u0014�K�\u0000���\u0000��\u0000?�+��\u0000�OĿ�\u000b",
      "\u000f�\u0000\u001c",
      "�\u0003�\u0012���\u0014�K�\u0000���\u0000��\u0000�\u001d",
      "��>\u0010���x�����\r",
      "s����,\"�cMkQ�\u001f�5�\u0000\u0005j?j��9�]3@��K�x�~U��uu��B�\u0007�\u001ao���\r",
      "C��xK�?\u0012>2x����y\u001bS���<\u0011j5]KR�|\u0011�Gk{w�h�.<Y7��+c}e�x�_\u0015\u000b",
      "�\u0013�����.�b,\u0000>����n���@�ǈe��\u0014JLv�\u0010�Mf��M��$�;$\u001d",
      "�\u0010;P\u0007W�\u0000\t]��\r\n",
      "~%�\u0000�X��\u0000\u001f���\u0000Ч�_�\u0005��\u0000�P\u0001�\u0000\t]��\r\n",
      "~%�\u0000�X��\u0000\u001f���\u0000Ч�_�\u0005��\u0000�P\u0003[�7eX�'�^T����\u0018���2>�9�\u000es��&���\u001e",
      "\u0016�x_�R��;� �;X��\u0002���H��9G\u001f2\u001f�R\u000e\u0006p�\u001d",
      "/�%w�)���\u0000\u0001a�\u0000�\u0000�Ww�\u0000B���\u0016\u001f�9@\u0007�%w�)���\u0000\u0001a�\u0000�\u0000�Ww�\u0000B���\u0016\u001f�9@\u001c",
      "\u0017�?\u0012]\\�5��xg�\u0016�7�����{h�0��n\u0001�R$�Ɵy�gj���\r\n",
      "\u0000����>\u0011��L_\u000b",
      "~\u001e",
      "�.��E,~\u000e��I\u001c",
      "�����[\u0006GF�2��AV\u0000��\u0003�@\u001f,�\u0010�[��;���9x��H������v��\\k�\"�<\u0007���\\���x�j�w\u001e",
      "\u001a�<;9נ�m>�<ӡxɍ���G�Ŧ�\u0000�Aq\u001c",
      "\u0000\u001fa��U����\u0014��V\u00132��ܬW��0Q�o\u0013��$�B��\t#\u0000�\u00079\u0002�;/���շ�\u0004C@\u0007�m?����\u0000\u0002!�\u0003�����m�\u0000�\u0010�\u0001��O����\u0000��h\u0003��t7�׆u�'@�\u0015����F�kK-d\b��Ny��\\C\u0007�m��\u0001�m�3(�v�r�\b�n\u0001��u��\u0000��\u0007�\u0015|'�q��]+F�'��3�Z�}7O���\u001b;M7P��\u001e",
      "��D�����\u0015Ý\u0012���v��o0��D�\"�\u0007��m��\u0000��o�\b��\u000f���շ�\u0004C@\u0007�m?����\u0000\u0002!�\u0003�����m�\u0000�\u0010�\u0007����\u0000�\u0014�q��\u0000�@�\u001f\r",
      "Zi\u001a<\u001f\u001f-4���&��y?\u0010\u0012��{��w�j\u000fm���xh^x�M���\u0000P�~���\u0016\u0017����\u0003쟅+y�٦��\t,��,<\u001b���Y�\u001b�g�-V��f�Q�)\"��\u0019\u0012+��Ex�'���\u001c",
      "�!W`\u000f\\�m���[�D4\u0000}���~���\"\u001a\u0000>�i�\u0000?V��\u0011\r",
      "\u0000|���:�>-~��,д\u001b\u001d",
      "{F�s⿊:��o?��m2�OѼU�_��\r\n",
      "���7w���?ڞ �t���M\u0012\u001bxm����[B�\u0001�5����wP�m�\u001d",
      "'�����]����\u0000g�����y|g�}oG��>\u0013���*��Z^��x�k\u0018��\u0002|8�k��6V:���|o�D��\u001a�Vחv\u0010ۀ~�x2��Zk���\u0019�\b��\u000e\u000e�vA\u0019' �A\u0018\u0007ӥ\u0000v\u001fm��\u0000��o�\b��\u000f���շ�\u0004C@\u0007�m?����\u0000\u0002!�\u0003�����m�\u0000�\u0010�\u0003$�����\u0000J����\u0000/\u0010�\u0000t�?��@\u001c",
      "ǁo-\u0007��$\r",
      "ո#�z( �\u0010 �:�\u0010A�\u0004\u001c",
      "�\u000f�P\u0007U��O����\u0000��h\u0000�m���[�D4\u0000}���~���\"\u001a\u0000>�i�\u0000?V��\u0011\r",
      "\u0000y��˻V�]�\u0005V�ݙ�\u001f�\u0000\u0015g��N�s�\u0000�$�\u0000\u001f�\u0002�?����~\u0018|\u001a�S�|9�6��|>����xWC�����-e��������yY\u000b",
      "I,�3;�\u001c",
      "�\u0012Nh\u0003���;_������?��(|)�l�^�s��|=e�?\u000fC��\u001fB�_�/�^\u001d",
      "��\f",
      "�i�k����9q�x�B��/nm�I��k\u0017�q����P\u0007���_�^\u001fּ\u001by�x\u0017�:e��$��i�4�X���O\f",
      "��W��O�6�\bd*r7ƍ�AP\u000fL�\u0000�?¿�/h��.��\u0000�t\u0000�\u001f�_�\u0017�o�\u0017[�\u0000?�\u000f��\u000b",
      "�7�\u000b",
      "����\u0000\u001f���W���\u001b�\u0000\u0005���n�<�㕆��O��\u0000\u0011�C�Xh�6��xKW�H��\u0000�-���'�h,�\u000f����e�\u001d",
      "ı�bKK��f�ax�Հ<��t���^\u001d",
      "��]\bM�د�_\u000b",
      "j7ڵ��[�\u0017\u001e",
      "\u0005���\u0010���/a�i��:&�o��\u0000h�v�,�i4k�V��wy�\u0000���\u0010�\u0000\r\n",
      "�\u0000н����\u0000��\u0001�\u0000\b��^ѿ�]m�\u0000��\u0000�\u0000�?¿�/h��.��\u0000�t\u0000�\u001f�_�\u0017�o�\u0017[�\u0000������\u0014��o�[�\u001a\u001e",
      "��hM�ό\u0007�9���<3���\u0000b�{�\u0006��\u001c",
      "k�S�蚍�Ǩ����\u0003X� �kY.d��)��j\u0001���T�|u�\u001b���\u0010:L�)�{��2��\"��a�4��\u0011�J-^�O�mෂ�\r",
      "b�[�o�E\u0004\u0010D��̱Ĉ��\u0001�?���W���\u001b�\u0000\u0005���n�\u000f�C�+�\u0000B���\u0000��o�7@\u0007�!�\u0015�\u0000�{F�\u0000�u��\u0000\u001b�\u000f�~5��ߋ_�G��a��\u001fB��⿊Z7��n<5�_Ewc�|\u0016񿋴K�.��K�\u0004��K��\u0012�\"H\u0005��ld2yȌ\u0001���\u0000\u0017M�i~/��i�|E�헌\u0016�4�\t�;B�<S��\u000fi\u001a?�-\u0007R�\u0012)�/5�:���W�\u000f\u0018��B�Ҙ5K\u000b",
      "k�E���M.���?V|\u001f�O\f",
      "�k��t\u001d",
      "&B�-�LH^�ي�\u0016�t���|* \r\n",
      "�8\u0000cҀ:��C�+�\u0000B���\u0000��o�7@\u0007�!�\u0015�\u0000�{F�\u0000�u��\u0000\u001b�\u0003�\u0010�\u0000\r\n",
      "�\u0000н����\u0000��\u0001�\u0000\b��^ѿ�]m�\u0000��\u0001�x?¡\u001c",
      "�\u0000�=�p��\u001d",
      "m��\u0000s^\b�f�o�&�@�$�_\u000e��H�al���u�gv(K31%���rrM\u0000u\u001f���W���\u001b�\u0000\u0005���n�\u000f�C�+�\u0000B���\u0000��o�7@\u0007�!�\u0015�\u0000�{F�\u0000�u��\u0000\u001b�\u0003�\u0010�\u0000\r\n",
      "�\u0000н����\u0000��\u0007��W��~\u0019����CҠ�\u000f\tk��4V6�$R&�p�$n�\u0019]XeX\u001c",
      "���\u0000����~\u001bx\u0017�%���\u0005^X|Z�N�eu�\u0016{M6���/oao&�\u0003Ci\u0003^x2����2��\\�]NB�I�bZ�<��^)��>7x��퇎�.h�\u0010��5O\u0012jZ�����\u001af��h^\u001d",
      "�,t\u0003�A�H�\u000e�Q���Q��F��g�R\u001b�f\u0019l�D@\u001e",
      "��\u000b",
      "�Ν��:]k⏊u�I|C<\u000b",
      "m5��!�go\r",
      "x�H�k?\u0007�9�\u0016)!�,�Bc�Bai\u0004r@\u0001���j\u001f�8x�����\u00003t\u0000�=������\u001f���\u0001�\u0000\b���\u0000C���\u0000/\f",
      "�7@\u0007�#ڇ�\u000e\u001e",
      "'��1�\u0000��\u0000q_\u0011��\u000b",
      "ᇁ|S��\u0000\u001e",
      "|A�\u0006��\u000f\r\n",
      "�\u0017:��{q\u001f��,�\u000b",
      "\u0017�\"o\r",
      "��k�e���\u0002q=��C��\u0000�<\u0005�Z��\r\n",
      "x�@�|U�iw~\u0019񭭭��\u001e",
      "\u0011���:\u0017��}\u0006�\b��n,\u0005��v\u0012�n��i-��U�7�\u000b",
      "\u0000{\u0007�#ڇ�\u000e\u001e",
      "'��1�\u0000��\u0000\u001f��j\u001f�8x�����\u00003t\u0000�=������\u001f���\u0001�\u0000\b���\u0000C���\u0000/\f",
      "�7@\u001f.x���\u001f\u0005�|GӼC�\u0014C�xW�~\u0010�s�i�:\u001f� ��>2�_�����?L��ñ��J|*�j_k��c��N�\u0017\r\n",
      "mN�\u000fc�m�� �5mf��\u001e",
      ")��V�|\u001b�[\u0019���W��T�&����1�O\u0002M\f",
      "R�2A�F.�I��@\u001e",
      "��\u0000\b���\u0000C���\u0000/\f",
      "�7@\u0007�#ڇ�\u000e\u001e",
      "'��1�\u0000��\u0000\u001f��j\u001f�8x�����\u00003t\u0001��8�\u0007�<%�\u0018�G��]>��\u0002�\u0000Ŷ>\u000f�M\u0017������|\u001b�x�[�k��F�M:i�9�jol����{`�*�\u0001�և�K�\r\n",
      "k�'ÚN��M3^��%�v^\u0012\tx/C��k�\u000b",
      "�f�<P�}ׇlV8�4O�_\u000e_P�\u000f�����Ӧ�n,劀>��~�%��WŞ#�/�|S\u0019\u0011�\u000ea�5��ҷ���\u000f�)�ɰ�{���0�\u0001��\u0000�=������\u001f���\u0001�\u0000\b���\u0000C���\u0000/\f",
      "�7@\u0007�#ڇ�\u000e\u001e",
      "'��1�\u0000��\u0000\u001f��j\u001f�8x�����\u00003t\u0000����\u0011��&\u001e",
      "'�X�<1�ط@\u001c",
      "ׂt\u001b�|\u001d",
      "�I\u0017Ş#�_ú+,Q\u000f\r",
      "�q\u0003�[�\u001c",
      "~g�d�b\u000f�w��\u0007��r�\u0001��\u0000�=������\u001f���\u0001�\u0000\b���\u0000C���\u0000/\f",
      "�7@\u0007�#ڇ�\u000e\u001e",
      "'��1�\u0000��\u0000\u001f��j\u001f�8x�����\u00003t\u0001�|V���g�ٟ�^\"�H�%�;[�<=�N���\u0013\u0014�F�\u0004�[������i;]N\r",
      "\u0000���Ծ\u001a�^\u001aO��\u0004��)j?`�i��3úMƝy�i�G��\u0019��\u0014\u0012Mk.������\u001b)1�%h\u0003��\u000f�t/\t�B���V���_\u0014���6��_�b���\u0019{�\u0006�[F�����o\u0004i֐x���-'�[�\u001c",
      "\u001fhH��5\u0012j���25\u0000z��\u0000\u0014�\u0000���\u0007�/�ωZQ��S]\t��\u000b",
      "J�����׈�6��\u0016�tZ��jFȨb�S�\u0006UG\u0000�?�K$�\u0000�[�_�\u0005��ʀ\u000f�K$�\u0000�[�_�\u0005��ʀ\u000f�K$�\u0000�[�_�\u0005��ʀ\u000f�K$�\u0000�[�_�\u0005��ʀ<����#����\u001f�_\u00104_\u0014i>\u0010�V�-���H�-�z*X\\[��zԗ7ڬvQG��\u001a}��'�dK7KV��\f",
      "�@9_�zw��\u0003o�Xx4k\u001e",
      ",�5y>-��}cJ\u001e",
      "\u001e",
      "��/��\u001d",
      "|E��W�?�\u0013F�.�{\u001d",
      "\u001a�X�����,.<�5R;e�8�h\u0007�?�I�\u0000B����\u000b",
      "N�\u0000�\u0000\u001f�I�\u0000B����\u000b",
      "N�\u0000�\u0000\u001f�I�\u0000B����\u000b",
      "N�\u0000�\u0000\u001f�I�\u0000B����\u000b",
      "N�\u0000�\u0000|=�+�g��w�~8���?\u0013j�T��\u0019�\u0018|`�[�Zw�����|e�_�W?\tlt�A5�~+\u001d",
      "V�ľ\r",
      "�o���ּ�EΦ�v*�\r\n",
      "\u0000��ph�\u000ft\r",
      "/��\u0017�|W�xo��\u0003�g�/\u000f���n�u{��g���:�Π����=���\u0017?n�yR��\u001c",
      "�Wp\u000fc�\u0000��O�\u0015�U�\u0000�Zw�\u0000,�\u0000�\u0000��O�\u0015�U�\u0000�Zw�\u0000,�\u0000�\u0000��O�\u0015�U�\u0000�Zw�\u0000,�\u0003�>$xq<o�߂�03��Ú�¿\u0010x�_�t���\u000eܟ\u0011�x����\tq\u0013��Y��&��x�P�\u0015lRG3�\u000b",
      "\\m�\u001c",
      "�\u0007�������P��'���sX�.�*�E�H�V�g��ú����G��Q���F��/\u0013n�\u0000��o\u0012�'𮮞&��o\u0011i&w�-m�l��H\u0001�\u0007�\u000f\u0013�V��\u001e",
      "\u001b�,��Y�s\u0015��\bd�n����A\u0012�N�\u0000�08$`�\u0007Y�\u0000\td��+x��\u0000\u0000���YP\u0001�\u0000\td��+x��\u0000\u0000���YP\u0001�\u0000\td��+x��\u0000\u0000���YP\u0001�\u0000\td��+x��\u0000\u0000���YP\u0003_�r\u0014q�\u0000\b���V\u001f��w\u0007��c��T\u0001��/��C��\u0000\r\n",
      "��\u0000\b׉���;�'�\u0015���M�u��\u0019mEX�}�,�J�J�;h\u0003��\u0000��O�\u0015�U�\u0000�Zw�\u0000,�\u0000�\u0000��O�\u0015�U�\u0000�Zw�\u0000,�\u0000�\u0000��O�\u0015�U�\u0000�Zw�\u0000,�\u0000�\u0000��O�\u0015�U�\u0000�Zw�\u0000,�\u0003����g��i��\u000f�<In&�\u0019����`�>�p�d�\u001d",
      "����w9Df\r\n",
      "\t\r\n",
      "O\u0014\u0001����>\u0011jZt\u000b",
      "~\u001e",
      "G%��r'�|<��u\r\n",
      "�0������V\u0007�\b�<\u001c",
      "s@\u001f\u0001~�?\u0005>-x\u0007�����_Ʊi־\u000e���.\u0015��\u0011i��p���,h�#�)�i��k\u0017�Z��lZ�Ŗ�/���~ �]+��A�_�[�\u0007�׈u\u000b",
      "\t�?\u0005,W�r2��؈�ar\u0014x[��\r\n",
      "䁒\u0006O\u0019 q�h\u0003��M�����\u0000c�\u0000�\u0000}���~`�\u0000���\u0000��\u0000>�m�\u0000?0���\u0000��\u0000\u001fi��\u0000��?���r�9/\u001e",
      "��w��\u0013�\u000e�G�<Y\u001e",
      "��j���nX�����J��N���Act���3�\"�.���\u0015�\u000f\u0016��<\u001d",
      "s���\u001f\u0005�%�Yh�7�,~\u0011��x��G���q|C��\u001f\r\n",
      "k�\u0000\u0010$�hV\bZ���:��s\u0001�(�1H�TI\u0018T@\u000f���m�\u0000?0���\u0000��\u0000\u001fi��\u0000��?���r�\u000f����\u001f��?�9@\u0007�m���\u000f��\u001f�\u0000\u001c",
      "�\u000f�\u001f��\u0000\u0005��I�mdҼ\u0001�Z��o�~\u000fk\u001f\r\n",
      "�|M�i�i���ï\u0005|7����.Ι��R�\u000f\u0013�zG�`cwyk��+翔\u0001�烬4O\u000fj�惢�e��&���\u001fH��h㶱�t�\"{+\u001b+d\f",
      "\u0002Cik\f",
      "0F��DA�0�\u001e",
      "���o�������\u0000�(\u0000�M�����\u0000c�\u0000�\u0000}���~`�\u0000���\u0000��\u0000�s㗄5�\u0000\u0013|\\��<K��}5�\u0017��*��}�;ص{-=��\u0013��\u0005|q��\u001b`%�Ot5O\u0011kZ4O\u001c",
      "\r\n",
      "�\u0000fX\r",
      "�\u0002�ѣ�|����v���\u001f���?��\u001f�����|#�x�N�G�t_\u0012��_�^\f",
      "�A�[��\u0003kx�E���)�O��Zߛw���S��&�.c7��\u0000?J<\u0019qn-5��B3�\u000f\u0016\u0011�Ppu��\u001f�8#��9�9�\u000e��6���\u0007����\u0000�P\u0001��o�������\u0000�(\u0000�M�����\u0000c�\u0000�\u0000}���~`�\u0000���\u0000��\u0000d�6�\u001c",
      "}�\u000eQ��~���\u000f��P\u00071�[�q�\b�q\u0000#�Z&A�<����py�צ;�Ҁ:�����\u001f��?�9@\u0007�m���\u000f��\u001f�\u0000\u001c",
      "�\u0003�6���\u0007����\u0000�P\u0001��o�������\u0000�(\u0003��.\\[���J���|\u001f�\u0000\u0000�\t$�8\u0000\u0007$��\u0001�N(\u0003����~\u0018�\u0016�S�|:�>���\u000b",
      "×ڎ��m\u0012����O�I��t�%�y���K#3�\u001e",
      "�O�\u0000|-�+X��O�u�?�S�\u001b�\r\n",
      "\r",
      "\u0003�g�&�B�|)s�x\r\n",
      "���\u0016<?�\u001f�k\u0007�4\u001d",
      "R�\u0000U���\u0017�u��W^�񥦕�i�(ѵ;M&�XXޢ\u0000~��|!�e��o���/�<?��M�9���O�7��O\f",
      "��Y c�6�\bd#��!ꢀ=7�\u0010�\r\n",
      "п��\u0000�,t\u0000�\u001b�O�\u0017���\u0005��\u000f�C|)�\u0000B���\u0000���\u0001�\u0000\bo�?�_��\u0000�\u0016:\u0000�\u000f�Jh�\u001a�\r\n",
      "���\u0005x{���\u000f\u000f�j{�\f",
      "G���=����ŵ��ov|��������\t5;�g�t���WT�m:��&\u0000��o\\��ǃ�+��\u001bx^�O�\f",
      "�|m�5=*��KK�=�\u001b�p�N����F\t�kWvZv�\f",
      "\u0012x�AH�mp�jv\u0010[�r`@\u000f���\r",
      "��\u000b",
      "�_�\u0002�@\u0007�!�\u0014�\u0000�K�\u0000�X�\u0000�\u0000�7�/��\u000b",
      "\u001d",
      "\u0000\u001f���S���/�\u0000\u0001c�\u000f�o�?\u001a�o�/\u0013�{��t_\u000b",
      "���\u0000��\u001e",
      ">\u0012x/Þ\u001a���\u001a&��\u0011�_�U���}.\u001d",
      "�P\\�oM�ƣc��h���`6z���\u0011Kk�]GR�om\u0000>��\u000f\u001e",
      "���\u0006�k�:ƍ��j\u001e",
      "+�e��W�\u001e",
      "�&�\u000b",
      "j\u001e",
      "$�m���I\u000e�v�w�$�WRH4ۙd��\u0004[L�$Lh\u0003��\u0000�\r",
      "��\u000b",
      "�_�\u0002�@\u0007�!�\u0014�\u0000�K�\u0000�X�\u0000�\u0000�7�/��\u000b",
      "\u001d",
      "\u0000|��[��?ſ٫O�!�F��C�?\u0014t\u000f\u0012Y�:v��\u0000m�ß\u0006|m�\u0016��y����4�wÖ/|,e�ϳ��\u0019�C#P\u0007�n��P|K�����\u0000���_\u0016|1�x�R�O��\u0013��Vi��\u0003J��\u0000g}&��ږ�\u0000�K�\u0000\u000e��\u001f\u001b�C�4χ�M���k������ĺ����M�\u0000�{���15��eд�)��\u0014ĥ�P��-f�#A�� \r\n",
      "��\u0018�\u000e��\u0010�\r\n",
      "п��\u0000�,t\u0000�\u001b�O�\u0017���\u0005��\u000f�C|)�\u0000B���\u0000���\u0001�\u0000\bo�?�_��\u0000�\u0016:\u0000k�7¡\u001c",
      "�\u000f�y\r\n",
      "����~���\u000ek�>\u0011���\u000e��hZl����\u001aI$kh�;��nY��bI'���\u0000t�\u0000���S���/�\u0000\u0001c�\u0003�\u0010�\r\n",
      "п��\u0000�,t\u0000�\u001b�O�\u0017���\u0005��\u000f�C|)�\u0000B���\u0000���\u0007��V𧆭~\u0019����CӠ�\u000f\tk��4vȲE$zu�$�Õe`\r\n",
      "��<�\u0000�����Ⱦ+�K�~��O�W��Z\u0007��?\u0010E�m\u0007�ׅ�mqt�\r",
      "\u001e",
      "+�����ڦ�ow\u0005�\u0010��_Z\t��yeW8`\u000f������\u000b",
      "�\u0003��|E��l�.|9�E���\"�~\u000b",
      "|?����\b���/�\u001f\r",
      "|G�._�H-�$�\\�n��L�h1x��N��W�o\u0002i�B�p\u000f����;\r",
      "s�\u0012��\u0015`�m\u001f�3C\r",
      "�~\u0007�4Ɔ�7�&��ςY\u0019�D�Dae(���ĥ@=O�\u001f��8\u001f�\u0011��n�\u000f�\u0015�\u0000���G��\u0000�\u0000?��W�\u0000C��\u0000�\u001e",
      "��\u0000��\u0000���_�\u000e\u0007�\u0000\u0004zo�\u0000\u001b�\u000f6���)>\u0010|7�W�o\u0018����Þ\u001a���P����qsvu\u001d",
      "B�H��E�{k(��P�-`�������\u0019$�����\t�@\u000e/�\u0017�a��t�\u0010�7�meg���s���bt]\u0005��<O��=��|c�G.��闶��#Я\u0012����;�H��\u000b",
      "n�Kn�\u001e",
      "�����\u001c",
      "\u000f�\b���7@\u0007�?��\u0000�p?�#���\u0000\u001f��+�\u0000���\u0000��M�\u0000�t\u0000c����\u0003�\u0000�=7�\u0000��\u0007�~4���\t���~\u0014�m�[�\u0012i_\u0014|%����Þ\u0000�l<[�\u0011|'��˥^�����[�6^\u000b",
      "ҵa��\u0010����,WI��w���p\u000f]�E�f�����\u0000\u0012�\u0015�9.<'�\u000f��\r",
      "|w��|?���}�\u0018x]<A�����[H�]���(�#g(d}��\u0007��\u0000c����\u0003�\u0000�=7�\u0000��\u0001����\u001c",
      "\u000f�\b���7@\u0007�?��\u0000�p?�#���\u0000y\u0017�\u001f\u0016�\bx��?�5��SXվ#�3��+���G�Z�����W�z�u(���q\u001e",
      "�\f",
      "ڶ���J�O]*���7h��rZ����\u001f#]~�?\r\n",
      "�\u0019\u001d",
      "����x�������\u0013���[�\u001f�4U�Ώe�|\u0010��|A$r�B�\u001e",
      " �-�>�<�u�\t��7�t�J/\u0010�SZ��=�j@\u001fuxCJ�;��^W��A|Y�a�����\u0017Y�\u0012JIBG��}�\u0014\u001d",
      "�\u0000b�:��\u0015�\u0000���G��\u0000�\u0000?��W�\u0000C��\u0000�\u001e",
      "��\u0000��\u0000���_�\u000e\u0007�\u0000\u0004zo�\u0000\u001b�\u0003�\u001f��8\u001f�\u0011��n�\u001a�G���>08\r\n",
      "s�\u0000\u0012-0�B�\u001f�8=�@\u001c",
      "���\u0013?��,����\u0013xwFh����O��N��\u0018b�Ͱaw�,���1j\u0000���W�\u0000C��\u0000�\u001e",
      "��\u0000��\u0000���_�\u000e\u0007�\u0000\u0004zo�\u0000\u001b�\u0003�\u001f��8\u001f�\u0011��n�\u000f�\u0015�\u0000���G��\u0000�\u0000�~*i~%�ᯏ$��I��<'����\u0000��|^|CN�/\u0017��\u001e",
      "?1r�b\u001d",
      "�ˆ\u0014\u0001���ɬ�$h\u001a��[_��\u0013��E�uO���U5�>\u000f�A�V�asy�.�qwn�\u001a,v:�(�J`{]C�ӟ.D�Ӗ\u0000��Oٗ�\u0017�\u0007��\u000ek\u001f\u0011~,]i�\u000f�C�C�WĘ�g\u001fٷ�?�߳�Ļ/�_\f",
      " ���;�𖸚���O�58\u001bQ�Zҵ\u001b��l��ϱ�Z\u0000~�\\|_🈵�\u0007���>8I��\u0014׏�����zDM\u0014~\u001a�\u0014L�O��~�\u0019�-:\u0015���v�e�c1�+ \u0007��e�ϗ�?��\u001f�\u0000*h\u0000�\u0000��J�\u0000�/\u0012�+�?�T�\u0001�\u0000\t���\u0000>^$�\u0000�W����\u0003�\u0013-+�|�I�\u0000����\u0000�S@\u001c",
      "��5+?\u0016x;��\u0018���Ӯ��\u000fR�m��/�:����I��d�9��=�h�iZݜl���w��>d\u0012�\\�\u0000�_�~\u0011���8to\u0006�Pk���~/��U�/\u0005�T7\u001e",
      "'���:\u000f�^$�M�l���L�aֵ��]\u001fN�G�J�a�t���D\u0012�\u0001�\u001f�&ZW��x��\u0000\t_\u0011�\u0000�\u000f�L�����'�\u0012�#�\u0000�M\u0000\u001f�i_���O�%|G�\u0000ʚ\u0000?�2ҿ��ğ�J���\u0000�4\u0001�?�>\f",
      "\u001d",
      "wZ�����۵��w�>\u001e",
      "����k�����Ð�#��g�峎�^��������l��?V�5�D�@e�\u000fl�\u001e",
      "������\u0000\r\n",
      "�k\u000f��\u0018��Bx_����\u001ax\u000f�q\\�_���B�g�\u0017úR޺�bF�\u0016\u0016\u0016�I��!p��M�0@\u000f_�\u0000��J�\u0000�/\u0012�+�?�T�\u0001�\u0000\t���\u0000>^$�\u0000�W����\u0003�\u0013-+�|�I�\u0000����\u0000�S@\u001e",
      "+�+�i�\u001f|\u0014�Ο������{�~3�\u001aX7ý{S�ݹ�gß\u0013�=�'�����1�x��T]�\\}����\u0019q\u0007��\u0001�T���ϋ�\u001ai�\u000b",
      "�.�F�����+������\u0000ǣ�\u001a����xc������յ�\u000fĞ#�.��+�\u0012x���\u0000~�����\u0000K���\u001af�q��}��\u000f\u0016���A�<@��Y�G��~P\u0016]f��XǦ8Y\u00008�6�$m��\u0015�\r\n",
      "\u0000�?�2ҿ��ğ�J���\u0000�4\u0000�e�ϗ�?��\u001f�\u0000*h\u0000�\u0000��J�\u0000�/\u0012�+�?�T�\u0001�\u0000\t���\u0000>^$�\u0000�W����\u0006�����>��L�a�\u0000\"�����\u0005\u000f��P\u00075�\u0017i�x;°���KE��\u0019\u0018��\u0010K\u0019+�[�RX�ǎD=U��\u0018`�*E\u0000t�\u0000�i_���O�%|G�\u0000ʚ\u0000?�2ҿ��ğ�J���\u0000�4\u0000�e�ϗ�?��\u001f�\u0000*h\u0000�\u0000��J�\u0000�/\u0012�+�?�T�\u0007\u0001�W�zm��O\u001e",
      "�Gi����K^�\u001a\r",
      "���>�p��<�dp�\u0018'-$�\" �\u0001�\u0000�������o�2].�G�\u0006�{��\u0019���G��Xx�P����Ea\u0006�x���m�^��e��V�\b���)��>D��/���?�K��G��7�g´ѴO���t�\u0017F��\u0002x�Ά7����:M?Ă��m�<Ai{o\u000e�|�=�ƺ�o</e8\u0007�G�\u0014ix'\u0003��\u001c",
      "�?�U�G4\u0001�P\u0001@\u0005\u0000\u0014\u0001���Y|3���o�_\u0011��-\u001f��7�d/\u0010x2�_�֬�}\u0013S�G�-\u000b",
      "�x.��]f��K�?��\r",
      "o��#KכN��ӟV����\\m@\u000fe���'�?\u0006���_�,.�S{��?Ğ\u000b",
      "�����^�?�w�~76����wB�����]\u0017����\u0012h�ww\u0016�\u001e",
      "�{\u000fE&�)U@>��\u0002�\r\n",
      "\u0000(\u0003����\t~%��ⷊ5�\u001f��ƕ�6��j�O�>\u0012ռA�S�|i�mo�O���ږ�{/�\u001b��\u0012��<g�\u001f\u0012�sA׭|1�x7�\u001f��o\r\n",
      "i�mFy4; \u000f��f�\u000f���\r",
      "�\u000f�o�\u001a�k\u001f\u0012�5�ঁ�\u000fW{�ԛT�Ə�;M?�z�j/�j\r",
      "w�������^\u0017�K|�5\u0000}\u0017@\u0005\u0000\u0014\u0001���/\u000fx�S���-k�\u001b�ω5�#��.��7�ot[�m?O��-w்�\r",
      ".=nI�k\t�\u001d",
      "G���\u001c",
      "��{K=Nk\u001b�ME��\u000b",
      "In�\u0003�_\\���j]F=hx?�~.𖅪��7�K�j>7����\u0013�Q״\u001f�����;�\u0012�x���M+��6���x�L���A�GTּQw�]\\�I���\u0000���X\"�\\�<��Ť{����G���h\u0003��\u0002�\r\n",
      "\u0000(\u0001�\f",
      "���(�\u0001߃@\u001c",
      "ǁA\u001e",
      "\r\n",
      "�� ��\u0000\bև���\u0000�6�����@\u001d",
      "U\u0000\u0014\u0000P\u0001@\u001e",
      "u�w�Io�?�\u0013�C�i�\u0014\u0001���ť�?��o���w��vRx���q�E�ǈ|A�s��ukO\u000f�\u0000i�jZ~��\u001e",
      "Qg+�����?n��\r\n",
      "\u000f�\u0003�k]r��>\u001b����\bh?\u000f�o\u0019��~\r",
      "�;�\u001c",
      "|!\u001a�ē�Xx/��:\u0006��O�.�����\r",
      "���'�+=g��\u001e",
      "�]����<Y���%g<���M�\u0007�D�\u0000\u0004~\u001a�k\\�}]�qq�\u0019�fi�E�k�ki|5�\u0019�<��f� �m�,$Xċ��`��=K�\u0010\u000f\t�\u0000�,�\u0000�v��\u0000�t\u0000�\u0001�?�\u0005��\u000e��.�\u000f�@<'�\u0000@��\u0000�ڏ�\u0000%�\u0001�\u0000\b\u0007��\u0000�\u0016�;Q�\u0000�\u0000?�\u0000��\u0002��\u0007j?��@\u001c",
      "��\u0007��n4��?��A3/�u\f",
      "�#ռ2�s����,�\u0000\u0000wd���\u0000��\u0000��\u0002��\u0007j?��@\u0007� \u001e",
      "\u0013�\u0000�Y�\u0000��G�\u0000��\u0000�\u0000�\u0003��\u000b",
      "?�\u001d",
      "��\u0000�]\u0000\u001f��xO��g�\u0000\u0003�\u001f�K�\u0003�\u0010\u000f\t�\u0000�,�\u0000�v��\u0000�t\u0001�i^\u0007����Ű��LpE��\u0012���m�m/\u0019�\u0017A�J��\u0013���:��@<'�\u0000@��\u0000�ڏ�\u0000%�\u0001�\u0000\b\u0007��\u0000�\u0016�;Q�\u0000�\u0000?�\u0000��\u0002��\u0007j?��@\u0007� \u001e",
      "\u0013�\u0000�Y�\u0000��G�\u0000��\u0000�\u0000�\u0003��\u000b",
      "?�\u001d",
      "��\u0000�]\u0000r�\u0011�G�.-u�.�X��\u0014@���\u0011C�]$k��\f",
      "�P\u0006NX�I�h\u0003��\u0000�\u0003��\u000b",
      "?�\u001d",
      "��\u0000�]\u0000\u001f��xO��g�\u0000\u0003�\u001f�K�\u0003�\u0010\u000f\t�\u0000�,�\u0000�v��\u0000�t\u0000�\u0001�?�\u0005��\u000e��.�\u001a�\u0001�G?�d�X��j<�\u0013��?�\u0000s~\u000b",
      "�?��|\u001f�k�t�����\u001aI\u0018^�\u0003t��ۗl\u000b",
      "�\u0006�$�\r",
      "�8\u0018\u0018�\u000e��\u0010\u000f\t�\u0000�,�\u0000�v��\u0000�t\u0000�\u0001�?�\u0005��\u000e��.�\u000f�@<'�\u0000@��\u0000�ڏ�\u0000%�\u0001�\u0000\b\u0007��\u0000�\u0016�;Q�\u0000�\u0000�*x+�V_\r",
      "|ywm�\u0018�-�'�M\u000b",
      "����I\u001e",
      "�p��^�m`\u000e�\f",
      "�\u0018e`v�\u0007�����|G���!�<O'�Mw�u�ÛK�[ú��_\u001e",
      "�Aԯ|-m��q%����\u0017�w\u0007ķ\"�\u0001���ЌS�I\"��\r\n",
      "�@\u000f��5/��E����q���n_\u000f|E��ŷ�\u000f\u001e",
      "Y~��'�F�|H�muφ�D:�>)7�\u0000�ֵ�v\r",
      "J����\u0004�u[ɵMT�&��\u000f�.-~5�����mw�t�'�S\b\u0017C�,���\u0011�\u0011\u0018�g���RZ�E��\u0012G\u0014�F��uH�\u001c",
      "\u0003Ծ���\u000b",
      "xO�\u0000\t�c�\u0000��\u0000>���\u000b",
      "xO�\u0000\t�c�\u0000��\u0000>���\u000b",
      "xO�\u0000\t�c�\u0000��\u0000>���\u000b",
      "xO�\u0000\t�c�\u0000��\u0000>���\u000b",
      "xO�\u0000\t�c�\u0000��\u0000�n ��&�H:����\u0000�E|@Qƃ�\b�CW�Ϙ�\u0017�$e�Fs\u0011I\u0004ʨ�\"����\u0000u_g���\u0005�'�\u0000����\u0000�E\u0000\u001fg���\u0005�'�\u0000����\u0000�E\u0000\u001fg���\u0005�'�\u0000����\u0000�E\u0000\u001fg���\u0005�'�\u0000����\u0000�E\u0000\u001fg���\u0005�'�\u0000����\u0000�E\u0000rzL\u001e",
      "4�\u0000����5O\u000b",
      "��^\u001d",
      "�\u001d",
      "U�`l�<�*1�5hʍ���.�AP�a�:ϳ�����\u0013�\u0000�{X�\u0000梀\u000f������\u0013�\u0000�{X�\u0000梀\u000f������\u0013�\u0000�{X�\u0000梀\u000f������\u0013�\u0000�{X�\u0000梀\u000f������\u0013�\u0000�{X�\u0000梀9?\bA�3k�y:��\u0010\u000f\u0016x�I��:���\u001a�ל�Sđ���Ɏ6\f",
      "�+I!\u001b�\u0003��?��-�?�'���j(\u0000�?��-�?�'���j(\u0000�?��-�?�'���j(\u0000�?��-�?�'���j(\u0001�[�����xO�7���ǧ��\u0014\u0001��&\u000f\u001a\u001f\u0007xT��x]!>\u001d",
      "ьI.��I*�t�}�$��H��.\u0003��\u001a�r#@B�\u0007O�\u001c",
      "�\u0000�[��Ok\u001f��P\u0001�\u001c",
      "�\u0000�[��Ok\u001f��P\u0001�\u001c",
      "�\u0000�[��Ok\u001f��P\u0001�\u001c",
      "�\u0000�[��Ok\u001f��P\u0007\u0001�V\u000f\u0018��O\u001e",
      "\u001b�O�2Z�\t��;}\u000fU�w�i�\u001e",
      "b�4�\"��9J�#�\u0004ȭ�Ѹ\u001bh\u0003�����\u001f���V��Cw�oW�é�/�6�\bo\u0000�\u001a�?\f",
      "�c�A�j�J���\u001e",
      "\u0018\u0017D���M�\u001b��e�{IX,�#�\u0015�>\\?\u001ab��\u0007��^\u0006�j]f�K������\u0011�~��֛�\"�~\u001a_�m���\u001e",
      "<�A��\u0000�6^\"����xG�5��j��_\u000f��g3iɪN\u0014\u0003�\u0007D���e���&�΋��\u001f�\u001a���jwZ��2x+�zzť�hzƝ5��QЭ⑖�U��ɍ�f\u0012�\u00166H��\u0003�?��\f",
      "��u�\u0000����\u0000��\u0000?��\f",
      "��u�\u0000����\u0000��\u0000?��\f",
      "��u�\u0000����\u0000��\u0000?��\f",
      "��u�\u0000����\u0000��\u0000?��\f",
      "��u�\u0000����\u0000��\u0000���>\u0010��4�Q|Irl��=�XK'�\u000e�\r\n",
      "���Z\u0005ź\b�\u0000���\u000f\u0015��\u0017T؞X\f",
      "��\u0005\u0000t?���\u0000\u0006?�g��\u0000�{_�\u0000�m\u0000\u001f���\u0000\u0006?�g��\u0000�{_�\u0000�m\u0000\u001f���\u0000\u0006?�g��\u0000�{_�\u0000�m\u0000\u001f���\u0000\u0006?�g��\u0000�{_�\u0000�m\u0000\u001f���\u0000\u0006?�g��\u0000�{_�\u0000�m\u0000s�w�\u001f����^$�%�%���1�h�\u0000�:�\u0019\r",
      "���w\u0019A��M�\"\u0001�W~r��%@:?�i�\u0000�\u001f�3��=��\u0000�\u000f�i�\u0000�\u001f�3��=��\u0000�\u000f�i�\u0000�\u001f�3��=��\u0000�\u000f�i�\u0000�\u001f�3��=��\u0000�\u000f�i�\u0000�\u001f�3��=��\u0000�9�\f",
      "���\u0000\b��}V;�\u0012\\��^$�\u000e�\b\u001a\u000e���o�K��i\tM=���Eb��Bv��\u0002(\u0003��\u0000���1�\u0000C=��\u0013��\u0000�\u0000+h\u0000�\u0000���1�\u0000C=��\u0013��\u0000�\u0000+h\u0000�\u0000���1�\u0000C=��\u0013��\u0000�\u0000+h\u0000�\u0000���1�\u0000C=��\u0013��\u0000�\u0000+h\u0001��O|\u0018ee�\u0000����R?�^����4?ʀ0�)�H� ��1��6�ė1��hzU��cA�d\u0011�[��\u0014щ\u0013Od�$��\u001d",
      "\u0019���N\b�\u0001��\u0000\r",
      "?�c��{��'��\u0000�V�\u0001�\u0000\r",
      "?�c��{��'��\u0000�V�\u0001�\u0000\r",
      "?�c��{��'��\u0000�V�\u0001�\u0000\r",
      "?�c��{��'��\u0000�V�\u0007\u001b�\u0013���M��\u000f�:&��+��-[�zƟc\u0003hz�+5�Ռ��\u0019�k\b�<��^WT\\�\u0000M\u0000���PK\u0003\u0004\u0014\u0000\u0006\u0000\b\u0000\u0000\u0000!\u0000ֽ���\u0000\u0000\u0000Z\u0001\u0000\u0000\u0014\u0000\u0000\u0000xl/sharedStrings.xml��Aj\u00031\f",
      "\u0005�}�w0�7�&\u0010J��E��]\u0017�\u0001�X�1�%�Ҕ��uIO�.?�/�õ,�\u000b",
      "�d&\u000fϛ\u0001\f",
      "��)�������\u0002F4R�\u000b",
      "\u0013z���!<>8\u00115ݒx�U뫵2�X�l�\"�ə[��c��Ԇ1Ɍ�e��a��\u00123�\u0019y%��\u0007�R��x��\u001d",
      "\u0004'98\r",
      "99��չo�<~4sf��Ի��[핈�L�'�\r",
      "��Ȼ�\u0013��׿a�\u0013�\u0001\u0000\u0000��\u0003\u0000PK\u0003\u0004\u0014\u0000\u0006\u0000\b\u0000\u0000\u0000!\u0000\u001c",
      "�\u0019n�\u0001\u0000\u0000=\u0003\u0000\u0000\u0010\u0000\b\u0001docProps/app.xml �\u0004\u0001(�\u0000\u0001\u0000\u0000\u0000\u0000\u0000\u0000\u0000\u0000\u0000\u0000\u0000\u0000\u0000\u0000\u0000\u0000\u0000\u0000\u0000\u0000\u0000\u0000\u0000\u0000\u0000\u0000\u0000\u0000\u0000\u0000\u0000\u0000\u0000\u0000\u0000\u0000\u0000\u0000\u0000\u0000\u0000\u0000\u0000\u0000\u0000\u0000\u0000\u0000\u0000\u0000\u0000\u0000\u0000\u0000\u0000\u0000\u0000\u0000\u0000\u0000\u0000\u0000\u0000\u0000\u0000\u0000\u0000\u0000\u0000\u0000\u0000\u0000\u0000\u0000\u0000\u0000\u0000\u0000\u0000\u0000\u0000\u0000\u0000\u0000\u0000\u0000\u0000\u0000\u0000\u0000\u0000\u0000\u0000\u0000\u0000\u0000\u0000\u0000\u0000\u0000\u0000\u0000\u0000\u0000\u0000\u0000\u0000\u0000\u0000\u0000\u0000\u0000\u0000\u0000\u0000\u0000\u0000\u0000\u0000\u0000\u0000\u0000\u0000\u0000\u0000\u0000\u0000\u0000\u0000\u0000\u0000\u0000\u0000\u0000\u0000\u0000\u0000\u0000\u0000\u0000\u0000\u0000\u0000\u0000\u0000\u0000\u0000\u0000\u0000\u0000\u0000\u0000\u0000\u0000\u0000\u0000\u0000\u0000\u0000\u0000\u0000\u0000\u0000\u0000\u0000\u0000\u0000\u0000\u0000\u0000\u0000\u0000\u0000\u0000\u0000\u0000\u0000\u0000\u0000\u0000\u0000\u0000\u0000\u0000\u0000\u0000\u0000\u0000\u0000\u0000\u0000\u0000\u0000\u0000\u0000\u0000\u0000\u0000\u0000\u0000\u0000\u0000\u0000\u0000\u0000\u0000\u0000\u0000\u0000\u0000\u0000\u0000\u0000\u0000\u0000\u0000\u0000\u0000\u0000\u0000\u0000\u0000\u0000\u0000\u0000\u0000\u0000\u0000\u0000\u0000\u0000\u0000\u0000\u0000\u0000\u0000\u0000\u0000\u0000\u0000\u0000\u0000\u0000\u0000\u0000\u0000\u0000\u0000\u0000\u0000\u0000\u0000\u0000\u0000\u0000\u0000���j\u001b1\u0010�â{��\u0013J1Z����P���'�Y��V\u0012�d��,��P�\u001b�Էi��\u0011�.��顐���?�oF���6&k1D�l����eh�+��\u0014�~���\u001d",
      "�\"�-�8�\u0005�adW��X\u0006�1�Ƙ�\u00166\u0016�&�sΣ���8I�MJ�B\u0003�Ұ᮪��\u001b��\u001a��gy���ЖX��CC6t���ڦ�S\u001d",
      "_|X�|\u0002���{�\u0015P�R�i\u0015\\t\u0015ew��%\u0017���V�\u0011|l\u0013�s��)h��\\�q*V\r\n",
      "\f",
      ".�\u0011�\u0002\u0013Q�cA�\"t�[�\u000eQ���-*r!��KZ��e�\u0010�\u0003+X\u000b",
      "A��\u0004�ن����\u0014䟟������\u000f��>��pl\u001d",
      "��R�zC\r\n",
      "N�]��#\t��kM\u0006�j\t��\u0007�3\f",
      "�/\u0010�c�\u0003�a�\u0001k<B��\u0004����k<�]\u0012\u000e�Gm?�{�v7@�_�iQ�j\bX�;��ǂ�M�\u000e�k���n��{�\u0015���0�\u00069���\u0017y��QM�㻗�\u0000\u0000\u0000��\u0003\u0000PK\u0003\u0004\u0014\u0000\u0006\u0000\b\u0000\u0000\u0000!\u0000���X\u0001\u0000\u0000\u0002\u0000\u0000\u0011\u0000\b\u0001docProps/core.xml �\u0004\u0001(�\u0000\u0001\u0000\u0000\u0000\u0000\u0000\u0000\u0000\u0000\u0000\u0000\u0000\u0000\u0000\u0000\u0000\u0000\u0000\u0000\u0000\u0000\u0000\u0000\u0000\u0000\u0000\u0000\u0000\u0000\u0000\u0000\u0000\u0000\u0000\u0000\u0000\u0000\u0000\u0000\u0000\u0000\u0000\u0000\u0000\u0000\u0000\u0000\u0000\u0000\u0000\u0000\u0000\u0000\u0000\u0000\u0000\u0000\u0000\u0000\u0000\u0000\u0000\u0000\u0000\u0000\u0000\u0000\u0000\u0000\u0000\u0000\u0000\u0000\u0000\u0000\u0000\u0000\u0000\u0000\u0000\u0000\u0000\u0000\u0000\u0000\u0000\u0000\u0000\u0000\u0000\u0000\u0000\u0000\u0000\u0000\u0000\u0000\u0000\u0000\u0000\u0000\u0000\u0000\u0000\u0000\u0000\u0000\u0000\u0000\u0000\u0000\u0000\u0000\u0000\u0000\u0000\u0000\u0000\u0000\u0000\u0000\u0000\u0000\u0000\u0000\u0000\u0000\u0000\u0000\u0000\u0000\u0000\u0000\u0000\u0000\u0000\u0000\u0000\u0000\u0000\u0000\u0000\u0000\u0000\u0000\u0000\u0000\u0000\u0000\u0000\u0000\u0000\u0000\u0000\u0000\u0000\u0000\u0000\u0000\u0000\u0000\u0000\u0000\u0000\u0000\u0000\u0000\u0000\u0000\u0000\u0000\u0000\u0000\u0000\u0000\u0000\u0000\u0000\u0000\u0000\u0000\u0000\u0000\u0000\u0000\u0000\u0000\u0000\u0000\u0000\u0000\u0000\u0000\u0000\u0000\u0000\u0000\u0000\u0000\u0000\u0000\u0000\u0000\u0000\u0000\u0000\u0000\u0000\u0000\u0000\u0000\u0000\u0000\u0000\u0000\u0000\u0000\u0000\u0000\u0000\u0000\u0000\u0000\u0000\u0000\u0000\u0000\u0000\u0000\u0000\u0000\u0000\u0000\u0000\u0000\u0000\u0000\u0000\u0000\u0000\u0000\u0000\u0000\u0000\u0000\u0000\u0000\u0000\u0000\u0000\u0000\u0000\u0000\u0000\u0000\u0000\u0000��MN�0\u0014��H�!�>���?+I%@]Q�D\u0011��e��\u0016�\u001d",
      "ن�\u001bp\u0000\u000e�\r",
      "�\u0011\\\u0003'iCPAbiϼ�3ON��U\u0019<��R�\f",
      "�\u0011A\u0001(��T�\f",
      "�,f�1\r\n",
      "�cJ�R+��\u001a,���{)�)�\u0006����8\t6�$e)�3�r��\u0018[�����;�\u0017\u000b",
      "m*���,q��\u0003[\u0002N\b9�\u00158&�c�\u0005��@D\u001b��\u0003�~4e\u0007\u0010\u001c",
      "C\t\u0015(gq\u001c",
      "�����T�ׁN\u00199+�ֵﴉ;f\u000b",
      "ދ������4M�L�\u0018>���\u0017�]�P�vW\u001c",
      "P�\r\n",
      "N�\u0001���\u001bmu�ˢ�\u001c",
      "��׷���\u0014�<�>Kf�ܯ�� N���Z�k]��I\u0010��K�r[�vrv���<!�IH�0I\u0016qB\t�$�o���o��\u0017�&Ͽ�\u0007G4�G�- O�Ηɿ\u0000\u0000\u0000��\u0003\u0000PK\u0001\u0002-\u0000\u0014\u0000\u0006\u0000\b\u0000\u0000\u0000!\u0000<��hq\u0001\u0000\u0000L\u0005\u0000\u0000\u0013\u0000\u0000\u0000\u0000\u0000\u0000\u0000\u0000\u0000\u0000\u0000\u0000\u0000\u0000\u0000\u0000\u0000[Content_Types].xmlPK\u0001\u0002-\u0000\u0014\u0000\u0006\u0000\b\u0000\u0000\u0000!\u0000}�T�\r",
      "\u0001\u0000\u0000�\u0002\u0000\u0000\u000b",
      "\u0000\u0000\u0000\u0000\u0000\u0000\u0000\u0000\u0000\u0000\u0000\u0000\u0000�\u0003\u0000\u0000_rels/.relsPK\u0001\u0002-\u0000\u0014\u0000\u0006\u0000\b\u0000\u0000\u0000!\u0000\u0013����\u0000\u0000\u0000G\u0003\u0000\u0000\u001a\u0000\u0000\u0000\u0000\u0000\u0000\u0000\u0000\u0000\u0000\u0000\u0000\u0000�\u0006\u0000\u0000xl/_rels/workbook.xml.relsPK\u0001\u0002-\u0000\u0014\u0000\u0006\u0000\b\u0000\u0000\u0000!\u0000��(g�\u0001\u0000\u0000-\u0003\u0000\u0000\u000f\u0000\u0000\u0000\u0000\u0000\u0000\u0000\u0000\u0000\u0000\u0000\u0000\u0000!\t\u0000\u0000xl/workbook.xmlPK\u0001\u0002-\u0000\u0014\u0000\u0006\u0000\b\u0000\u0000\u0000!\u0000\r",
      "O���\u0002\u0000\u0000�\r",
      "\u0000\u0000\r",
      "\u0000\u0000\u0000\u0000\u0000\u0000\u0000\u0000\u0000\u0000\u0000\u0000\u0000C\u000b",
      "\u0000\u0000xl/styles.xmlPK\u0001\u0002-\u0000\u0014\u0000\u0006\u0000\b\u0000\u0000\u0000!\u0000�M��\u0015\u0003\u0000\u0000\u0001\b\u0000\u0000\u0018\u0000\u0000\u0000\u0000\u0000\u0000\u0000\u0000\u0000\u0000\u0000\u0000\u0000T\u000e\u0000\u0000xl/worksheets/sheet2.xmlPK\u0001\u0002-\u0000\u0014\u0000\u0006\u0000\b\u0000\u0000\u0000!\u0000�z)�%\u0007\u0000\u0000�\u001d",
      "\u0000\u0000\u0013\u0000\u0000\u0000\u0000\u0000\u0000\u0000\u0000\u0000\u0000\u0000\u0000\u0000�\u0011\u0000\u0000xl/theme/theme1.xmlPK\u0001\u0002-\u0000\u0014\u0000\u0006\u0000\b\u0000\u0000\u0000!\u0000;\u0003��B\u0003\u0000\u0000L\b\u0000\u0000\u0018\u0000\u0000\u0000\u0000\u0000\u0000\u0000\u0000\u0000\u0000\u0000\u0000\u0000�\u0018\u0000\u0000xl/worksheets/sheet1.xmlPK\u0001\u0002-\u0000\r\n",
      "\u0000\u0000\u0000\u0000\u0000\u0000\u0000!\u0000�StԔZ\u0000\u0000�Z\u0000\u0000\u0017\u0000\u0000\u0000\u0000\u0000\u0000\u0000\u0000\u0000\u0000\u0000\u0000\u0000m\u001c",
      "\u0000\u0000docProps/thumbnail.jpegPK\u0001\u0002-\u0000\u0014\u0000\u0006\u0000\b\u0000\u0000\u0000!\u0000ֽ���\u0000\u0000\u0000Z\u0001\u0000\u0000\u0014\u0000\u0000\u0000\u0000\u0000\u0000\u0000\u0000\u0000\u0000\u0000\u0000\u00006w\u0000\u0000xl/sharedStrings.xmlPK\u0001\u0002-\u0000\u0014\u0000\u0006\u0000\b\u0000\u0000\u0000!\u0000\u001c",
      "�\u0019n�\u0001\u0000\u0000=\u0003\u0000\u0000\u0010\u0000\u0000\u0000\u0000\u0000\u0000\u0000\u0000\u0000\u0000\u0000\u0000\u0000.x\u0000\u0000docProps/app.xmlPK\u0001\u0002-\u0000\u0014\u0000\u0006\u0000\b\u0000\u0000\u0000!\u0000���X\u0001\u0000\u0000\u0002\u0000\u0000\u0011\u0000\u0000\u0000\u0000\u0000\u0000\u0000\u0000\u0000\u0000\u0000\u0000\u0000\u0007{\u0000\u0000docProps/core.xmlPK\u0005\u0006\u0000\u0000\u0000\u0000\f",
      "\u0000\f",
      "\u0000\u000b",
      "\u0003\u0000\u0000�}\u0000\u0000\u0000\u0000"
     ]
    }
   ],
   "source": [
    "cat data4.xlsx\n"
   ]
  },
  {
   "cell_type": "code",
   "execution_count": 104,
   "metadata": {},
   "outputs": [
    {
     "data": {
      "text/html": [
       "<div>\n",
       "<style scoped>\n",
       "    .dataframe tbody tr th:only-of-type {\n",
       "        vertical-align: middle;\n",
       "    }\n",
       "\n",
       "    .dataframe tbody tr th {\n",
       "        vertical-align: top;\n",
       "    }\n",
       "\n",
       "    .dataframe thead th {\n",
       "        text-align: right;\n",
       "    }\n",
       "</style>\n",
       "<table border=\"1\" class=\"dataframe\">\n",
       "  <thead>\n",
       "    <tr style=\"text-align: right;\">\n",
       "      <th></th>\n",
       "      <th>id</th>\n",
       "      <th>age</th>\n",
       "      <th>p</th>\n",
       "    </tr>\n",
       "  </thead>\n",
       "  <tbody>\n",
       "    <tr>\n",
       "      <th>0</th>\n",
       "      <td>1</td>\n",
       "      <td>11</td>\n",
       "      <td>21</td>\n",
       "    </tr>\n",
       "    <tr>\n",
       "      <th>1</th>\n",
       "      <td>2</td>\n",
       "      <td>12</td>\n",
       "      <td>22</td>\n",
       "    </tr>\n",
       "    <tr>\n",
       "      <th>2</th>\n",
       "      <td>3</td>\n",
       "      <td>13</td>\n",
       "      <td>23</td>\n",
       "    </tr>\n",
       "    <tr>\n",
       "      <th>3</th>\n",
       "      <td>4</td>\n",
       "      <td>14</td>\n",
       "      <td>24</td>\n",
       "    </tr>\n",
       "    <tr>\n",
       "      <th>4</th>\n",
       "      <td>5</td>\n",
       "      <td>15</td>\n",
       "      <td>25</td>\n",
       "    </tr>\n",
       "    <tr>\n",
       "      <th>5</th>\n",
       "      <td>6</td>\n",
       "      <td>16</td>\n",
       "      <td>26</td>\n",
       "    </tr>\n",
       "    <tr>\n",
       "      <th>6</th>\n",
       "      <td>7</td>\n",
       "      <td>17</td>\n",
       "      <td>27</td>\n",
       "    </tr>\n",
       "    <tr>\n",
       "      <th>7</th>\n",
       "      <td>8</td>\n",
       "      <td>18</td>\n",
       "      <td>28</td>\n",
       "    </tr>\n",
       "    <tr>\n",
       "      <th>8</th>\n",
       "      <td>9</td>\n",
       "      <td>19</td>\n",
       "      <td>29</td>\n",
       "    </tr>\n",
       "    <tr>\n",
       "      <th>9</th>\n",
       "      <td>10</td>\n",
       "      <td>20</td>\n",
       "      <td>30</td>\n",
       "    </tr>\n",
       "  </tbody>\n",
       "</table>\n",
       "</div>"
      ],
      "text/plain": [
       "   id  age   p\n",
       "0   1   11  21\n",
       "1   2   12  22\n",
       "2   3   13  23\n",
       "3   4   14  24\n",
       "4   5   15  25\n",
       "5   6   16  26\n",
       "6   7   17  27\n",
       "7   8   18  28\n",
       "8   9   19  29\n",
       "9  10   20  30"
      ]
     },
     "execution_count": 104,
     "metadata": {},
     "output_type": "execute_result"
    }
   ],
   "source": [
    "excel = pd.read_excel('data4.xlsx')\n",
    "excel"
   ]
  },
  {
   "cell_type": "code",
   "execution_count": 105,
   "metadata": {},
   "outputs": [
    {
     "data": {
      "text/html": [
       "<div>\n",
       "<style scoped>\n",
       "    .dataframe tbody tr th:only-of-type {\n",
       "        vertical-align: middle;\n",
       "    }\n",
       "\n",
       "    .dataframe tbody tr th {\n",
       "        vertical-align: top;\n",
       "    }\n",
       "\n",
       "    .dataframe thead th {\n",
       "        text-align: right;\n",
       "    }\n",
       "</style>\n",
       "<table border=\"1\" class=\"dataframe\">\n",
       "  <thead>\n",
       "    <tr style=\"text-align: right;\">\n",
       "      <th></th>\n",
       "      <th>id</th>\n",
       "      <th>age</th>\n",
       "      <th>p</th>\n",
       "    </tr>\n",
       "  </thead>\n",
       "  <tbody>\n",
       "    <tr>\n",
       "      <th>0</th>\n",
       "      <td>1</td>\n",
       "      <td>11</td>\n",
       "      <td>121</td>\n",
       "    </tr>\n",
       "    <tr>\n",
       "      <th>1</th>\n",
       "      <td>2</td>\n",
       "      <td>12</td>\n",
       "      <td>122</td>\n",
       "    </tr>\n",
       "    <tr>\n",
       "      <th>2</th>\n",
       "      <td>3</td>\n",
       "      <td>13</td>\n",
       "      <td>123</td>\n",
       "    </tr>\n",
       "    <tr>\n",
       "      <th>3</th>\n",
       "      <td>4</td>\n",
       "      <td>14</td>\n",
       "      <td>124</td>\n",
       "    </tr>\n",
       "    <tr>\n",
       "      <th>4</th>\n",
       "      <td>5</td>\n",
       "      <td>15</td>\n",
       "      <td>125</td>\n",
       "    </tr>\n",
       "    <tr>\n",
       "      <th>5</th>\n",
       "      <td>6</td>\n",
       "      <td>16</td>\n",
       "      <td>126</td>\n",
       "    </tr>\n",
       "    <tr>\n",
       "      <th>6</th>\n",
       "      <td>7</td>\n",
       "      <td>17</td>\n",
       "      <td>127</td>\n",
       "    </tr>\n",
       "    <tr>\n",
       "      <th>7</th>\n",
       "      <td>8</td>\n",
       "      <td>18</td>\n",
       "      <td>128</td>\n",
       "    </tr>\n",
       "    <tr>\n",
       "      <th>8</th>\n",
       "      <td>9</td>\n",
       "      <td>19</td>\n",
       "      <td>129</td>\n",
       "    </tr>\n",
       "    <tr>\n",
       "      <th>9</th>\n",
       "      <td>10</td>\n",
       "      <td>20</td>\n",
       "      <td>130</td>\n",
       "    </tr>\n",
       "  </tbody>\n",
       "</table>\n",
       "</div>"
      ],
      "text/plain": [
       "   id  age    p\n",
       "0   1   11  121\n",
       "1   2   12  122\n",
       "2   3   13  123\n",
       "3   4   14  124\n",
       "4   5   15  125\n",
       "5   6   16  126\n",
       "6   7   17  127\n",
       "7   8   18  128\n",
       "8   9   19  129\n",
       "9  10   20  130"
      ]
     },
     "execution_count": 105,
     "metadata": {},
     "output_type": "execute_result"
    }
   ],
   "source": [
    "excel = pd.read_excel('data4.xlsx', sheet_name='工作表2')\n",
    "excel"
   ]
  },
  {
   "cell_type": "code",
   "execution_count": 107,
   "metadata": {},
   "outputs": [
    {
     "data": {
      "image/png": "[encoded data removed]",
      "text/plain": [
       "<Figure size 432x288 with 1 Axes>"
      ]
     },
     "metadata": {
      "needs_background": "light"
     },
     "output_type": "display_data"
    }
   ],
   "source": [
    "pl = excel.plot(kind='scatter', x='age', y='p').get_figure()\n",
    "pl.savefig('1.jpg')"
   ]
  },
  {
   "cell_type": "code",
   "execution_count": 108,
   "metadata": {},
   "outputs": [
    {
     "data": {
      "text/html": [
       "<div>\n",
       "<style scoped>\n",
       "    .dataframe tbody tr th:only-of-type {\n",
       "        vertical-align: middle;\n",
       "    }\n",
       "\n",
       "    .dataframe tbody tr th {\n",
       "        vertical-align: top;\n",
       "    }\n",
       "\n",
       "    .dataframe thead th {\n",
       "        text-align: right;\n",
       "    }\n",
       "</style>\n",
       "<table border=\"1\" class=\"dataframe\">\n",
       "  <thead>\n",
       "    <tr style=\"text-align: right;\">\n",
       "      <th></th>\n",
       "      <th>a</th>\n",
       "      <th>b</th>\n",
       "      <th>c</th>\n",
       "      <th>d</th>\n",
       "    </tr>\n",
       "  </thead>\n",
       "  <tbody>\n",
       "    <tr>\n",
       "      <th>2019-07-01</th>\n",
       "      <td>0.590926</td>\n",
       "      <td>0.350909</td>\n",
       "      <td>0.447555</td>\n",
       "      <td>0.420055</td>\n",
       "    </tr>\n",
       "    <tr>\n",
       "      <th>2019-07-02</th>\n",
       "      <td>0.480515</td>\n",
       "      <td>0.820283</td>\n",
       "      <td>0.448496</td>\n",
       "      <td>0.416797</td>\n",
       "    </tr>\n",
       "    <tr>\n",
       "      <th>2019-07-03</th>\n",
       "      <td>0.845409</td>\n",
       "      <td>0.520283</td>\n",
       "      <td>0.095268</td>\n",
       "      <td>0.114282</td>\n",
       "    </tr>\n",
       "    <tr>\n",
       "      <th>2019-07-04</th>\n",
       "      <td>0.514740</td>\n",
       "      <td>0.384502</td>\n",
       "      <td>0.182193</td>\n",
       "      <td>0.916910</td>\n",
       "    </tr>\n",
       "    <tr>\n",
       "      <th>2019-07-05</th>\n",
       "      <td>0.631040</td>\n",
       "      <td>0.545507</td>\n",
       "      <td>0.368787</td>\n",
       "      <td>0.810962</td>\n",
       "    </tr>\n",
       "    <tr>\n",
       "      <th>2019-07-06</th>\n",
       "      <td>0.471751</td>\n",
       "      <td>0.912403</td>\n",
       "      <td>0.644166</td>\n",
       "      <td>0.633903</td>\n",
       "    </tr>\n",
       "  </tbody>\n",
       "</table>\n",
       "</div>"
      ],
      "text/plain": [
       "                   a         b         c         d\n",
       "2019-07-01  0.590926  0.350909  0.447555  0.420055\n",
       "2019-07-02  0.480515  0.820283  0.448496  0.416797\n",
       "2019-07-03  0.845409  0.520283  0.095268  0.114282\n",
       "2019-07-04  0.514740  0.384502  0.182193  0.916910\n",
       "2019-07-05  0.631040  0.545507  0.368787  0.810962\n",
       "2019-07-06  0.471751  0.912403  0.644166  0.633903"
      ]
     },
     "execution_count": 108,
     "metadata": {},
     "output_type": "execute_result"
    }
   ],
   "source": [
    "import numpy as np\n",
    "dates = pd.date_range('20190701', periods=6)\n",
    "df = pd.DataFrame(np.random.rand(6,4), index=dates, columns=list('abcd'))\n",
    "df\n",
    "\n",
    "\n"
   ]
  },
  {
   "cell_type": "code",
   "execution_count": 110,
   "metadata": {},
   "outputs": [
    {
     "data": {
      "image/png": "[encoded data removed]",
      "text/plain": [
       "<Figure size 432x288 with 1 Axes>"
      ]
     },
     "execution_count": 110,
     "metadata": {},
     "output_type": "execute_result"
    },
    {
     "data": {
      "image/png": "[encoded data removed]",
      "text/plain": [
       "<Figure size 432x288 with 1 Axes>"
      ]
     },
     "metadata": {
      "needs_background": "light"
     },
     "output_type": "display_data"
    }
   ],
   "source": [
    "pl = df.plot(kind='scatter', x='a', y='b').get_figure()\n",
    "pl.savefig('2.jpg')"
   ]
  },
  {
   "cell_type": "code",
   "execution_count": null,
   "metadata": {},
   "outputs": [],
   "source": []
  }
 ],
 "metadata": {
  "kernelspec": {
   "display_name": "Python 3",
   "language": "python",
   "name": "python3"
  },
  "language_info": {
   "codemirror_mode": {
    "name": "ipython",
    "version": 3
   },
   "file_extension": ".py",
   "mimetype": "text/x-python",
   "name": "python",
   "nbconvert_exporter": "python",
   "pygments_lexer": "ipython3",
   "version": "3.7.3"
  }
 },
 "nbformat": 4,
 "nbformat_minor": 2
}
