{
 "cells": [
  {
   "cell_type": "markdown",
   "metadata": {},
   "source": [
    "## 使用NaiveBayes分类器检测垃圾短信 ##\n",
    "\n",
    "数据集: https://archive.ics.uci.edu/ml/datasets/SMS+Spam+Collection\n",
    "\n",
    "通常而言, 垃圾短信包含一些特殊吸引眼球的单词, 例如‘free’, ‘win’, ’prize‘ 等等, 这些恰好是我们可以用于训练机器学习模型的好特征. 此任务为一个二元分类的任务, 短信的类别为‘Spam’(垃圾短信)或者‘Not Spam’(正常短信)两类. \n",
    "\n",
    "# 大纲\n",
    "\n",
    "此项目分为如下步骤:\n",
    "- 1.1: 分析短信数据\n",
    "- 1.2: 数据预处理\n",
    "- 2.1: 词袋(Bag of Words)模型\n",
    "- 2.2: 从头开始自己实现词袋(Bag of Words)模型\n",
    "- 2.3: 使用现成的scikit-learn中的词袋(Bag of Words)模型\n",
    "- 3.1: 准备训练和测试数据集\n",
    "- 3.2: 使用词袋模型处理短信数据集\n",
    "- 4.1: 理解Bayes理论\n",
    "- 4.2: 从头开始自己实现NaiveBayes分类器\n",
    "- 5:   使用现成的scikit-learn中的NaiveBayes分类器\n",
    "- 6:   结论\n",
    "\n"
   ]
  },
  {
   "cell_type": "markdown",
   "metadata": {},
   "source": [
    "### 1.1: 分析短信数据 ### \n",
    "\n",
    "\n",
    "数据来源于https://archive.ics.uci.edu/ml/datasets/SMS+Spam+Collection, 可以通过如下链接下载:(https://archive.ics.uci.edu/ml/machine-learning-databases/00228/).\n",
    "\n",
    "\n",
    " **部分数据:** \n",
    "\n",
    "<img src=\"images/dqnb.png\" height=\"1242\" width=\"1242\">\n",
    "\n",
    "数据包含两列, 第一列是每一条短信的标签‘ham’或者‘spam’. 第二列为短信文本.\n"
   ]
  },
  {
   "cell_type": "code",
   "execution_count": 3,
   "metadata": {},
   "outputs": [
    {
     "data": {
      "text/html": [
       "<div>\n",
       "<style scoped>\n",
       "    .dataframe tbody tr th:only-of-type {\n",
       "        vertical-align: middle;\n",
       "    }\n",
       "\n",
       "    .dataframe tbody tr th {\n",
       "        vertical-align: top;\n",
       "    }\n",
       "\n",
       "    .dataframe thead th {\n",
       "        text-align: right;\n",
       "    }\n",
       "</style>\n",
       "<table border=\"1\" class=\"dataframe\">\n",
       "  <thead>\n",
       "    <tr style=\"text-align: right;\">\n",
       "      <th></th>\n",
       "      <th>label</th>\n",
       "      <th>message</th>\n",
       "    </tr>\n",
       "  </thead>\n",
       "  <tbody>\n",
       "    <tr>\n",
       "      <th>0</th>\n",
       "      <td>ham</td>\n",
       "      <td>Go until jurong point, crazy.. Available only ...</td>\n",
       "    </tr>\n",
       "    <tr>\n",
       "      <th>1</th>\n",
       "      <td>ham</td>\n",
       "      <td>Ok lar... Joking wif u oni...</td>\n",
       "    </tr>\n",
       "    <tr>\n",
       "      <th>2</th>\n",
       "      <td>spam</td>\n",
       "      <td>Free entry in 2 a wkly comp to win FA Cup fina...</td>\n",
       "    </tr>\n",
       "    <tr>\n",
       "      <th>3</th>\n",
       "      <td>ham</td>\n",
       "      <td>U dun say so early hor... U c already then say...</td>\n",
       "    </tr>\n",
       "    <tr>\n",
       "      <th>4</th>\n",
       "      <td>ham</td>\n",
       "      <td>Nah I don't think he goes to usf, he lives aro...</td>\n",
       "    </tr>\n",
       "  </tbody>\n",
       "</table>\n",
       "</div>"
      ],
      "text/plain": [
       "  label                                            message\n",
       "0   ham  Go until jurong point, crazy.. Available only ...\n",
       "1   ham                      Ok lar... Joking wif u oni...\n",
       "2  spam  Free entry in 2 a wkly comp to win FA Cup fina...\n",
       "3   ham  U dun say so early hor... U c already then say...\n",
       "4   ham  Nah I don't think he goes to usf, he lives aro..."
      ]
     },
     "execution_count": 3,
     "metadata": {},
     "output_type": "execute_result"
    }
   ],
   "source": [
    "import pandas as pd\n",
    "df = pd.read_csv('smsspamcollection/SMSSpamCollection', sep='\\t', names=['label', 'message'])\n",
    "\n",
    "df.head()"
   ]
  },
  {
   "cell_type": "markdown",
   "metadata": {},
   "source": [
    "### 1.2: 数据预处理 ###\n",
    "\n",
    "将类别标签从字符串‘ham', ’spam'转换为数字 0 和 1.\n"
   ]
  },
  {
   "cell_type": "code",
   "execution_count": 4,
   "metadata": {},
   "outputs": [
    {
     "name": "stdout",
     "output_type": "stream",
     "text": [
      "(5572, 2)\n"
     ]
    },
    {
     "data": {
      "text/html": [
       "<div>\n",
       "<style scoped>\n",
       "    .dataframe tbody tr th:only-of-type {\n",
       "        vertical-align: middle;\n",
       "    }\n",
       "\n",
       "    .dataframe tbody tr th {\n",
       "        vertical-align: top;\n",
       "    }\n",
       "\n",
       "    .dataframe thead th {\n",
       "        text-align: right;\n",
       "    }\n",
       "</style>\n",
       "<table border=\"1\" class=\"dataframe\">\n",
       "  <thead>\n",
       "    <tr style=\"text-align: right;\">\n",
       "      <th></th>\n",
       "      <th>label</th>\n",
       "      <th>message</th>\n",
       "    </tr>\n",
       "  </thead>\n",
       "  <tbody>\n",
       "    <tr>\n",
       "      <th>0</th>\n",
       "      <td>0</td>\n",
       "      <td>Go until jurong point, crazy.. Available only ...</td>\n",
       "    </tr>\n",
       "    <tr>\n",
       "      <th>1</th>\n",
       "      <td>0</td>\n",
       "      <td>Ok lar... Joking wif u oni...</td>\n",
       "    </tr>\n",
       "    <tr>\n",
       "      <th>2</th>\n",
       "      <td>1</td>\n",
       "      <td>Free entry in 2 a wkly comp to win FA Cup fina...</td>\n",
       "    </tr>\n",
       "    <tr>\n",
       "      <th>3</th>\n",
       "      <td>0</td>\n",
       "      <td>U dun say so early hor... U c already then say...</td>\n",
       "    </tr>\n",
       "    <tr>\n",
       "      <th>4</th>\n",
       "      <td>0</td>\n",
       "      <td>Nah I don't think he goes to usf, he lives aro...</td>\n",
       "    </tr>\n",
       "  </tbody>\n",
       "</table>\n",
       "</div>"
      ],
      "text/plain": [
       "   label                                            message\n",
       "0      0  Go until jurong point, crazy.. Available only ...\n",
       "1      0                      Ok lar... Joking wif u oni...\n",
       "2      1  Free entry in 2 a wkly comp to win FA Cup fina...\n",
       "3      0  U dun say so early hor... U c already then say...\n",
       "4      0  Nah I don't think he goes to usf, he lives aro..."
      ]
     },
     "execution_count": 4,
     "metadata": {},
     "output_type": "execute_result"
    }
   ],
   "source": [
    "df['label'] = df.label.map({'ham':0, 'spam':1})\n",
    "print(df.shape)\n",
    "df.head()"
   ]
  },
  {
   "cell_type": "markdown",
   "metadata": {},
   "source": [
    "### 2.1: 词袋(Bag of Words)模型 ### \n",
    "\n",
    "词袋(Bag of Words)模型: 统计一段文字中出现的每一个单词的次数, 不考虑单词出现的顺序/位置.\n",
    "\n",
    "通过词袋模型, 我们可以将一个包含多个文本的数据集转换为一个矩阵, 矩阵的每一行对应一个文本, 每一列是某一个单词出现在当前这一文本中的次数.例如, 我们有如下四个文本:\n",
    "\n",
    "`['Hello, how are you!',\n",
    "'Win money, win from home.',\n",
    "'Call me now',\n",
    "'Hello, Call you tomorrow?']`\n",
    "\n",
    "通过词袋模型, 我们将它转换为如下矩阵:\n",
    "\n",
    "<img src=\"images/countvectorizer.png\" height=\"542\" width=\"542\">\n",
    "\n",
    "我们可以使用 sklearns 中的方法来实现这个操作 \n",
    "[count vectorizer](http://scikit-learn.org/stable/modules/generated/sklearn.feature_extraction.text.CountVectorizer.html#sklearn.feature_extraction.text.CountVectorizer) :\n",
    "\n",
    "* 首先将一段文字分为多个独立的单词, 使用一个整数代表每一个单词.\n",
    "* 计算每一个单词在这段文字中出现的次数.\n",
    "\n",
    "**注意:** \n",
    "\n",
    "* CountVectorizer 会把所有的单词自动转换为小写的形式, 所以 'He' 和 'he' 会被当作同一个单词. \n",
    "\n",
    "* 会去掉所有的标点符号, 例如'hello!'和'hello'会被当作一个单词. \n",
    "\n",
    "* 这个方法允许传入参数 `stop_words` , 用于指代需要去掉传入的语言中太常用的词. 例如英文中的'am', 'an', 'and', 'the' 等等. 如果将 `stop_words` 的值为 `english`, CountVectorizer 方法会自动使用scikit-learn自带的英文 `stop_words` 去掉英文中的常用词. 通常这些 `stop_words` 对于我们判断一个文本是否是垃圾短信没有帮助.\n"
   ]
  },
  {
   "cell_type": "markdown",
   "metadata": {},
   "source": [
    "### 2.2: 从头开始自己实现词袋(Bag of Words)模型 ###\n",
    "\n",
    "在使用 scikit-learn 内建的词袋(Bag of Words)库之前, 我们可以试着自己动手实现词袋模型. \n",
    "\n",
    "**1: 将所有的单词专为小写.**\n",
    "\n",
    "假设我们的文档如下:\n",
    "\n",
    "```python\n",
    "documents = ['Hello, how are you!',\n",
    "             'Win money, win from home.',\n",
    "             'Call me now.',\n",
    "             'Hello, Call hello you tomorrow?']\n",
    "```\n",
    "\n"
   ]
  },
  {
   "cell_type": "code",
   "execution_count": 5,
   "metadata": {},
   "outputs": [
    {
     "name": "stdout",
     "output_type": "stream",
     "text": [
      "['hello, how are you!', 'win money, win from home.', 'call me now.', 'hello, call hello you tomorrow?']\n"
     ]
    }
   ],
   "source": [
    "documents = ['Hello, how are you!',\n",
    "             'Win money, win from home.',\n",
    "             'Call me now.',\n",
    "             'Hello, Call hello you tomorrow?']\n",
    "\n",
    "lower_case_documents = []\n",
    "for i in documents:\n",
    "    lower_case_documents.append(i.lower())\n",
    "print(lower_case_documents)"
   ]
  },
  {
   "cell_type": "markdown",
   "metadata": {},
   "source": [
    "**2: 去掉标点符号**\n",
    "\n",
    " "
   ]
  },
  {
   "cell_type": "code",
   "execution_count": 6,
   "metadata": {},
   "outputs": [
    {
     "name": "stdout",
     "output_type": "stream",
     "text": [
      "['hello how are you', 'win money win from home', 'call me now', 'hello call hello you tomorrow']\n"
     ]
    }
   ],
   "source": [
    "sans_punctuation_documents = []\n",
    "import string\n",
    "\n",
    "for i in lower_case_documents:\n",
    "    sans_punctuation_documents.append(i.translate(str.maketrans('', '', string.punctuation)))\n",
    "    \n",
    "print(sans_punctuation_documents)"
   ]
  },
  {
   "cell_type": "markdown",
   "metadata": {},
   "source": [
    "**3: 将句子分割为多个单词**\n",
    "\n"
   ]
  },
  {
   "cell_type": "code",
   "execution_count": 7,
   "metadata": {},
   "outputs": [
    {
     "name": "stdout",
     "output_type": "stream",
     "text": [
      "[['hello', 'how', 'are', 'you'], ['win', 'money', 'win', 'from', 'home'], ['call', 'me', 'now'], ['hello', 'call', 'hello', 'you', 'tomorrow']]\n"
     ]
    }
   ],
   "source": [
    "preprocessed_documents = []\n",
    "for i in sans_punctuation_documents:\n",
    "    preprocessed_documents.append(i.split())\n",
    "print(preprocessed_documents)"
   ]
  },
  {
   "cell_type": "markdown",
   "metadata": {},
   "source": [
    "**4: 计算单词在每一个句子中出现的次数**"
   ]
  },
  {
   "cell_type": "code",
   "execution_count": 8,
   "metadata": {},
   "outputs": [
    {
     "name": "stdout",
     "output_type": "stream",
     "text": [
      "[Counter({'hello': 1, 'how': 1, 'are': 1, 'you': 1}),\n",
      " Counter({'win': 2, 'money': 1, 'from': 1, 'home': 1}),\n",
      " Counter({'call': 1, 'me': 1, 'now': 1}),\n",
      " Counter({'hello': 2, 'call': 1, 'you': 1, 'tomorrow': 1})]\n"
     ]
    }
   ],
   "source": [
    "frequency_list = []\n",
    "import pprint\n",
    "from collections import Counter\n",
    "\n",
    "for i in preprocessed_documents:\n",
    "    frequency_list.append(Counter(i))\n",
    "    \n",
    "pprint.pprint(frequency_list)"
   ]
  },
  {
   "cell_type": "markdown",
   "metadata": {},
   "source": [
    "以上就是scikit-learn中 `sklearn.feature_extraction.text.CountVectorizer` 方法的原理. 接下来我们是scikit-learn来完成同样的任务.\n"
   ]
  },
  {
   "cell_type": "markdown",
   "metadata": {},
   "source": [
    "### 2.3: 使用scikit-learn的词袋模型 ###\n",
    "\n"
   ]
  },
  {
   "cell_type": "code",
   "execution_count": 42,
   "metadata": {},
   "outputs": [],
   "source": [
    "documents = ['Hello, how are you!',\n",
    "                'Win money, win from home.',\n",
    "                'Call me now.',\n",
    "                'Hello, Call hello you tomorrow?']\n",
    "\n",
    "from sklearn.feature_extraction.text import CountVectorizer\n",
    "count_vector = CountVectorizer()"
   ]
  },
  {
   "cell_type": "markdown",
   "metadata": {},
   "source": [
    "**CountVectorizer()中的数据预处理**\n",
    "\n",
    "注意, CountVectorizer() 默认使用如下的数据预处理:\n",
    "\n",
    "* `lowercase = True`\n",
    "    \n",
    "    将所有单词专为小写.\n",
    "\n",
    "\n",
    "* `token_pattern = (?u)\\\\b\\\\w\\\\w+\\\\b`\n",
    "    \n",
    "    这个参数的意思是使用如上的正则表达式去掉所以的标点符号, 把标点符号的位置当作单词的分界点. 去掉长度小于2的单词.\n",
    "\n",
    "\n",
    "* `stop_words`\n",
    "\n",
    "        默认为 `None` 如果设为 `english` 则去掉所有的英文常用词, 考虑到我们的数据是短信, 每一个单词都非常重要, 我们就不去常用词了. "
   ]
  },
  {
   "cell_type": "code",
   "execution_count": 12,
   "metadata": {},
   "outputs": [
    {
     "name": "stdout",
     "output_type": "stream",
     "text": [
      "CountVectorizer(analyzer='word', binary=False, decode_error='strict',\n",
      "        dtype=<class 'numpy.int64'>, encoding='utf-8', input='content',\n",
      "        lowercase=True, max_df=1.0, max_features=None, min_df=1,\n",
      "        ngram_range=(1, 1), preprocessor=None, stop_words=None,\n",
      "        strip_accents=None, token_pattern='(?u)\\\\b\\\\w\\\\w+\\\\b',\n",
      "        tokenizer=None, vocabulary=None)\n"
     ]
    }
   ],
   "source": [
    "'''\n",
    "察看 'CountVectorizer() 的默认参数'\n",
    "'''\n",
    "print(count_vector)"
   ]
  },
  {
   "cell_type": "code",
   "execution_count": 15,
   "metadata": {},
   "outputs": [
    {
     "data": {
      "text/plain": [
       "['are',\n",
       " 'call',\n",
       " 'from',\n",
       " 'hello',\n",
       " 'home',\n",
       " 'how',\n",
       " 'me',\n",
       " 'money',\n",
       " 'now',\n",
       " 'tomorrow',\n",
       " 'win',\n",
       " 'you']"
      ]
     },
     "execution_count": 15,
     "metadata": {},
     "output_type": "execute_result"
    }
   ],
   "source": [
    "# 得到出现在数据集中的所有单词\n",
    "count_vector.fit(documents)\n",
    "count_vector.get_feature_names()"
   ]
  },
  {
   "cell_type": "code",
   "execution_count": 16,
   "metadata": {},
   "outputs": [
    {
     "data": {
      "text/plain": [
       "array([[1, 0, 0, 1, 0, 1, 0, 0, 0, 0, 0, 1],\n",
       "       [0, 0, 1, 0, 1, 0, 0, 1, 0, 0, 2, 0],\n",
       "       [0, 1, 0, 0, 0, 0, 1, 0, 1, 0, 0, 0],\n",
       "       [0, 1, 0, 2, 0, 0, 0, 0, 0, 1, 0, 1]])"
      ]
     },
     "execution_count": 16,
     "metadata": {},
     "output_type": "execute_result"
    }
   ],
   "source": [
    "# 将文本专为矩阵, 每一行对应一条短信文本, 每一列对应一个单词在短信中出现的次数\n",
    "doc_array = count_vector.transform(documents).toarray()\n",
    "doc_array"
   ]
  },
  {
   "cell_type": "markdown",
   "metadata": {},
   "source": [
    "我们可以把这个矩阵转为 panda.dataframe, 并且每一列标上单词, 以便察看."
   ]
  },
  {
   "cell_type": "code",
   "execution_count": 17,
   "metadata": {},
   "outputs": [
    {
     "data": {
      "text/html": [
       "<div>\n",
       "<style scoped>\n",
       "    .dataframe tbody tr th:only-of-type {\n",
       "        vertical-align: middle;\n",
       "    }\n",
       "\n",
       "    .dataframe tbody tr th {\n",
       "        vertical-align: top;\n",
       "    }\n",
       "\n",
       "    .dataframe thead th {\n",
       "        text-align: right;\n",
       "    }\n",
       "</style>\n",
       "<table border=\"1\" class=\"dataframe\">\n",
       "  <thead>\n",
       "    <tr style=\"text-align: right;\">\n",
       "      <th></th>\n",
       "      <th>are</th>\n",
       "      <th>call</th>\n",
       "      <th>from</th>\n",
       "      <th>hello</th>\n",
       "      <th>home</th>\n",
       "      <th>how</th>\n",
       "      <th>me</th>\n",
       "      <th>money</th>\n",
       "      <th>now</th>\n",
       "      <th>tomorrow</th>\n",
       "      <th>win</th>\n",
       "      <th>you</th>\n",
       "    </tr>\n",
       "  </thead>\n",
       "  <tbody>\n",
       "    <tr>\n",
       "      <th>0</th>\n",
       "      <td>1</td>\n",
       "      <td>0</td>\n",
       "      <td>0</td>\n",
       "      <td>1</td>\n",
       "      <td>0</td>\n",
       "      <td>1</td>\n",
       "      <td>0</td>\n",
       "      <td>0</td>\n",
       "      <td>0</td>\n",
       "      <td>0</td>\n",
       "      <td>0</td>\n",
       "      <td>1</td>\n",
       "    </tr>\n",
       "    <tr>\n",
       "      <th>1</th>\n",
       "      <td>0</td>\n",
       "      <td>0</td>\n",
       "      <td>1</td>\n",
       "      <td>0</td>\n",
       "      <td>1</td>\n",
       "      <td>0</td>\n",
       "      <td>0</td>\n",
       "      <td>1</td>\n",
       "      <td>0</td>\n",
       "      <td>0</td>\n",
       "      <td>2</td>\n",
       "      <td>0</td>\n",
       "    </tr>\n",
       "    <tr>\n",
       "      <th>2</th>\n",
       "      <td>0</td>\n",
       "      <td>1</td>\n",
       "      <td>0</td>\n",
       "      <td>0</td>\n",
       "      <td>0</td>\n",
       "      <td>0</td>\n",
       "      <td>1</td>\n",
       "      <td>0</td>\n",
       "      <td>1</td>\n",
       "      <td>0</td>\n",
       "      <td>0</td>\n",
       "      <td>0</td>\n",
       "    </tr>\n",
       "    <tr>\n",
       "      <th>3</th>\n",
       "      <td>0</td>\n",
       "      <td>1</td>\n",
       "      <td>0</td>\n",
       "      <td>2</td>\n",
       "      <td>0</td>\n",
       "      <td>0</td>\n",
       "      <td>0</td>\n",
       "      <td>0</td>\n",
       "      <td>0</td>\n",
       "      <td>1</td>\n",
       "      <td>0</td>\n",
       "      <td>1</td>\n",
       "    </tr>\n",
       "  </tbody>\n",
       "</table>\n",
       "</div>"
      ],
      "text/plain": [
       "   are  call  from  hello  home  how  me  money  now  tomorrow  win  you\n",
       "0    1     0     0      1     0    1   0      0    0         0    0    1\n",
       "1    0     0     1      0     1    0   0      1    0         0    2    0\n",
       "2    0     1     0      0     0    0   1      0    1         0    0    0\n",
       "3    0     1     0      2     0    0   0      0    0         1    0    1"
      ]
     },
     "execution_count": 17,
     "metadata": {},
     "output_type": "execute_result"
    }
   ],
   "source": [
    "frequency_matrix = pd.DataFrame(doc_array, columns=count_vector.get_feature_names())\n",
    "frequency_matrix"
   ]
  },
  {
   "cell_type": "markdown",
   "metadata": {},
   "source": [
    "注意我们没有去掉常用词, 例如 'are', 'is', 'the', 'an', 他们可能会影响预测. 为了解决这个问题, 有两种方案:\n",
    "\n",
    "1. 设置 `stop_words` 的值为 `english`, 去除常用词. \n",
    "\n",
    "2. 使用 [tfidf](http://scikit-learn.org/stable/modules/generated/sklearn.feature_extraction.text.TfidfVectorizer.html#sklearn.feature_extraction.text.TfidfVectorizer) 而不单单考虑单词出现的频率. "
   ]
  },
  {
   "cell_type": "markdown",
   "metadata": {},
   "source": [
    "### 3.1: 准备训练和测试数据集 ###\n",
    "\n"
   ]
  },
  {
   "cell_type": "code",
   "execution_count": 18,
   "metadata": {},
   "outputs": [
    {
     "name": "stdout",
     "output_type": "stream",
     "text": [
      "总的短信数量: 5572\n",
      "训练集的短信数量: 4179\n",
      "测试集的短信数量: 1393\n"
     ]
    }
   ],
   "source": [
    "from sklearn.model_selection import train_test_split\n",
    "\n",
    "X_train, X_test, y_train, y_test = train_test_split(df['message'], \n",
    "                                                    df['label'], \n",
    "                                                    random_state=1)\n",
    "\n",
    "print('总的短信数量: {}'.format(df.shape[0]))\n",
    "print('训练集的短信数量: {}'.format(X_train.shape[0]))\n",
    "print('测试集的短信数量: {}'.format(X_test.shape[0]))"
   ]
  },
  {
   "cell_type": "markdown",
   "metadata": {},
   "source": [
    "### 3.2: 使用词袋模型处理短信数据集 ###\n",
    "\n",
    "注意: 代码分为两步, 第一步使用训练数据集获取所有的单词集合, 同时将训练数据集转为矩阵. 第二步直接使用第一步获取的单词集合, 将测试数据集转为矩阵.\n"
   ]
  },
  {
   "cell_type": "code",
   "execution_count": 26,
   "metadata": {},
   "outputs": [
    {
     "name": "stdout",
     "output_type": "stream",
     "text": [
      "  (0, 1538)\t1\n",
      "  (0, 5189)\t1\n",
      "  (0, 6542)\t1\n",
      "  (0, 7405)\t1\n",
      "  (1, 1016)\t1\n",
      "  (1, 3050)\t1\n",
      "  (1, 4163)\t1\n",
      "  (1, 4238)\t1\n",
      "  (1, 4370)\t1\n",
      "  (1, 5200)\t1\n",
      "  (1, 6656)\t1\n",
      "  (1, 7407)\t1\n",
      "  (1, 7420)\t1\n"
     ]
    }
   ],
   "source": [
    "count_vector = CountVectorizer()\n",
    "training_data = count_vector.fit_transform(X_train)\n",
    "testing_data = count_vector.transform(X_test)\n",
    "print(testing_data[:2])"
   ]
  },
  {
   "cell_type": "markdown",
   "metadata": {},
   "source": [
    "### 4.1: 理解Bayes理论 ###\n",
    "\n",
    "我们使用一个简单的例子来理解Bayes理论.\n",
    "\n",
    "假设:\n",
    "\n",
    "`P(D)` 为任何一个人罹患糖尿病的概率, 假设其值为 `0.01`.\n",
    "\n",
    "`P(Pos)` 为任何一个人做糖尿病检测时, 结果为阳性的的概率.\n",
    "\n",
    "`P(Pos|D)` 为任何一个已经罹患糖尿病人做糖尿病检测时, 结果为阳性的的概率, 其值为 `0.9`.\n",
    "\n",
    "`P(Pos|~D)` 为任何一个没有罹患糖尿病人做糖尿病检测时, 结果为阳性的的概率, 其值为 `0.1`.\n",
    "\n",
    "求: 一个人检测结果为阳性的情况下, 这个人真正罹患糖尿病的概率P(D|Pos).\n",
    "\n",
    "贝叶斯公式如下:\n",
    "\n",
    "<img src=\"images/bayes_formula.png\" height=\"242\" width=\"242\">\n",
    "\n",
    "根据Bayes公式:\n",
    "\n",
    "`P(D|Pos) = P(Pos|D) * P(D) / P(Pos)`\n",
    "\n",
    "根据全概率公式:\n",
    "\n",
    "`P(Pos) = [P(D) * P(Pos|D)] + [P(~D) * P(Pos|~D)]`"
   ]
  },
  {
   "cell_type": "code",
   "execution_count": 44,
   "metadata": {},
   "outputs": [
    {
     "name": "stdout",
     "output_type": "stream",
     "text": [
      "任何一个人(无论是否罹患糖尿病)检测结果为阳性的概率 P(Pos): 0.10800000000000001\n",
      "一个人检测结果为阳性的情况下, 这个人真正罹患糖尿病的概率: 0.08333333333333333\n"
     ]
    }
   ],
   "source": [
    "# P(D)\n",
    "p_diabetes = 0.01\n",
    "\n",
    "# P(~D)\n",
    "p_no_diabetes = 0.99\n",
    "\n",
    "# P(Pos|D)\n",
    "p_pos_diabetes = 0.9\n",
    "\n",
    "# P(Pos|~D)\n",
    "p_pos_no_diabetes = 0.1\n",
    "\n",
    "# P(Pos)\n",
    "p_pos = (p_diabetes * p_pos_diabetes) + (p_no_diabetes * p_pos_no_diabetes)\n",
    "print('任何一个人(无论是否罹患糖尿病)检测结果为阳性的概率 P(Pos): {}'.format(p_pos))\n",
    "\n",
    "# P(D|Pos)\n",
    "p_diabetes_pos = (p_diabetes * p_pos_diabetes) / p_pos\n",
    "print('一个人检测结果为阳性的情况下, 这个人真正罹患糖尿病的概率:',format(p_diabetes_pos)) "
   ]
  },
  {
   "cell_type": "markdown",
   "metadata": {},
   "source": [
    "意味着即使被测出来为阳性, 真正罹患糖尿病的概率为 8.3%, 不要太担心, 需要再次复查确诊. 当然前提是我们假设只有 1% 的人真正有糖尿病."
   ]
  },
  {
   "cell_type": "markdown",
   "metadata": {},
   "source": [
    "**'Naive Bayes'(朴素贝叶斯)中的'Naive'(朴素)的意义 ?** \n",
    "\n",
    "'Naive'指预测的特征之间是独立的. 例如糖尿病的例子, 假设我们的除了检测结果是否为阳性, 还有另外一个特征是这个人的体重. 'Naive Bayes'在计算的时候假设‘检测结果是否为阳性’和‘体重’是独立的, 相互不影响. "
   ]
  },
  {
   "cell_type": "markdown",
   "metadata": {},
   "source": [
    "### 4.2: 从头开始自己实现NaiveBayes分类器 ###\n",
    "\n"
   ]
  },
  {
   "cell_type": "markdown",
   "metadata": {},
   "source": [
    "假设:\n",
    "\n",
    "* 假设正常短信出现单词'good'的概率: 0.7 -----> `P(g|h)`\n",
    "* 假设正常短信出现单词'free'的概率: 0.1 -----> `P(f|h)`\n",
    "* 假设正常短信出现单词'win'的概率: 0.2  -----> `P(w|h)`\n",
    "\n",
    "\n",
    "* 假设垃圾短信出现单词'good'的概率: 0.3 -----> `P(g|s)`\n",
    "* 假设垃圾短信出现单词'free'的概率: 0.9 -----> `P(f|s)`\n",
    "* 假设垃圾短信出现单词'win'的概率: 0.8  -----> `P(w|s)`\n",
    "\n",
    "\n",
    "假设正常短信和垃圾短信出现的概率分别为 `P(h) = 0.8`, `P(s) = 0.2` \n",
    "\n",
    "Naive Bayes 公式为:\n",
    "\n",
    "<img src=\"images/naivebayes.png\" height=\"342\" width=\"342\">\n",
    "\n",
    "求:\n",
    "\n",
    "一条短信出现了’free‘和’win', 这条短信为垃圾短信的概率?\n",
    "\n",
    "我们需要如下计算:\n",
    "\n",
    "* `P(s|f,w)`: 出现‘free’和‘win'的时候, 短信为垃圾短信的概率. \n",
    "\n",
    "* `P(s|f,w)` = `(P(s) * P(f|s) * P(w|s)) / P(f,w)`: 其中 `P(f,w)` 为一条短信中同时包含‘free'和’win'的概率.\n",
    "    \n",
    "* `P(f,w) = P(h) * P(f, w | h) + P(s) * P(f, w | s)`\n",
    "\n",
    "使用‘Naive’的方式, 认为 f, w 这两个特征是独立的\n",
    "* `P(f,w) = P(h) * P(f | h) * P(w | h) + P(s) * P(f | s) * P(w | s)`"
   ]
  },
  {
   "cell_type": "code",
   "execution_count": 45,
   "metadata": {},
   "outputs": [
    {
     "name": "stdout",
     "output_type": "stream",
     "text": [
      "短信同时出现free和win的概率:0.16000000000000003\n",
      "短信同时出现free和win时为垃圾短信的概率:0.8999999999999999\n"
     ]
    }
   ],
   "source": [
    "# P(s)\n",
    "p_s = 0.2\n",
    "\n",
    "# P(f/s)\n",
    "p_f_s = 0.9\n",
    "\n",
    "# P(w/s)\n",
    "p_w_s = 0.8\n",
    "\n",
    "# P(h)\n",
    "p_h = 0.8\n",
    "\n",
    "# P(f/h)\n",
    "p_f_h = 0.1\n",
    "\n",
    "# P(w|h)\n",
    "p_w_h = 0.2\n",
    "\n",
    "#`P(f,w) = P(h) * P(f, w | h) + P(s) * P(f, w | s)`\n",
    "p_fw = p_h * p_f_h * p_w_h + p_s * p_f_s * p_w_s\n",
    "print('短信同时出现free和win的概率:{0}'.format(p_fw))\n",
    "\n",
    "#`P(s|f,w)` = `(P(s) * P(f|s) * P(w|s)) / P(f,w)`\n",
    "p_s_fw = p_s * p_f_s * p_w_s / p_fw\n",
    "print('短信同时出现free和win时为垃圾短信的概率:{0}'.format(p_s_fw))"
   ]
  },
  {
   "cell_type": "markdown",
   "metadata": {},
   "source": [
    "### 5: 使用现成的scikit-learn中的NaiveBayes分类器 ###\n",
    "\n",
    "`sklearn.naive_bayes` 包含现成的方式实现NaiveBayes分类器, 其中分为两种情况, 一种是MultinomialNB, 用于特征为离散值的情况, 另一种为GuassianNB, 用于特征值为连续值的情况. "
   ]
  },
  {
   "cell_type": "code",
   "execution_count": 39,
   "metadata": {},
   "outputs": [
    {
     "data": {
      "text/plain": [
       "MultinomialNB(alpha=1.0, class_prior=None, fit_prior=True)"
      ]
     },
     "execution_count": 39,
     "metadata": {},
     "output_type": "execute_result"
    }
   ],
   "source": [
    "# 训练\n",
    "from sklearn.naive_bayes import MultinomialNB\n",
    "naive_bayes = MultinomialNB()\n",
    "naive_bayes.fit(training_data, y_train)"
   ]
  },
  {
   "cell_type": "code",
   "execution_count": 40,
   "metadata": {},
   "outputs": [],
   "source": [
    "# 预测\n",
    "predictions = naive_bayes.predict(testing_data)"
   ]
  },
  {
   "cell_type": "markdown",
   "metadata": {},
   "source": [
    "#### 评价模型性能 ####\n",
    "\n",
    "\n",
    "**Accuracy**: 分类器预测的结果为正确类别的数量占测试数据集中所有短信数量的百分比.\n",
    "\n",
    "**Precision**: 分类器预测为垃圾短信的短信中, 其真实情况为垃圾短信的百分比.\n",
    "为 true positives (真实垃圾短信, 被预测为垃圾短信) 除以所有被预测为垃圾短信的数量(无论是否为垃圾短信, 预测为垃圾短信的数量)\n",
    "\n",
    "`[True Positives/(True Positives + False Positives)]`\n",
    "\n",
    "**Recall(sensitivity)**: 测试数据集中所有真实垃圾短信被预测为垃圾短信的百分比.  \n",
    "为 true positives (真实垃圾短信, 被预测为垃圾短信) 除以所有垃圾短信的数量\n",
    "\n",
    "`[True Positives/(True Positives + False Negatives)]`\n",
    "\n",
    "**F1-Score**: 综合考虑 Precision 和 Recall 的情况, 取值范围为 0 到 1 之间, 越大越好.\n",
    "`2 * Precision * Recall / (Precision + Recall) `\n",
    "\n",
    "在类别不平衡的情况下, 例如100条短信只有 1 条为垃圾短信的情况下, **Accuracy**并不是好的评价指标, 因为只要盲目的预测任意短信为正常短信, **Accuracy**就为99%. 这时使用F1-Score是更好的选择.\n"
   ]
  },
  {
   "cell_type": "code",
   "execution_count": 41,
   "metadata": {},
   "outputs": [
    {
     "name": "stdout",
     "output_type": "stream",
     "text": [
      "Accuracy score:  0.9885139985642498\n",
      "Precision score:  0.9720670391061452\n",
      "Recall score:  0.9405405405405406\n",
      "F1 score:  0.9560439560439562\n"
     ]
    }
   ],
   "source": [
    "from sklearn.metrics import accuracy_score, precision_score, recall_score, f1_score\n",
    "print('Accuracy score: ', format(accuracy_score(y_test, predictions)))\n",
    "print('Precision score: ', format(precision_score(y_test, predictions)))\n",
    "print('Recall score: ', format(recall_score(y_test, predictions)))\n",
    "print('F1 score: ', format(f1_score(y_test, predictions)))"
   ]
  },
  {
   "cell_type": "markdown",
   "metadata": {
    "collapsed": true
   },
   "source": [
    "### 6. 结论 ###\n",
    "\n",
    "NaiveBayes分类器的优势\n",
    "* 1. 可以处理特征数量巨大的情况, 自然语言处理常常是这样的情况. \n",
    "* 2. 算法简单, 容易理解\n",
    "* 3. 不容易过拟合\n",
    "* 4. 训练时间短\n",
    "\n",
    "NaiveBayes分类器的不足:\n",
    "* 1. 假设特征之间是独立的, 可能在有的情况下这种假设会造成问题\n",
    "* 2. 需要足够多的数据才能获得特征比较准确的概率分布\n"
   ]
  },
  {
   "cell_type": "code",
   "execution_count": null,
   "metadata": {},
   "outputs": [],
   "source": []
  }
 ],
 "metadata": {
  "kernelspec": {
   "display_name": "Python 3",
   "language": "python",
   "name": "python3"
  },
  "language_info": {
   "codemirror_mode": {
    "name": "ipython",
    "version": 3
   },
   "file_extension": ".py",
   "mimetype": "text/x-python",
   "name": "python",
   "nbconvert_exporter": "python",
   "pygments_lexer": "ipython3",
   "version": "3.6.2"
  }
 },
 "nbformat": 4,
 "nbformat_minor": 1
}
